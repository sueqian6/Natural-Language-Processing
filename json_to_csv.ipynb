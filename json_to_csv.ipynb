{
  "nbformat": 4,
  "nbformat_minor": 0,
  "metadata": {
    "colab": {
      "name": "json_to_csv.ipynb",
      "provenance": []
    },
    "kernelspec": {
      "name": "python3",
      "display_name": "Python 3"
    }
  },
  "cells": [
    {
      "cell_type": "code",
      "metadata": {
        "id": "XA3kxHwlmM87"
      },
      "source": [
        "import json \r\n",
        "import csv \r\n",
        "  \r\n",
        "  \r\n",
        "# Opening JSON file and loading the data \r\n",
        "# into the variable data \r\n",
        "data = [json.loads(line) for line in open('train.json', 'r')]\r\n",
        "  \r\n",
        "\r\n",
        "  \r\n",
        "# now we will open a file for writing \r\n",
        "data_file = open('data_train_file.csv', 'w') \r\n",
        "  \r\n",
        "# create the csv writer object \r\n",
        "csv_writer = csv.writer(data_file) \r\n",
        "  \r\n",
        "# Counter variable used for writing  \r\n",
        "# headers to the CSV file \r\n",
        "count = 0\r\n",
        "  \r\n",
        "for emp in data: \r\n",
        "    if count == 0: \r\n",
        "  \r\n",
        "        # Writing headers of CSV file \r\n",
        "        header = emp.keys() \r\n",
        "        csv_writer.writerow(header) \r\n",
        "        count += 1\r\n",
        "  \r\n",
        "    # Writing data of CSV file \r\n",
        "    csv_writer.writerow(emp.values()) \r\n",
        "  \r\n",
        "data_file.close() "
      ],
      "execution_count": 12,
      "outputs": []
    },
    {
      "cell_type": "code",
      "metadata": {
        "id": "4XTSARZfmyA1"
      },
      "source": [
        ""
      ],
      "execution_count": null,
      "outputs": []
    }
  ]
}