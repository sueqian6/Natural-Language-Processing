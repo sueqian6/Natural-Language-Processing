{
  "nbformat": 4,
  "nbformat_minor": 0,
  "metadata": {
    "colab": {
      "name": "twitter_sentiment.ipynb",
      "version": "0.3.2",
      "provenance": [],
      "collapsed_sections": []
    },
    "kernelspec": {
      "name": "python3",
      "display_name": "Python 3"
    }
  },
  "cells": [
    {
      "metadata": {
        "id": "vulijzr0uTgA",
        "colab_type": "code",
        "colab": {
          "base_uri": "https://localhost:8080/",
          "height": 228
        },
        "outputId": "ee0e74f4-bb4c-4760-c9ed-d383dbd8ffaf"
      },
      "cell_type": "code",
      "source": [
        "!pip install tweepy==3.3.0"
      ],
      "execution_count": 7,
      "outputs": [
        {
          "output_type": "stream",
          "text": [
            "Collecting tweepy==3.3.0\n",
            "  Downloading https://files.pythonhosted.org/packages/cd/8b/dfeeb1057d37af810161f8206aa5a6e6e9351dd87ea6f84e4f87d7e3c8a3/tweepy-3.3.0-py2.py3-none-any.whl\n",
            "Requirement already satisfied: requests>=2.4.3 in /usr/local/lib/python3.6/dist-packages (from tweepy==3.3.0) (2.18.4)\n",
            "Requirement already satisfied: six>=1.7.3 in /usr/local/lib/python3.6/dist-packages (from tweepy==3.3.0) (1.11.0)\n",
            "Requirement already satisfied: requests-oauthlib>=0.4.1 in /usr/local/lib/python3.6/dist-packages (from tweepy==3.3.0) (1.0.0)\n",
            "Requirement already satisfied: idna<2.7,>=2.5 in /usr/local/lib/python3.6/dist-packages (from requests>=2.4.3->tweepy==3.3.0) (2.6)\n",
            "Requirement already satisfied: certifi>=2017.4.17 in /usr/local/lib/python3.6/dist-packages (from requests>=2.4.3->tweepy==3.3.0) (2018.8.24)\n",
            "Requirement already satisfied: urllib3<1.23,>=1.21.1 in /usr/local/lib/python3.6/dist-packages (from requests>=2.4.3->tweepy==3.3.0) (1.22)\n",
            "Requirement already satisfied: chardet<3.1.0,>=3.0.2 in /usr/local/lib/python3.6/dist-packages (from requests>=2.4.3->tweepy==3.3.0) (3.0.4)\n",
            "Requirement already satisfied: oauthlib>=0.6.2 in /usr/local/lib/python3.6/dist-packages (from requests-oauthlib>=0.4.1->tweepy==3.3.0) (2.1.0)\n",
            "Installing collected packages: tweepy\n",
            "Successfully installed tweepy-3.3.0\n"
          ],
          "name": "stdout"
        }
      ]
    },
    {
      "metadata": {
        "id": "6ibjiLpAu0tg",
        "colab_type": "code",
        "colab": {}
      },
      "cell_type": "code",
      "source": [
        "import tweepy\n",
        "from tweepy import OAuthHandler\n",
        " \n",
        "consumer_key = '3R6zq7xgMRvgHNLAduG0MUNrw'\n",
        "consumer_secret = 'pOouoGAC4LMjljWfGBhozTSskf2jUfXhPkHRqM1BRussa2SJmx'\n",
        "access_token = '852337040431525890-C5odBTYnkRTC6Ia4tJw0ZmbSAsZxOga'\n",
        "access_secret = 'yMf9lAumBhASeUyC2qXhdUOgC4LVu6Hyfwz3Wg7EGSNFb'\n",
        " \n",
        "auth = OAuthHandler(consumer_key, consumer_secret)\n",
        "auth.set_access_token(access_token, access_secret)\n",
        " \n",
        "api = tweepy.API(auth)"
      ],
      "execution_count": 0,
      "outputs": []
    },
    {
      "metadata": {
        "id": "utnqX2vuvQnh",
        "colab_type": "code",
        "colab": {
          "base_uri": "https://localhost:8080/",
          "height": 193
        },
        "outputId": "83a7836d-8d35-48d8-b675-1d971ab0476f"
      },
      "cell_type": "code",
      "source": [
        "#notive I'm restricting the number of tweets to 10 here\n",
        "for status in tweepy.Cursor(api.home_timeline).items(10):\n",
        "    # Process a single status\n",
        "    print(status.text)"
      ],
      "execution_count": 9,
      "outputs": [
        {
          "output_type": "stream",
          "text": [
            "THANK YOU IOWA &amp; NEBRASKA! VOTE, VOTE, VOTE! https://t.co/0pWiwCHGbh https://t.co/tzkiQ4IlEd\n",
            "Studebaker Museum in South Bend https://t.co/Odti9y0McC\n",
            "https://t.co/CPf3oxgdRX\n",
            "Beautiful evening in Iowa. GOD BLESS THE U.S.A.! #MAGA🇺🇸 https://t.co/Zi0rwyajrz\n",
            "RT @VP: Welcomed @NadiaMuradBasee to the @WhiteHouse today. @IvankaTrump &amp; I congratulated her on winning the #NobelpeacePrize. Nadia’s ded…\n",
            "Fall. https://t.co/vhmo9cao0b\n",
            "RT @fema: Flooding from Hurricane #Michael will affect several states. Finish preparations ASAP and get ready to shelter in a safe location…\n",
            "RT @FLOTUS: Thank you Egypt 🇪🇬 🇺🇸 https://t.co/7i0POn29XN\n",
            "RT @FLOTUS: Thank you Kenya 🇰🇪 🇺🇸 https://t.co/5FXP7Ki3Zw\n",
            ".@FLGovScott has been relentless in securing the funding to fix the algae problem from Lake Okeechobee - we will so… https://t.co/6XMMjQ0V4v\n"
          ],
          "name": "stdout"
        }
      ]
    },
    {
      "metadata": {
        "id": "pdvoTWa5xa40",
        "colab_type": "code",
        "colab": {
          "base_uri": "https://localhost:8080/",
          "height": 175
        },
        "outputId": "ed8a1639-de71-4e32-e4af-3b5281cd8974"
      },
      "cell_type": "code",
      "source": [
        "!pip install simplejson"
      ],
      "execution_count": 10,
      "outputs": [
        {
          "output_type": "stream",
          "text": [
            "Collecting simplejson\n",
            "\u001b[?25l  Downloading https://files.pythonhosted.org/packages/e3/24/c35fb1c1c315fc0fffe61ea00d3f88e85469004713dab488dee4f35b0aff/simplejson-3.16.0.tar.gz (81kB)\n",
            "\u001b[K    100% |████████████████████████████████| 81kB 4.3MB/s \n",
            "\u001b[?25hBuilding wheels for collected packages: simplejson\n",
            "  Running setup.py bdist_wheel for simplejson ... \u001b[?25l-\b \b\\\b \b|\b \bdone\n",
            "\u001b[?25h  Stored in directory: /root/.cache/pip/wheels/5d/1a/1e/0350bb3df3e74215cd91325344cc86c2c691f5306eb4d22c77\n",
            "Successfully built simplejson\n",
            "Installing collected packages: simplejson\n",
            "Successfully installed simplejson-3.16.0\n"
          ],
          "name": "stdout"
        }
      ]
    },
    {
      "metadata": {
        "id": "uZHygWFoxfs1",
        "colab_type": "code",
        "colab": {}
      },
      "cell_type": "code",
      "source": [
        "import simplejson as json"
      ],
      "execution_count": 0,
      "outputs": []
    },
    {
      "metadata": {
        "id": "dfkUG3RJvwFV",
        "colab_type": "code",
        "colab": {
          "base_uri": "https://localhost:8080/",
          "height": 213
        },
        "outputId": "a42c654b-1ef0-4417-e33d-42ed5eb803d4"
      },
      "cell_type": "code",
      "source": [
        "def process_or_store(tweet):\n",
        "    print(json.dumps(tweet))\n",
        "for status in tweepy.Cursor(api.home_timeline).items(10):\n",
        "    # Process a single status\n",
        "    process_or_store(status._json)"
      ],
      "execution_count": 12,
      "outputs": [
        {
          "output_type": "stream",
          "text": [
            "{\"created_at\": \"Wed Oct 10 01:23:49 +0000 2018\", \"id\": 1049832845592723457, \"id_str\": \"1049832845592723457\", \"text\": \"THANK YOU IOWA &amp; NEBRASKA! VOTE, VOTE, VOTE! https://t.co/0pWiwCHGbh https://t.co/tzkiQ4IlEd\", \"truncated\": false, \"entities\": {\"hashtags\": [], \"symbols\": [], \"user_mentions\": [], \"urls\": [{\"url\": \"https://t.co/0pWiwCHGbh\", \"expanded_url\": \"http://Vote.GOP\", \"display_url\": \"Vote.GOP\", \"indices\": [49, 72]}], \"media\": [{\"id\": 1049832792891129856, \"id_str\": \"1049832792891129856\", \"indices\": [73, 96], \"media_url\": \"http://pbs.twimg.com/media/DpHBXOXVAAAynHb.jpg\", \"media_url_https\": \"https://pbs.twimg.com/media/DpHBXOXVAAAynHb.jpg\", \"url\": \"https://t.co/tzkiQ4IlEd\", \"display_url\": \"pic.twitter.com/tzkiQ4IlEd\", \"expanded_url\": \"https://twitter.com/realDonaldTrump/status/1049832845592723457/photo/1\", \"type\": \"photo\", \"sizes\": {\"thumb\": {\"w\": 150, \"h\": 150, \"resize\": \"crop\"}, \"medium\": {\"w\": 1200, \"h\": 592, \"resize\": \"fit\"}, \"large\": {\"w\": 2048, \"h\": 1010, \"resize\": \"fit\"}, \"small\": {\"w\": 680, \"h\": 335, \"resize\": \"fit\"}}}]}, \"extended_entities\": {\"media\": [{\"id\": 1049832792891129856, \"id_str\": \"1049832792891129856\", \"indices\": [73, 96], \"media_url\": \"http://pbs.twimg.com/media/DpHBXOXVAAAynHb.jpg\", \"media_url_https\": \"https://pbs.twimg.com/media/DpHBXOXVAAAynHb.jpg\", \"url\": \"https://t.co/tzkiQ4IlEd\", \"display_url\": \"pic.twitter.com/tzkiQ4IlEd\", \"expanded_url\": \"https://twitter.com/realDonaldTrump/status/1049832845592723457/photo/1\", \"type\": \"photo\", \"sizes\": {\"thumb\": {\"w\": 150, \"h\": 150, \"resize\": \"crop\"}, \"medium\": {\"w\": 1200, \"h\": 592, \"resize\": \"fit\"}, \"large\": {\"w\": 2048, \"h\": 1010, \"resize\": \"fit\"}, \"small\": {\"w\": 680, \"h\": 335, \"resize\": \"fit\"}}}, {\"id\": 1049832792882741248, \"id_str\": \"1049832792882741248\", \"indices\": [73, 96], \"media_url\": \"http://pbs.twimg.com/media/DpHBXOVVAAA6QN5.jpg\", \"media_url_https\": \"https://pbs.twimg.com/media/DpHBXOVVAAA6QN5.jpg\", \"url\": \"https://t.co/tzkiQ4IlEd\", \"display_url\": \"pic.twitter.com/tzkiQ4IlEd\", \"expanded_url\": \"https://twitter.com/realDonaldTrump/status/1049832845592723457/photo/1\", \"type\": \"photo\", \"sizes\": {\"thumb\": {\"w\": 150, \"h\": 150, \"resize\": \"crop\"}, \"small\": {\"w\": 680, \"h\": 383, \"resize\": \"fit\"}, \"medium\": {\"w\": 1200, \"h\": 675, \"resize\": \"fit\"}, \"large\": {\"w\": 2048, \"h\": 1152, \"resize\": \"fit\"}}}, {\"id\": 1049832792886923264, \"id_str\": \"1049832792886923264\", \"indices\": [73, 96], \"media_url\": \"http://pbs.twimg.com/media/DpHBXOWU0AAsF8b.jpg\", \"media_url_https\": \"https://pbs.twimg.com/media/DpHBXOWU0AAsF8b.jpg\", \"url\": \"https://t.co/tzkiQ4IlEd\", \"display_url\": \"pic.twitter.com/tzkiQ4IlEd\", \"expanded_url\": \"https://twitter.com/realDonaldTrump/status/1049832845592723457/photo/1\", \"type\": \"photo\", \"sizes\": {\"small\": {\"w\": 680, \"h\": 342, \"resize\": \"fit\"}, \"thumb\": {\"w\": 150, \"h\": 150, \"resize\": \"crop\"}, \"medium\": {\"w\": 1200, \"h\": 604, \"resize\": \"fit\"}, \"large\": {\"w\": 2047, \"h\": 1031, \"resize\": \"fit\"}}}, {\"id\": 1049832792903757824, \"id_str\": \"1049832792903757824\", \"indices\": [73, 96], \"media_url\": \"http://pbs.twimg.com/media/DpHBXOaVsAAHMao.jpg\", \"media_url_https\": \"https://pbs.twimg.com/media/DpHBXOaVsAAHMao.jpg\", \"url\": \"https://t.co/tzkiQ4IlEd\", \"display_url\": \"pic.twitter.com/tzkiQ4IlEd\", \"expanded_url\": \"https://twitter.com/realDonaldTrump/status/1049832845592723457/photo/1\", \"type\": \"photo\", \"sizes\": {\"thumb\": {\"w\": 150, \"h\": 150, \"resize\": \"crop\"}, \"small\": {\"w\": 680, \"h\": 288, \"resize\": \"fit\"}, \"medium\": {\"w\": 1200, \"h\": 509, \"resize\": \"fit\"}, \"large\": {\"w\": 2047, \"h\": 868, \"resize\": \"fit\"}}}]}, \"source\": \"<a href=\\\"http://twitter.com/download/iphone\\\" rel=\\\"nofollow\\\">Twitter for iPhone</a>\", \"in_reply_to_status_id\": null, \"in_reply_to_status_id_str\": null, \"in_reply_to_user_id\": null, \"in_reply_to_user_id_str\": null, \"in_reply_to_screen_name\": null, \"user\": {\"id\": 25073877, \"id_str\": \"25073877\", \"name\": \"Donald J. Trump\", \"screen_name\": \"realDonaldTrump\", \"location\": \"Washington, DC\", \"description\": \"45th President of the United States of America\\ud83c\\uddfa\\ud83c\\uddf8\", \"url\": \"https://t.co/OMxB0xp8tD\", \"entities\": {\"url\": {\"urls\": [{\"url\": \"https://t.co/OMxB0xp8tD\", \"expanded_url\": \"http://www.Instagram.com/realDonaldTrump\", \"display_url\": \"Instagram.com/realDonaldTrump\", \"indices\": [0, 23]}]}, \"description\": {\"urls\": []}}, \"protected\": false, \"followers_count\": 54983328, \"friends_count\": 47, \"listed_count\": 94390, \"created_at\": \"Wed Mar 18 13:46:38 +0000 2009\", \"favourites_count\": 25, \"utc_offset\": null, \"time_zone\": null, \"geo_enabled\": true, \"verified\": true, \"statuses_count\": 39211, \"lang\": \"en\", \"contributors_enabled\": false, \"is_translator\": false, \"is_translation_enabled\": true, \"profile_background_color\": \"6D5C18\", \"profile_background_image_url\": \"http://abs.twimg.com/images/themes/theme1/bg.png\", \"profile_background_image_url_https\": \"https://abs.twimg.com/images/themes/theme1/bg.png\", \"profile_background_tile\": true, \"profile_image_url\": \"http://pbs.twimg.com/profile_images/874276197357596672/kUuht00m_normal.jpg\", \"profile_image_url_https\": \"https://pbs.twimg.com/profile_images/874276197357596672/kUuht00m_normal.jpg\", \"profile_banner_url\": \"https://pbs.twimg.com/profile_banners/25073877/1539117550\", \"profile_link_color\": \"1B95E0\", \"profile_sidebar_border_color\": \"BDDCAD\", \"profile_sidebar_fill_color\": \"C5CEC0\", \"profile_text_color\": \"333333\", \"profile_use_background_image\": true, \"has_extended_profile\": false, \"default_profile\": false, \"default_profile_image\": false, \"following\": true, \"follow_request_sent\": false, \"notifications\": false, \"translator_type\": \"regular\"}, \"geo\": null, \"coordinates\": null, \"place\": null, \"contributors\": null, \"is_quote_status\": false, \"retweet_count\": 3558, \"favorite_count\": 14205, \"favorited\": false, \"retweeted\": false, \"possibly_sensitive\": false, \"possibly_sensitive_appealable\": false, \"lang\": \"ht\"}\n",
            "{\"created_at\": \"Wed Oct 10 01:18:39 +0000 2018\", \"id\": 1049831543940804609, \"id_str\": \"1049831543940804609\", \"text\": \"Studebaker Museum in South Bend https://t.co/Odti9y0McC\", \"truncated\": false, \"entities\": {\"hashtags\": [], \"symbols\": [], \"user_mentions\": [], \"urls\": [], \"media\": [{\"id\": 1049831441410998272, \"id_str\": \"1049831441410998272\", \"indices\": [32, 55], \"media_url\": \"http://pbs.twimg.com/media/DpHAIjtWwAAM3WV.jpg\", \"media_url_https\": \"https://pbs.twimg.com/media/DpHAIjtWwAAM3WV.jpg\", \"url\": \"https://t.co/Odti9y0McC\", \"display_url\": \"pic.twitter.com/Odti9y0McC\", \"expanded_url\": \"https://twitter.com/elonmusk/status/1049831543940804609/photo/1\", \"type\": \"photo\", \"sizes\": {\"thumb\": {\"w\": 150, \"h\": 150, \"resize\": \"crop\"}, \"large\": {\"w\": 768, \"h\": 1024, \"resize\": \"fit\"}, \"small\": {\"w\": 510, \"h\": 680, \"resize\": \"fit\"}, \"medium\": {\"w\": 768, \"h\": 1024, \"resize\": \"fit\"}}}]}, \"extended_entities\": {\"media\": [{\"id\": 1049831441410998272, \"id_str\": \"1049831441410998272\", \"indices\": [32, 55], \"media_url\": \"http://pbs.twimg.com/media/DpHAIjtWwAAM3WV.jpg\", \"media_url_https\": \"https://pbs.twimg.com/media/DpHAIjtWwAAM3WV.jpg\", \"url\": \"https://t.co/Odti9y0McC\", \"display_url\": \"pic.twitter.com/Odti9y0McC\", \"expanded_url\": \"https://twitter.com/elonmusk/status/1049831543940804609/photo/1\", \"type\": \"photo\", \"sizes\": {\"thumb\": {\"w\": 150, \"h\": 150, \"resize\": \"crop\"}, \"large\": {\"w\": 768, \"h\": 1024, \"resize\": \"fit\"}, \"small\": {\"w\": 510, \"h\": 680, \"resize\": \"fit\"}, \"medium\": {\"w\": 768, \"h\": 1024, \"resize\": \"fit\"}}}, {\"id\": 1049831441402617857, \"id_str\": \"1049831441402617857\", \"indices\": [32, 55], \"media_url\": \"http://pbs.twimg.com/media/DpHAIjrW4AETcc8.jpg\", \"media_url_https\": \"https://pbs.twimg.com/media/DpHAIjrW4AETcc8.jpg\", \"url\": \"https://t.co/Odti9y0McC\", \"display_url\": \"pic.twitter.com/Odti9y0McC\", \"expanded_url\": \"https://twitter.com/elonmusk/status/1049831543940804609/photo/1\", \"type\": \"photo\", \"sizes\": {\"large\": {\"w\": 1024, \"h\": 768, \"resize\": \"fit\"}, \"thumb\": {\"w\": 150, \"h\": 150, \"resize\": \"crop\"}, \"small\": {\"w\": 680, \"h\": 510, \"resize\": \"fit\"}, \"medium\": {\"w\": 1024, \"h\": 768, \"resize\": \"fit\"}}}, {\"id\": 1049831441411043329, \"id_str\": \"1049831441411043329\", \"indices\": [32, 55], \"media_url\": \"http://pbs.twimg.com/media/DpHAIjtXcAEi7B1.jpg\", \"media_url_https\": \"https://pbs.twimg.com/media/DpHAIjtXcAEi7B1.jpg\", \"url\": \"https://t.co/Odti9y0McC\", \"display_url\": \"pic.twitter.com/Odti9y0McC\", \"expanded_url\": \"https://twitter.com/elonmusk/status/1049831543940804609/photo/1\", \"type\": \"photo\", \"sizes\": {\"thumb\": {\"w\": 150, \"h\": 150, \"resize\": \"crop\"}, \"large\": {\"w\": 766, \"h\": 1024, \"resize\": \"fit\"}, \"medium\": {\"w\": 766, \"h\": 1024, \"resize\": \"fit\"}, \"small\": {\"w\": 509, \"h\": 680, \"resize\": \"fit\"}}}]}, \"source\": \"<a href=\\\"http://twitter.com/download/iphone\\\" rel=\\\"nofollow\\\">Twitter for iPhone</a>\", \"in_reply_to_status_id\": null, \"in_reply_to_status_id_str\": null, \"in_reply_to_user_id\": null, \"in_reply_to_user_id_str\": null, \"in_reply_to_screen_name\": null, \"user\": {\"id\": 44196397, \"id_str\": \"44196397\", \"name\": \"Elon Musk\", \"screen_name\": \"elonmusk\", \"location\": \"\", \"description\": \"\", \"url\": null, \"entities\": {\"description\": {\"urls\": []}}, \"protected\": false, \"followers_count\": 22850242, \"friends_count\": 71, \"listed_count\": 46579, \"created_at\": \"Tue Jun 02 20:12:29 +0000 2009\", \"favourites_count\": 1662, \"utc_offset\": null, \"time_zone\": null, \"geo_enabled\": false, \"verified\": true, \"statuses_count\": 5645, \"lang\": \"en\", \"contributors_enabled\": false, \"is_translator\": false, \"is_translation_enabled\": false, \"profile_background_color\": \"C0DEED\", \"profile_background_image_url\": \"http://abs.twimg.com/images/themes/theme1/bg.png\", \"profile_background_image_url_https\": \"https://abs.twimg.com/images/themes/theme1/bg.png\", \"profile_background_tile\": false, \"profile_image_url\": \"http://pbs.twimg.com/profile_images/972170159614906369/0o9cdCOp_normal.jpg\", \"profile_image_url_https\": \"https://pbs.twimg.com/profile_images/972170159614906369/0o9cdCOp_normal.jpg\", \"profile_banner_url\": \"https://pbs.twimg.com/profile_banners/44196397/1354486475\", \"profile_link_color\": \"0084B4\", \"profile_sidebar_border_color\": \"C0DEED\", \"profile_sidebar_fill_color\": \"DDEEF6\", \"profile_text_color\": \"333333\", \"profile_use_background_image\": true, \"has_extended_profile\": false, \"default_profile\": false, \"default_profile_image\": false, \"following\": true, \"follow_request_sent\": false, \"notifications\": false, \"translator_type\": \"none\"}, \"geo\": null, \"coordinates\": null, \"place\": null, \"contributors\": null, \"is_quote_status\": false, \"retweet_count\": 1184, \"favorite_count\": 8139, \"favorited\": false, \"retweeted\": false, \"possibly_sensitive\": false, \"possibly_sensitive_appealable\": false, \"lang\": \"en\"}\n",
            "{\"created_at\": \"Wed Oct 10 01:18:12 +0000 2018\", \"id\": 1049831428115062790, \"id_str\": \"1049831428115062790\", \"text\": \"https://t.co/CPf3oxgdRX\", \"truncated\": false, \"entities\": {\"hashtags\": [], \"symbols\": [], \"user_mentions\": [], \"urls\": [{\"url\": \"https://t.co/CPf3oxgdRX\", \"expanded_url\": \"https://www.pscp.tv/w/bo1KczFvTlFsTFJub1dwUXd8MUx5eEJRblpseXBKTnlAd5Cgrmzk2pV_Hsh1a-BEIGY8FW6uzKp_nQZUGJiv?t=1h10m51s\", \"display_url\": \"pscp.tv/w/bo1KczFvTlFs\\u2026\", \"indices\": [0, 23]}]}, \"source\": \"<a href=\\\"http://twitter.com/download/iphone\\\" rel=\\\"nofollow\\\">Twitter for iPhone</a>\", \"in_reply_to_status_id\": null, \"in_reply_to_status_id_str\": null, \"in_reply_to_user_id\": null, \"in_reply_to_user_id_str\": null, \"in_reply_to_screen_name\": null, \"user\": {\"id\": 25073877, \"id_str\": \"25073877\", \"name\": \"Donald J. Trump\", \"screen_name\": \"realDonaldTrump\", \"location\": \"Washington, DC\", \"description\": \"45th President of the United States of America\\ud83c\\uddfa\\ud83c\\uddf8\", \"url\": \"https://t.co/OMxB0xp8tD\", \"entities\": {\"url\": {\"urls\": [{\"url\": \"https://t.co/OMxB0xp8tD\", \"expanded_url\": \"http://www.Instagram.com/realDonaldTrump\", \"display_url\": \"Instagram.com/realDonaldTrump\", \"indices\": [0, 23]}]}, \"description\": {\"urls\": []}}, \"protected\": false, \"followers_count\": 54983328, \"friends_count\": 47, \"listed_count\": 94390, \"created_at\": \"Wed Mar 18 13:46:38 +0000 2009\", \"favourites_count\": 25, \"utc_offset\": null, \"time_zone\": null, \"geo_enabled\": true, \"verified\": true, \"statuses_count\": 39211, \"lang\": \"en\", \"contributors_enabled\": false, \"is_translator\": false, \"is_translation_enabled\": true, \"profile_background_color\": \"6D5C18\", \"profile_background_image_url\": \"http://abs.twimg.com/images/themes/theme1/bg.png\", \"profile_background_image_url_https\": \"https://abs.twimg.com/images/themes/theme1/bg.png\", \"profile_background_tile\": true, \"profile_image_url\": \"http://pbs.twimg.com/profile_images/874276197357596672/kUuht00m_normal.jpg\", \"profile_image_url_https\": \"https://pbs.twimg.com/profile_images/874276197357596672/kUuht00m_normal.jpg\", \"profile_banner_url\": \"https://pbs.twimg.com/profile_banners/25073877/1539117550\", \"profile_link_color\": \"1B95E0\", \"profile_sidebar_border_color\": \"BDDCAD\", \"profile_sidebar_fill_color\": \"C5CEC0\", \"profile_text_color\": \"333333\", \"profile_use_background_image\": true, \"has_extended_profile\": false, \"default_profile\": false, \"default_profile_image\": false, \"following\": true, \"follow_request_sent\": false, \"notifications\": false, \"translator_type\": \"regular\"}, \"geo\": null, \"coordinates\": null, \"place\": null, \"contributors\": null, \"is_quote_status\": false, \"retweet_count\": 2730, \"favorite_count\": 9898, \"favorited\": false, \"retweeted\": false, \"possibly_sensitive\": false, \"possibly_sensitive_appealable\": false, \"lang\": \"und\"}\n",
            "{\"created_at\": \"Wed Oct 10 01:09:41 +0000 2018\", \"id\": 1049829285677203456, \"id_str\": \"1049829285677203456\", \"text\": \"Beautiful evening in Iowa. GOD BLESS THE U.S.A.! #MAGA\\ud83c\\uddfa\\ud83c\\uddf8 https://t.co/Zi0rwyajrz\", \"truncated\": false, \"entities\": {\"hashtags\": [{\"text\": \"MAGA\", \"indices\": [49, 54]}], \"symbols\": [], \"user_mentions\": [], \"urls\": [], \"media\": [{\"id\": 1049828137641463808, \"id_str\": \"1049828137641463808\", \"indices\": [57, 80], \"media_url\": \"http://pbs.twimg.com/ext_tw_video_thumb/1049828137641463808/pu/img/pVfeBDMdTKQ7aS1V.jpg\", \"media_url_https\": \"https://pbs.twimg.com/ext_tw_video_thumb/1049828137641463808/pu/img/pVfeBDMdTKQ7aS1V.jpg\", \"url\": \"https://t.co/Zi0rwyajrz\", \"display_url\": \"pic.twitter.com/Zi0rwyajrz\", \"expanded_url\": \"https://twitter.com/realDonaldTrump/status/1049829285677203456/video/1\", \"type\": \"photo\", \"sizes\": {\"thumb\": {\"w\": 150, \"h\": 150, \"resize\": \"crop\"}, \"medium\": {\"w\": 1200, \"h\": 675, \"resize\": \"fit\"}, \"small\": {\"w\": 680, \"h\": 383, \"resize\": \"fit\"}, \"large\": {\"w\": 1280, \"h\": 720, \"resize\": \"fit\"}}}]}, \"extended_entities\": {\"media\": [{\"id\": 1049828137641463808, \"id_str\": \"1049828137641463808\", \"indices\": [57, 80], \"media_url\": \"http://pbs.twimg.com/ext_tw_video_thumb/1049828137641463808/pu/img/pVfeBDMdTKQ7aS1V.jpg\", \"media_url_https\": \"https://pbs.twimg.com/ext_tw_video_thumb/1049828137641463808/pu/img/pVfeBDMdTKQ7aS1V.jpg\", \"url\": \"https://t.co/Zi0rwyajrz\", \"display_url\": \"pic.twitter.com/Zi0rwyajrz\", \"expanded_url\": \"https://twitter.com/realDonaldTrump/status/1049829285677203456/video/1\", \"type\": \"video\", \"sizes\": {\"thumb\": {\"w\": 150, \"h\": 150, \"resize\": \"crop\"}, \"medium\": {\"w\": 1200, \"h\": 675, \"resize\": \"fit\"}, \"small\": {\"w\": 680, \"h\": 383, \"resize\": \"fit\"}, \"large\": {\"w\": 1280, \"h\": 720, \"resize\": \"fit\"}}, \"video_info\": {\"aspect_ratio\": [16, 9], \"duration_millis\": 61200, \"variants\": [{\"bitrate\": 2176000, \"content_type\": \"video/mp4\", \"url\": \"https://video.twimg.com/ext_tw_video/1049828137641463808/pu/vid/1280x720/Xg2dL5035E0lkcsW.mp4?tag=5\"}, {\"bitrate\": 256000, \"content_type\": \"video/mp4\", \"url\": \"https://video.twimg.com/ext_tw_video/1049828137641463808/pu/vid/320x180/KzRQ1gGadyM7Kn39.mp4?tag=5\"}, {\"content_type\": \"application/x-mpegURL\", \"url\": \"https://video.twimg.com/ext_tw_video/1049828137641463808/pu/pl/B6JSIoyfBXfJ-n-2.m3u8?tag=5\"}, {\"bitrate\": 832000, \"content_type\": \"video/mp4\", \"url\": \"https://video.twimg.com/ext_tw_video/1049828137641463808/pu/vid/640x360/jCqzFlT4RZ21UK6u.mp4?tag=5\"}]}, \"additional_media_info\": {\"monetizable\": false}}]}, \"source\": \"<a href=\\\"http://twitter.com/download/iphone\\\" rel=\\\"nofollow\\\">Twitter for iPhone</a>\", \"in_reply_to_status_id\": null, \"in_reply_to_status_id_str\": null, \"in_reply_to_user_id\": null, \"in_reply_to_user_id_str\": null, \"in_reply_to_screen_name\": null, \"user\": {\"id\": 25073877, \"id_str\": \"25073877\", \"name\": \"Donald J. Trump\", \"screen_name\": \"realDonaldTrump\", \"location\": \"Washington, DC\", \"description\": \"45th President of the United States of America\\ud83c\\uddfa\\ud83c\\uddf8\", \"url\": \"https://t.co/OMxB0xp8tD\", \"entities\": {\"url\": {\"urls\": [{\"url\": \"https://t.co/OMxB0xp8tD\", \"expanded_url\": \"http://www.Instagram.com/realDonaldTrump\", \"display_url\": \"Instagram.com/realDonaldTrump\", \"indices\": [0, 23]}]}, \"description\": {\"urls\": []}}, \"protected\": false, \"followers_count\": 54983328, \"friends_count\": 47, \"listed_count\": 94390, \"created_at\": \"Wed Mar 18 13:46:38 +0000 2009\", \"favourites_count\": 25, \"utc_offset\": null, \"time_zone\": null, \"geo_enabled\": true, \"verified\": true, \"statuses_count\": 39211, \"lang\": \"en\", \"contributors_enabled\": false, \"is_translator\": false, \"is_translation_enabled\": true, \"profile_background_color\": \"6D5C18\", \"profile_background_image_url\": \"http://abs.twimg.com/images/themes/theme1/bg.png\", \"profile_background_image_url_https\": \"https://abs.twimg.com/images/themes/theme1/bg.png\", \"profile_background_tile\": true, \"profile_image_url\": \"http://pbs.twimg.com/profile_images/874276197357596672/kUuht00m_normal.jpg\", \"profile_image_url_https\": \"https://pbs.twimg.com/profile_images/874276197357596672/kUuht00m_normal.jpg\", \"profile_banner_url\": \"https://pbs.twimg.com/profile_banners/25073877/1539117550\", \"profile_link_color\": \"1B95E0\", \"profile_sidebar_border_color\": \"BDDCAD\", \"profile_sidebar_fill_color\": \"C5CEC0\", \"profile_text_color\": \"333333\", \"profile_use_background_image\": true, \"has_extended_profile\": false, \"default_profile\": false, \"default_profile_image\": false, \"following\": true, \"follow_request_sent\": false, \"notifications\": false, \"translator_type\": \"regular\"}, \"geo\": null, \"coordinates\": null, \"place\": null, \"contributors\": null, \"is_quote_status\": false, \"retweet_count\": 6204, \"favorite_count\": 24002, \"favorited\": false, \"retweeted\": false, \"possibly_sensitive\": false, \"possibly_sensitive_appealable\": false, \"lang\": \"en\"}\n",
            "{\"created_at\": \"Tue Oct 09 23:56:31 +0000 2018\", \"id\": 1049810875715084293, \"id_str\": \"1049810875715084293\", \"text\": \"RT @VP: Welcomed @NadiaMuradBasee to the @WhiteHouse today. @IvankaTrump &amp; I congratulated her on winning the #NobelpeacePrize. Nadia\\u2019s ded\\u2026\", \"truncated\": false, \"entities\": {\"hashtags\": [{\"text\": \"NobelpeacePrize\", \"indices\": [114, 130]}], \"symbols\": [], \"user_mentions\": [{\"screen_name\": \"VP\", \"name\": \"Vice President Mike Pence\", \"id\": 818910970567344128, \"id_str\": \"818910970567344128\", \"indices\": [3, 6]}, {\"screen_name\": \"NadiaMuradBasee\", \"name\": \"Nadia Murad\", \"id\": 4516255048, \"id_str\": \"4516255048\", \"indices\": [17, 33]}, {\"screen_name\": \"WhiteHouse\", \"name\": \"The White House\", \"id\": 822215673812119553, \"id_str\": \"822215673812119553\", \"indices\": [41, 52]}, {\"screen_name\": \"IvankaTrump\", \"name\": \"Ivanka Trump\", \"id\": 52544275, \"id_str\": \"52544275\", \"indices\": [60, 72]}], \"urls\": []}, \"source\": \"<a href=\\\"http://twitter.com/download/iphone\\\" rel=\\\"nofollow\\\">Twitter for iPhone</a>\", \"in_reply_to_status_id\": null, \"in_reply_to_status_id_str\": null, \"in_reply_to_user_id\": null, \"in_reply_to_user_id_str\": null, \"in_reply_to_screen_name\": null, \"user\": {\"id\": 52544275, \"id_str\": \"52544275\", \"name\": \"Ivanka Trump\", \"screen_name\": \"IvankaTrump\", \"location\": \"Washington, DC\", \"description\": \"Wife, mother, sister, daughter. Advisor to POTUS on job creation + economic empowerment, workforce development & entrepreneurship. Personal Pg. Views are my own\", \"url\": null, \"entities\": {\"description\": {\"urls\": []}}, \"protected\": false, \"followers_count\": 5830658, \"friends_count\": 1289, \"listed_count\": 20381, \"created_at\": \"Tue Jun 30 22:32:03 +0000 2009\", \"favourites_count\": 1401, \"utc_offset\": null, \"time_zone\": null, \"geo_enabled\": true, \"verified\": true, \"statuses_count\": 14742, \"lang\": \"en\", \"contributors_enabled\": false, \"is_translator\": false, \"is_translation_enabled\": false, \"profile_background_color\": \"C0DEED\", \"profile_background_image_url\": \"http://abs.twimg.com/images/themes/theme1/bg.png\", \"profile_background_image_url_https\": \"https://abs.twimg.com/images/themes/theme1/bg.png\", \"profile_background_tile\": true, \"profile_image_url\": \"http://pbs.twimg.com/profile_images/882351803441987585/HWNkH-EK_normal.jpg\", \"profile_image_url_https\": \"https://pbs.twimg.com/profile_images/882351803441987585/HWNkH-EK_normal.jpg\", \"profile_banner_url\": \"https://pbs.twimg.com/profile_banners/52544275/1482433261\", \"profile_link_color\": \"FF6872\", \"profile_sidebar_border_color\": \"000000\", \"profile_sidebar_fill_color\": \"DDEEF6\", \"profile_text_color\": \"333333\", \"profile_use_background_image\": true, \"has_extended_profile\": true, \"default_profile\": false, \"default_profile_image\": false, \"following\": true, \"follow_request_sent\": false, \"notifications\": false, \"translator_type\": \"none\"}, \"geo\": null, \"coordinates\": null, \"place\": null, \"contributors\": null, \"retweeted_status\": {\"created_at\": \"Tue Oct 09 21:56:37 +0000 2018\", \"id\": 1049780697999785984, \"id_str\": \"1049780697999785984\", \"text\": \"Welcomed @NadiaMuradBasee to the @WhiteHouse today. @IvankaTrump &amp; I congratulated her on winning the\\u2026 https://t.co/Crg3mcYLSi\", \"truncated\": true, \"entities\": {\"hashtags\": [], \"symbols\": [], \"user_mentions\": [{\"screen_name\": \"NadiaMuradBasee\", \"name\": \"Nadia Murad\", \"id\": 4516255048, \"id_str\": \"4516255048\", \"indices\": [9, 25]}, {\"screen_name\": \"WhiteHouse\", \"name\": \"The White House\", \"id\": 822215673812119553, \"id_str\": \"822215673812119553\", \"indices\": [33, 44]}, {\"screen_name\": \"IvankaTrump\", \"name\": \"Ivanka Trump\", \"id\": 52544275, \"id_str\": \"52544275\", \"indices\": [52, 64]}], \"urls\": [{\"url\": \"https://t.co/Crg3mcYLSi\", \"expanded_url\": \"https://twitter.com/i/web/status/1049780697999785984\", \"display_url\": \"twitter.com/i/web/status/1\\u2026\", \"indices\": [107, 130]}]}, \"source\": \"<a href=\\\"http://twitter.com/download/iphone\\\" rel=\\\"nofollow\\\">Twitter for iPhone</a>\", \"in_reply_to_status_id\": null, \"in_reply_to_status_id_str\": null, \"in_reply_to_user_id\": null, \"in_reply_to_user_id_str\": null, \"in_reply_to_screen_name\": null, \"user\": {\"id\": 818910970567344128, \"id_str\": \"818910970567344128\", \"name\": \"Vice President Mike Pence\", \"screen_name\": \"VP\", \"location\": \"Washington, D.C.\", \"description\": \"Vice President Mike Pence. Husband, father, & honored to serve as the 48th Vice President of the United States. Tweets may be archived: https://t.co/eVVzoBb3Zr\", \"url\": \"https://t.co/8TGZjBkuaR\", \"entities\": {\"url\": {\"urls\": [{\"url\": \"https://t.co/8TGZjBkuaR\", \"expanded_url\": \"http://Whitehouse.gov\", \"display_url\": \"Whitehouse.gov\", \"indices\": [0, 23]}]}, \"description\": {\"urls\": [{\"url\": \"https://t.co/eVVzoBb3Zr\", \"expanded_url\": \"http://wh.gov/privacy\", \"display_url\": \"wh.gov/privacy\", \"indices\": [136, 159]}]}}, \"protected\": false, \"followers_count\": 6647844, \"friends_count\": 11, \"listed_count\": 7842, \"created_at\": \"Tue Jan 10 20:02:44 +0000 2017\", \"favourites_count\": 11, \"utc_offset\": null, \"time_zone\": null, \"geo_enabled\": true, \"verified\": true, \"statuses_count\": 5160, \"lang\": \"en\", \"contributors_enabled\": false, \"is_translator\": false, \"is_translation_enabled\": false, \"profile_background_color\": \"F5F8FA\", \"profile_background_image_url\": null, \"profile_background_image_url_https\": null, \"profile_background_tile\": false, \"profile_image_url\": \"http://pbs.twimg.com/profile_images/951600999902281728/s-3S8iBE_normal.jpg\", \"profile_image_url_https\": \"https://pbs.twimg.com/profile_images/951600999902281728/s-3S8iBE_normal.jpg\", \"profile_banner_url\": \"https://pbs.twimg.com/profile_banners/818910970567344128/1536841409\", \"profile_link_color\": \"1DA1F2\", \"profile_sidebar_border_color\": \"C0DEED\", \"profile_sidebar_fill_color\": \"DDEEF6\", \"profile_text_color\": \"333333\", \"profile_use_background_image\": true, \"has_extended_profile\": false, \"default_profile\": true, \"default_profile_image\": false, \"following\": false, \"follow_request_sent\": false, \"notifications\": false, \"translator_type\": \"none\"}, \"geo\": null, \"coordinates\": null, \"place\": null, \"contributors\": null, \"is_quote_status\": false, \"retweet_count\": 767, \"favorite_count\": 3234, \"favorited\": false, \"retweeted\": false, \"possibly_sensitive\": false, \"possibly_sensitive_appealable\": false, \"lang\": \"en\"}, \"is_quote_status\": false, \"retweet_count\": 767, \"favorite_count\": 0, \"favorited\": false, \"retweeted\": false, \"lang\": \"en\"}\n",
            "{\"created_at\": \"Tue Oct 09 22:59:27 +0000 2018\", \"id\": 1049796512908304384, \"id_str\": \"1049796512908304384\", \"text\": \"Fall. https://t.co/vhmo9cao0b\", \"truncated\": false, \"entities\": {\"hashtags\": [], \"symbols\": [], \"user_mentions\": [], \"urls\": [], \"media\": [{\"id\": 1049796510928400385, \"id_str\": \"1049796510928400385\", \"indices\": [6, 29], \"media_url\": \"http://pbs.twimg.com/media/DpGgXVhU8AEw5is.jpg\", \"media_url_https\": \"https://pbs.twimg.com/media/DpGgXVhU8AEw5is.jpg\", \"url\": \"https://t.co/vhmo9cao0b\", \"display_url\": \"pic.twitter.com/vhmo9cao0b\", \"expanded_url\": \"https://twitter.com/Stanford/status/1049796512908304384/photo/1\", \"type\": \"photo\", \"sizes\": {\"thumb\": {\"w\": 150, \"h\": 150, \"resize\": \"crop\"}, \"large\": {\"w\": 1024, \"h\": 683, \"resize\": \"fit\"}, \"medium\": {\"w\": 1024, \"h\": 683, \"resize\": \"fit\"}, \"small\": {\"w\": 680, \"h\": 454, \"resize\": \"fit\"}}}]}, \"extended_entities\": {\"media\": [{\"id\": 1049796510928400385, \"id_str\": \"1049796510928400385\", \"indices\": [6, 29], \"media_url\": \"http://pbs.twimg.com/media/DpGgXVhU8AEw5is.jpg\", \"media_url_https\": \"https://pbs.twimg.com/media/DpGgXVhU8AEw5is.jpg\", \"url\": \"https://t.co/vhmo9cao0b\", \"display_url\": \"pic.twitter.com/vhmo9cao0b\", \"expanded_url\": \"https://twitter.com/Stanford/status/1049796512908304384/photo/1\", \"type\": \"photo\", \"sizes\": {\"thumb\": {\"w\": 150, \"h\": 150, \"resize\": \"crop\"}, \"large\": {\"w\": 1024, \"h\": 683, \"resize\": \"fit\"}, \"medium\": {\"w\": 1024, \"h\": 683, \"resize\": \"fit\"}, \"small\": {\"w\": 680, \"h\": 454, \"resize\": \"fit\"}}}]}, \"source\": \"<a href=\\\"https://www.sprinklr.com\\\" rel=\\\"nofollow\\\">Sprinklr</a>\", \"in_reply_to_status_id\": null, \"in_reply_to_status_id_str\": null, \"in_reply_to_user_id\": null, \"in_reply_to_user_id_str\": null, \"in_reply_to_screen_name\": null, \"user\": {\"id\": 18036441, \"id_str\": \"18036441\", \"name\": \"Stanford University\", \"screen_name\": \"Stanford\", \"location\": \"Stanford, CA\", \"description\": \"Stanford is one of the world's leading research and teaching institutions. Official Twitter feed by University Communications.\", \"url\": \"https://t.co/7oJaKddQMt\", \"entities\": {\"url\": {\"urls\": [{\"url\": \"https://t.co/7oJaKddQMt\", \"expanded_url\": \"http://stanford.edu/\", \"display_url\": \"stanford.edu\", \"indices\": [0, 23]}]}, \"description\": {\"urls\": []}}, \"protected\": false, \"followers_count\": 630324, \"friends_count\": 511, \"listed_count\": 6952, \"created_at\": \"Thu Dec 11 01:06:56 +0000 2008\", \"favourites_count\": 61, \"utc_offset\": null, \"time_zone\": null, \"geo_enabled\": false, \"verified\": true, \"statuses_count\": 18218, \"lang\": \"en\", \"contributors_enabled\": false, \"is_translator\": false, \"is_translation_enabled\": false, \"profile_background_color\": \"F6F3E5\", \"profile_background_image_url\": \"http://abs.twimg.com/images/themes/theme1/bg.png\", \"profile_background_image_url_https\": \"https://abs.twimg.com/images/themes/theme1/bg.png\", \"profile_background_tile\": false, \"profile_image_url\": \"http://pbs.twimg.com/profile_images/875395483128049664/8z_jvdLB_normal.jpg\", \"profile_image_url_https\": \"https://pbs.twimg.com/profile_images/875395483128049664/8z_jvdLB_normal.jpg\", \"profile_banner_url\": \"https://pbs.twimg.com/profile_banners/18036441/1403030942\", \"profile_link_color\": \"820000\", \"profile_sidebar_border_color\": \"FFFFFF\", \"profile_sidebar_fill_color\": \"DDCF99\", \"profile_text_color\": \"3F3C30\", \"profile_use_background_image\": false, \"has_extended_profile\": false, \"default_profile\": false, \"default_profile_image\": false, \"following\": true, \"follow_request_sent\": false, \"notifications\": false, \"translator_type\": \"none\"}, \"geo\": null, \"coordinates\": null, \"place\": null, \"contributors\": null, \"is_quote_status\": false, \"retweet_count\": 33, \"favorite_count\": 271, \"favorited\": false, \"retweeted\": false, \"possibly_sensitive\": false, \"possibly_sensitive_appealable\": false, \"lang\": \"en\"}\n",
            "{\"created_at\": \"Tue Oct 09 22:18:13 +0000 2018\", \"id\": 1049786137500217345, \"id_str\": \"1049786137500217345\", \"text\": \"RT @fema: Flooding from Hurricane #Michael will affect several states. Finish preparations ASAP and get ready to shelter in a safe location\\u2026\", \"truncated\": false, \"entities\": {\"hashtags\": [{\"text\": \"Michael\", \"indices\": [34, 42]}], \"symbols\": [], \"user_mentions\": [{\"screen_name\": \"fema\", \"name\": \"FEMA\", \"id\": 16669075, \"id_str\": \"16669075\", \"indices\": [3, 8]}], \"urls\": []}, \"source\": \"<a href=\\\"http://twitter.com/download/iphone\\\" rel=\\\"nofollow\\\">Twitter for iPhone</a>\", \"in_reply_to_status_id\": null, \"in_reply_to_status_id_str\": null, \"in_reply_to_user_id\": null, \"in_reply_to_user_id_str\": null, \"in_reply_to_screen_name\": null, \"user\": {\"id\": 25073877, \"id_str\": \"25073877\", \"name\": \"Donald J. Trump\", \"screen_name\": \"realDonaldTrump\", \"location\": \"Washington, DC\", \"description\": \"45th President of the United States of America\\ud83c\\uddfa\\ud83c\\uddf8\", \"url\": \"https://t.co/OMxB0xp8tD\", \"entities\": {\"url\": {\"urls\": [{\"url\": \"https://t.co/OMxB0xp8tD\", \"expanded_url\": \"http://www.Instagram.com/realDonaldTrump\", \"display_url\": \"Instagram.com/realDonaldTrump\", \"indices\": [0, 23]}]}, \"description\": {\"urls\": []}}, \"protected\": false, \"followers_count\": 54983328, \"friends_count\": 47, \"listed_count\": 94390, \"created_at\": \"Wed Mar 18 13:46:38 +0000 2009\", \"favourites_count\": 25, \"utc_offset\": null, \"time_zone\": null, \"geo_enabled\": true, \"verified\": true, \"statuses_count\": 39211, \"lang\": \"en\", \"contributors_enabled\": false, \"is_translator\": false, \"is_translation_enabled\": true, \"profile_background_color\": \"6D5C18\", \"profile_background_image_url\": \"http://abs.twimg.com/images/themes/theme1/bg.png\", \"profile_background_image_url_https\": \"https://abs.twimg.com/images/themes/theme1/bg.png\", \"profile_background_tile\": true, \"profile_image_url\": \"http://pbs.twimg.com/profile_images/874276197357596672/kUuht00m_normal.jpg\", \"profile_image_url_https\": \"https://pbs.twimg.com/profile_images/874276197357596672/kUuht00m_normal.jpg\", \"profile_banner_url\": \"https://pbs.twimg.com/profile_banners/25073877/1539117550\", \"profile_link_color\": \"1B95E0\", \"profile_sidebar_border_color\": \"BDDCAD\", \"profile_sidebar_fill_color\": \"C5CEC0\", \"profile_text_color\": \"333333\", \"profile_use_background_image\": true, \"has_extended_profile\": false, \"default_profile\": false, \"default_profile_image\": false, \"following\": true, \"follow_request_sent\": false, \"notifications\": false, \"translator_type\": \"regular\"}, \"geo\": null, \"coordinates\": null, \"place\": null, \"contributors\": null, \"retweeted_status\": {\"created_at\": \"Tue Oct 09 21:40:42 +0000 2018\", \"id\": 1049776694876356609, \"id_str\": \"1049776694876356609\", \"text\": \"Flooding from Hurricane #Michael will affect several states. Finish preparations ASAP and get ready to shelter in a\\u2026 https://t.co/nso1EfzJUs\", \"truncated\": true, \"entities\": {\"hashtags\": [{\"text\": \"Michael\", \"indices\": [24, 32]}], \"symbols\": [], \"user_mentions\": [], \"urls\": [{\"url\": \"https://t.co/nso1EfzJUs\", \"expanded_url\": \"https://twitter.com/i/web/status/1049776694876356609\", \"display_url\": \"twitter.com/i/web/status/1\\u2026\", \"indices\": [117, 140]}]}, \"source\": \"<a href=\\\"http://twitter.com/download/iphone\\\" rel=\\\"nofollow\\\">Twitter for iPhone</a>\", \"in_reply_to_status_id\": null, \"in_reply_to_status_id_str\": null, \"in_reply_to_user_id\": null, \"in_reply_to_user_id_str\": null, \"in_reply_to_screen_name\": null, \"user\": {\"id\": 16669075, \"id_str\": \"16669075\", \"name\": \"FEMA\", \"screen_name\": \"fema\", \"location\": \"United States\", \"description\": \"Our story of supporting citizens & first responders before, during, and after emergencies. For emergencies, call your local fire/EMS/police or 9-1-1.\", \"url\": \"https://t.co/pJoesev0fm\", \"entities\": {\"url\": {\"urls\": [{\"url\": \"https://t.co/pJoesev0fm\", \"expanded_url\": \"http://www.fema.gov/\", \"display_url\": \"fema.gov\", \"indices\": [0, 23]}]}, \"description\": {\"urls\": []}}, \"protected\": false, \"followers_count\": 730929, \"friends_count\": 680, \"listed_count\": 10823, \"created_at\": \"Thu Oct 09 16:54:20 +0000 2008\", \"favourites_count\": 3078, \"utc_offset\": null, \"time_zone\": null, \"geo_enabled\": true, \"verified\": true, \"statuses_count\": 14966, \"lang\": \"en\", \"contributors_enabled\": false, \"is_translator\": false, \"is_translation_enabled\": false, \"profile_background_color\": \"CCCCCC\", \"profile_background_image_url\": \"http://abs.twimg.com/images/themes/theme1/bg.png\", \"profile_background_image_url_https\": \"https://abs.twimg.com/images/themes/theme1/bg.png\", \"profile_background_tile\": false, \"profile_image_url\": \"http://pbs.twimg.com/profile_images/875380682637234176/Fw_Rx4T-_normal.jpg\", \"profile_image_url_https\": \"https://pbs.twimg.com/profile_images/875380682637234176/Fw_Rx4T-_normal.jpg\", \"profile_banner_url\": \"https://pbs.twimg.com/profile_banners/16669075/1530889653\", \"profile_link_color\": \"2A91B0\", \"profile_sidebar_border_color\": \"FFFFFF\", \"profile_sidebar_fill_color\": \"DCDCE0\", \"profile_text_color\": \"65686E\", \"profile_use_background_image\": true, \"has_extended_profile\": false, \"default_profile\": false, \"default_profile_image\": false, \"following\": false, \"follow_request_sent\": false, \"notifications\": false, \"translator_type\": \"none\"}, \"geo\": null, \"coordinates\": null, \"place\": null, \"contributors\": null, \"is_quote_status\": true, \"quoted_status_id\": 1049774539377401858, \"quoted_status_id_str\": \"1049774539377401858\", \"quoted_status\": {\"created_at\": \"Tue Oct 09 21:32:08 +0000 2018\", \"id\": 1049774539377401858, \"id_str\": \"1049774539377401858\", \"text\": \"Heavy rainfall from #Michael could produce life-threatening flash\\nflooding from the Florida Panhandle and Big Bend\\u2026 https://t.co/6TtEHI1GKA\", \"truncated\": true, \"entities\": {\"hashtags\": [{\"text\": \"Michael\", \"indices\": [20, 28]}], \"symbols\": [], \"user_mentions\": [], \"urls\": [{\"url\": \"https://t.co/6TtEHI1GKA\", \"expanded_url\": \"https://twitter.com/i/web/status/1049774539377401858\", \"display_url\": \"twitter.com/i/web/status/1\\u2026\", \"indices\": [116, 139]}]}, \"source\": \"<a href=\\\"http://twitter.com\\\" rel=\\\"nofollow\\\">Twitter Web Client</a>\", \"in_reply_to_status_id\": null, \"in_reply_to_status_id_str\": null, \"in_reply_to_user_id\": null, \"in_reply_to_user_id_str\": null, \"in_reply_to_screen_name\": null, \"user\": {\"id\": 299798272, \"id_str\": \"299798272\", \"name\": \"National Hurricane Center\", \"screen_name\": \"NHC_Atlantic\", \"location\": \"Miami, FL\", \"description\": \"This is the primary official Twitter account for the National Hurricane Center, focusing on the Atlantic basin. For more details: https://t.co/mRyGMdRYT3\", \"url\": \"http://t.co/5gzYJFziuU\", \"entities\": {\"url\": {\"urls\": [{\"url\": \"http://t.co/5gzYJFziuU\", \"expanded_url\": \"http://www.nhc.noaa.gov/\", \"display_url\": \"nhc.noaa.gov\", \"indices\": [0, 22]}]}, \"description\": {\"urls\": [{\"url\": \"https://t.co/mRyGMdRYT3\", \"expanded_url\": \"http://weather.gov/twitter\", \"display_url\": \"weather.gov/twitter\", \"indices\": [130, 153]}]}}, \"protected\": false, \"followers_count\": 528518, \"friends_count\": 70, \"listed_count\": 9459, \"created_at\": \"Mon May 16 17:59:24 +0000 2011\", \"favourites_count\": 4, \"utc_offset\": null, \"time_zone\": null, \"geo_enabled\": true, \"verified\": true, \"statuses_count\": 7259, \"lang\": \"en\", \"contributors_enabled\": false, \"is_translator\": false, \"is_translation_enabled\": false, \"profile_background_color\": \"C0DEED\", \"profile_background_image_url\": \"http://abs.twimg.com/images/themes/theme1/bg.png\", \"profile_background_image_url_https\": \"https://abs.twimg.com/images/themes/theme1/bg.png\", \"profile_background_tile\": false, \"profile_image_url\": \"http://pbs.twimg.com/profile_images/892736587397816320/nTDra-V-_normal.jpg\", \"profile_image_url_https\": \"https://pbs.twimg.com/profile_images/892736587397816320/nTDra-V-_normal.jpg\", \"profile_banner_url\": \"https://pbs.twimg.com/profile_banners/299798272/1361991526\", \"profile_link_color\": \"0084B4\", \"profile_sidebar_border_color\": \"C0DEED\", \"profile_sidebar_fill_color\": \"DDEEF6\", \"profile_text_color\": \"333333\", \"profile_use_background_image\": true, \"has_extended_profile\": false, \"default_profile\": false, \"default_profile_image\": false, \"following\": false, \"follow_request_sent\": false, \"notifications\": false, \"translator_type\": \"none\"}, \"geo\": null, \"coordinates\": null, \"place\": null, \"contributors\": null, \"is_quote_status\": false, \"retweet_count\": 442, \"favorite_count\": 650, \"favorited\": false, \"retweeted\": false, \"possibly_sensitive\": false, \"possibly_sensitive_appealable\": false, \"lang\": \"en\"}, \"retweet_count\": 2742, \"favorite_count\": 8491, \"favorited\": false, \"retweeted\": false, \"possibly_sensitive\": false, \"possibly_sensitive_appealable\": false, \"lang\": \"en\"}, \"is_quote_status\": true, \"quoted_status_id\": 1049774539377401858, \"quoted_status_id_str\": \"1049774539377401858\", \"retweet_count\": 2742, \"favorite_count\": 0, \"favorited\": false, \"retweeted\": false, \"lang\": \"en\"}\n",
            "{\"created_at\": \"Tue Oct 09 21:59:52 +0000 2018\", \"id\": 1049781519424712704, \"id_str\": \"1049781519424712704\", \"text\": \"RT @FLOTUS: Thank you Egypt \\ud83c\\uddea\\ud83c\\uddec \\ud83c\\uddfa\\ud83c\\uddf8 https://t.co/7i0POn29XN\", \"truncated\": false, \"entities\": {\"hashtags\": [], \"symbols\": [], \"user_mentions\": [{\"screen_name\": \"FLOTUS\", \"name\": \"Melania Trump\", \"id\": 818876014390603776, \"id_str\": \"818876014390603776\", \"indices\": [3, 10]}], \"urls\": [], \"media\": [{\"id\": 1049706901129183232, \"id_str\": \"1049706901129183232\", \"indices\": [34, 57], \"media_url\": \"http://pbs.twimg.com/ext_tw_video_thumb/1049706901129183232/pu/img/a8XTpFz9pF0yDAXM.jpg\", \"media_url_https\": \"https://pbs.twimg.com/ext_tw_video_thumb/1049706901129183232/pu/img/a8XTpFz9pF0yDAXM.jpg\", \"url\": \"https://t.co/7i0POn29XN\", \"display_url\": \"pic.twitter.com/7i0POn29XN\", \"expanded_url\": \"https://twitter.com/FLOTUS/status/1049707462822121472/video/1\", \"type\": \"photo\", \"sizes\": {\"thumb\": {\"w\": 150, \"h\": 150, \"resize\": \"crop\"}, \"medium\": {\"w\": 1200, \"h\": 675, \"resize\": \"fit\"}, \"small\": {\"w\": 680, \"h\": 383, \"resize\": \"fit\"}, \"large\": {\"w\": 1280, \"h\": 720, \"resize\": \"fit\"}}, \"source_status_id\": 1049707462822121472, \"source_status_id_str\": \"1049707462822121472\", \"source_user_id\": 818876014390603776, \"source_user_id_str\": \"818876014390603776\"}]}, \"extended_entities\": {\"media\": [{\"id\": 1049706901129183232, \"id_str\": \"1049706901129183232\", \"indices\": [34, 57], \"media_url\": \"http://pbs.twimg.com/ext_tw_video_thumb/1049706901129183232/pu/img/a8XTpFz9pF0yDAXM.jpg\", \"media_url_https\": \"https://pbs.twimg.com/ext_tw_video_thumb/1049706901129183232/pu/img/a8XTpFz9pF0yDAXM.jpg\", \"url\": \"https://t.co/7i0POn29XN\", \"display_url\": \"pic.twitter.com/7i0POn29XN\", \"expanded_url\": \"https://twitter.com/FLOTUS/status/1049707462822121472/video/1\", \"type\": \"video\", \"sizes\": {\"thumb\": {\"w\": 150, \"h\": 150, \"resize\": \"crop\"}, \"medium\": {\"w\": 1200, \"h\": 675, \"resize\": \"fit\"}, \"small\": {\"w\": 680, \"h\": 383, \"resize\": \"fit\"}, \"large\": {\"w\": 1280, \"h\": 720, \"resize\": \"fit\"}}, \"source_status_id\": 1049707462822121472, \"source_status_id_str\": \"1049707462822121472\", \"source_user_id\": 818876014390603776, \"source_user_id_str\": \"818876014390603776\", \"video_info\": {\"aspect_ratio\": [16, 9], \"duration_millis\": 47467, \"variants\": [{\"bitrate\": 256000, \"content_type\": \"video/mp4\", \"url\": \"https://video.twimg.com/ext_tw_video/1049706901129183232/pu/vid/320x180/mLlrayiISAxj_q1h.mp4?tag=5\"}, {\"content_type\": \"application/x-mpegURL\", \"url\": \"https://video.twimg.com/ext_tw_video/1049706901129183232/pu/pl/SiKRmpgX63EJZKO3.m3u8?tag=5\"}, {\"bitrate\": 2176000, \"content_type\": \"video/mp4\", \"url\": \"https://video.twimg.com/ext_tw_video/1049706901129183232/pu/vid/1280x720/WVcp1IQp-_u3ky8J.mp4?tag=5\"}, {\"bitrate\": 832000, \"content_type\": \"video/mp4\", \"url\": \"https://video.twimg.com/ext_tw_video/1049706901129183232/pu/vid/640x360/7LgpOcSbg-Ed3yiM.mp4?tag=5\"}]}, \"additional_media_info\": {\"monetizable\": false, \"source_user\": {\"id\": 818876014390603776, \"id_str\": \"818876014390603776\", \"name\": \"Melania Trump\", \"screen_name\": \"FLOTUS\", \"location\": \"Washington, D.C.\", \"description\": \"This account is run by the Office of First Lady Melania Trump. Tweets may be archived. More at https://t.co/eVVzoBb3Zr\", \"url\": \"https://t.co/9zG6ZvKVLm\", \"entities\": {\"url\": {\"urls\": [{\"url\": \"https://t.co/9zG6ZvKVLm\", \"expanded_url\": \"http://www.BeBest.gov\", \"display_url\": \"BeBest.gov\", \"indices\": [0, 23]}]}, \"description\": {\"urls\": [{\"url\": \"https://t.co/eVVzoBb3Zr\", \"expanded_url\": \"http://wh.gov/privacy\", \"display_url\": \"wh.gov/privacy\", \"indices\": [95, 118]}]}}, \"protected\": false, \"followers_count\": 11004429, \"friends_count\": 6, \"listed_count\": 6721, \"created_at\": \"Tue Jan 10 17:43:50 +0000 2017\", \"favourites_count\": 0, \"utc_offset\": null, \"time_zone\": null, \"geo_enabled\": false, \"verified\": true, \"statuses_count\": 387, \"lang\": \"en\", \"contributors_enabled\": false, \"is_translator\": false, \"is_translation_enabled\": false, \"profile_background_color\": \"F5F8FA\", \"profile_background_image_url\": null, \"profile_background_image_url_https\": null, \"profile_background_tile\": false, \"profile_image_url\": \"http://pbs.twimg.com/profile_images/848946510918295557/RmsOl1zv_normal.jpg\", \"profile_image_url_https\": \"https://pbs.twimg.com/profile_images/848946510918295557/RmsOl1zv_normal.jpg\", \"profile_banner_url\": \"https://pbs.twimg.com/profile_banners/818876014390603776/1484852402\", \"profile_link_color\": \"1DA1F2\", \"profile_sidebar_border_color\": \"C0DEED\", \"profile_sidebar_fill_color\": \"DDEEF6\", \"profile_text_color\": \"333333\", \"profile_use_background_image\": true, \"has_extended_profile\": false, \"default_profile\": true, \"default_profile_image\": false, \"following\": false, \"follow_request_sent\": false, \"notifications\": false, \"translator_type\": \"none\"}}}]}, \"source\": \"<a href=\\\"http://twitter.com/download/iphone\\\" rel=\\\"nofollow\\\">Twitter for iPhone</a>\", \"in_reply_to_status_id\": null, \"in_reply_to_status_id_str\": null, \"in_reply_to_user_id\": null, \"in_reply_to_user_id_str\": null, \"in_reply_to_screen_name\": null, \"user\": {\"id\": 25073877, \"id_str\": \"25073877\", \"name\": \"Donald J. Trump\", \"screen_name\": \"realDonaldTrump\", \"location\": \"Washington, DC\", \"description\": \"45th President of the United States of America\\ud83c\\uddfa\\ud83c\\uddf8\", \"url\": \"https://t.co/OMxB0xp8tD\", \"entities\": {\"url\": {\"urls\": [{\"url\": \"https://t.co/OMxB0xp8tD\", \"expanded_url\": \"http://www.Instagram.com/realDonaldTrump\", \"display_url\": \"Instagram.com/realDonaldTrump\", \"indices\": [0, 23]}]}, \"description\": {\"urls\": []}}, \"protected\": false, \"followers_count\": 54983328, \"friends_count\": 47, \"listed_count\": 94390, \"created_at\": \"Wed Mar 18 13:46:38 +0000 2009\", \"favourites_count\": 25, \"utc_offset\": null, \"time_zone\": null, \"geo_enabled\": true, \"verified\": true, \"statuses_count\": 39211, \"lang\": \"en\", \"contributors_enabled\": false, \"is_translator\": false, \"is_translation_enabled\": true, \"profile_background_color\": \"6D5C18\", \"profile_background_image_url\": \"http://abs.twimg.com/images/themes/theme1/bg.png\", \"profile_background_image_url_https\": \"https://abs.twimg.com/images/themes/theme1/bg.png\", \"profile_background_tile\": true, \"profile_image_url\": \"http://pbs.twimg.com/profile_images/874276197357596672/kUuht00m_normal.jpg\", \"profile_image_url_https\": \"https://pbs.twimg.com/profile_images/874276197357596672/kUuht00m_normal.jpg\", \"profile_banner_url\": \"https://pbs.twimg.com/profile_banners/25073877/1539117550\", \"profile_link_color\": \"1B95E0\", \"profile_sidebar_border_color\": \"BDDCAD\", \"profile_sidebar_fill_color\": \"C5CEC0\", \"profile_text_color\": \"333333\", \"profile_use_background_image\": true, \"has_extended_profile\": false, \"default_profile\": false, \"default_profile_image\": false, \"following\": true, \"follow_request_sent\": false, \"notifications\": false, \"translator_type\": \"regular\"}, \"geo\": null, \"coordinates\": null, \"place\": null, \"contributors\": null, \"retweeted_status\": {\"created_at\": \"Tue Oct 09 17:05:36 +0000 2018\", \"id\": 1049707462822121472, \"id_str\": \"1049707462822121472\", \"text\": \"Thank you Egypt \\ud83c\\uddea\\ud83c\\uddec \\ud83c\\uddfa\\ud83c\\uddf8 https://t.co/7i0POn29XN\", \"truncated\": false, \"entities\": {\"hashtags\": [], \"symbols\": [], \"user_mentions\": [], \"urls\": [], \"media\": [{\"id\": 1049706901129183232, \"id_str\": \"1049706901129183232\", \"indices\": [22, 45], \"media_url\": \"http://pbs.twimg.com/ext_tw_video_thumb/1049706901129183232/pu/img/a8XTpFz9pF0yDAXM.jpg\", \"media_url_https\": \"https://pbs.twimg.com/ext_tw_video_thumb/1049706901129183232/pu/img/a8XTpFz9pF0yDAXM.jpg\", \"url\": \"https://t.co/7i0POn29XN\", \"display_url\": \"pic.twitter.com/7i0POn29XN\", \"expanded_url\": \"https://twitter.com/FLOTUS/status/1049707462822121472/video/1\", \"type\": \"photo\", \"sizes\": {\"thumb\": {\"w\": 150, \"h\": 150, \"resize\": \"crop\"}, \"medium\": {\"w\": 1200, \"h\": 675, \"resize\": \"fit\"}, \"small\": {\"w\": 680, \"h\": 383, \"resize\": \"fit\"}, \"large\": {\"w\": 1280, \"h\": 720, \"resize\": \"fit\"}}}]}, \"extended_entities\": {\"media\": [{\"id\": 1049706901129183232, \"id_str\": \"1049706901129183232\", \"indices\": [22, 45], \"media_url\": \"http://pbs.twimg.com/ext_tw_video_thumb/1049706901129183232/pu/img/a8XTpFz9pF0yDAXM.jpg\", \"media_url_https\": \"https://pbs.twimg.com/ext_tw_video_thumb/1049706901129183232/pu/img/a8XTpFz9pF0yDAXM.jpg\", \"url\": \"https://t.co/7i0POn29XN\", \"display_url\": \"pic.twitter.com/7i0POn29XN\", \"expanded_url\": \"https://twitter.com/FLOTUS/status/1049707462822121472/video/1\", \"type\": \"video\", \"sizes\": {\"thumb\": {\"w\": 150, \"h\": 150, \"resize\": \"crop\"}, \"medium\": {\"w\": 1200, \"h\": 675, \"resize\": \"fit\"}, \"small\": {\"w\": 680, \"h\": 383, \"resize\": \"fit\"}, \"large\": {\"w\": 1280, \"h\": 720, \"resize\": \"fit\"}}, \"video_info\": {\"aspect_ratio\": [16, 9], \"duration_millis\": 47467, \"variants\": [{\"bitrate\": 256000, \"content_type\": \"video/mp4\", \"url\": \"https://video.twimg.com/ext_tw_video/1049706901129183232/pu/vid/320x180/mLlrayiISAxj_q1h.mp4?tag=5\"}, {\"content_type\": \"application/x-mpegURL\", \"url\": \"https://video.twimg.com/ext_tw_video/1049706901129183232/pu/pl/SiKRmpgX63EJZKO3.m3u8?tag=5\"}, {\"bitrate\": 2176000, \"content_type\": \"video/mp4\", \"url\": \"https://video.twimg.com/ext_tw_video/1049706901129183232/pu/vid/1280x720/WVcp1IQp-_u3ky8J.mp4?tag=5\"}, {\"bitrate\": 832000, \"content_type\": \"video/mp4\", \"url\": \"https://video.twimg.com/ext_tw_video/1049706901129183232/pu/vid/640x360/7LgpOcSbg-Ed3yiM.mp4?tag=5\"}]}, \"additional_media_info\": {\"monetizable\": false}}]}, \"source\": \"<a href=\\\"http://twitter.com/download/iphone\\\" rel=\\\"nofollow\\\">Twitter for iPhone</a>\", \"in_reply_to_status_id\": null, \"in_reply_to_status_id_str\": null, \"in_reply_to_user_id\": null, \"in_reply_to_user_id_str\": null, \"in_reply_to_screen_name\": null, \"user\": {\"id\": 818876014390603776, \"id_str\": \"818876014390603776\", \"name\": \"Melania Trump\", \"screen_name\": \"FLOTUS\", \"location\": \"Washington, D.C.\", \"description\": \"This account is run by the Office of First Lady Melania Trump. Tweets may be archived. More at https://t.co/eVVzoBb3Zr\", \"url\": \"https://t.co/9zG6ZvKVLm\", \"entities\": {\"url\": {\"urls\": [{\"url\": \"https://t.co/9zG6ZvKVLm\", \"expanded_url\": \"http://www.BeBest.gov\", \"display_url\": \"BeBest.gov\", \"indices\": [0, 23]}]}, \"description\": {\"urls\": [{\"url\": \"https://t.co/eVVzoBb3Zr\", \"expanded_url\": \"http://wh.gov/privacy\", \"display_url\": \"wh.gov/privacy\", \"indices\": [95, 118]}]}}, \"protected\": false, \"followers_count\": 11004429, \"friends_count\": 6, \"listed_count\": 6721, \"created_at\": \"Tue Jan 10 17:43:50 +0000 2017\", \"favourites_count\": 0, \"utc_offset\": null, \"time_zone\": null, \"geo_enabled\": false, \"verified\": true, \"statuses_count\": 387, \"lang\": \"en\", \"contributors_enabled\": false, \"is_translator\": false, \"is_translation_enabled\": false, \"profile_background_color\": \"F5F8FA\", \"profile_background_image_url\": null, \"profile_background_image_url_https\": null, \"profile_background_tile\": false, \"profile_image_url\": \"http://pbs.twimg.com/profile_images/848946510918295557/RmsOl1zv_normal.jpg\", \"profile_image_url_https\": \"https://pbs.twimg.com/profile_images/848946510918295557/RmsOl1zv_normal.jpg\", \"profile_banner_url\": \"https://pbs.twimg.com/profile_banners/818876014390603776/1484852402\", \"profile_link_color\": \"1DA1F2\", \"profile_sidebar_border_color\": \"C0DEED\", \"profile_sidebar_fill_color\": \"DDEEF6\", \"profile_text_color\": \"333333\", \"profile_use_background_image\": true, \"has_extended_profile\": false, \"default_profile\": true, \"default_profile_image\": false, \"following\": false, \"follow_request_sent\": false, \"notifications\": false, \"translator_type\": \"none\"}, \"geo\": null, \"coordinates\": null, \"place\": null, \"contributors\": null, \"is_quote_status\": false, \"retweet_count\": 10528, \"favorite_count\": 55964, \"favorited\": false, \"retweeted\": false, \"possibly_sensitive\": false, \"possibly_sensitive_appealable\": false, \"lang\": \"en\"}, \"is_quote_status\": false, \"retweet_count\": 10528, \"favorite_count\": 0, \"favorited\": false, \"retweeted\": false, \"possibly_sensitive\": false, \"possibly_sensitive_appealable\": false, \"lang\": \"en\"}\n",
            "{\"created_at\": \"Tue Oct 09 21:59:51 +0000 2018\", \"id\": 1049781513347194880, \"id_str\": \"1049781513347194880\", \"text\": \"RT @FLOTUS: Thank you Kenya \\ud83c\\uddf0\\ud83c\\uddea \\ud83c\\uddfa\\ud83c\\uddf8 https://t.co/5FXP7Ki3Zw\", \"truncated\": false, \"entities\": {\"hashtags\": [], \"symbols\": [], \"user_mentions\": [{\"screen_name\": \"FLOTUS\", \"name\": \"Melania Trump\", \"id\": 818876014390603776, \"id_str\": \"818876014390603776\", \"indices\": [3, 10]}], \"urls\": [], \"media\": [{\"id\": 1049343459448897536, \"id_str\": \"1049343459448897536\", \"indices\": [34, 57], \"media_url\": \"http://pbs.twimg.com/ext_tw_video_thumb/1049343459448897536/pu/img/WCq5WBIyev_w8wBv.jpg\", \"media_url_https\": \"https://pbs.twimg.com/ext_tw_video_thumb/1049343459448897536/pu/img/WCq5WBIyev_w8wBv.jpg\", \"url\": \"https://t.co/5FXP7Ki3Zw\", \"display_url\": \"pic.twitter.com/5FXP7Ki3Zw\", \"expanded_url\": \"https://twitter.com/FLOTUS/status/1049343687526928384/video/1\", \"type\": \"photo\", \"sizes\": {\"thumb\": {\"w\": 150, \"h\": 150, \"resize\": \"crop\"}, \"medium\": {\"w\": 1200, \"h\": 675, \"resize\": \"fit\"}, \"small\": {\"w\": 680, \"h\": 383, \"resize\": \"fit\"}, \"large\": {\"w\": 1280, \"h\": 720, \"resize\": \"fit\"}}, \"source_status_id\": 1049343687526928384, \"source_status_id_str\": \"1049343687526928384\", \"source_user_id\": 818876014390603776, \"source_user_id_str\": \"818876014390603776\"}]}, \"extended_entities\": {\"media\": [{\"id\": 1049343459448897536, \"id_str\": \"1049343459448897536\", \"indices\": [34, 57], \"media_url\": \"http://pbs.twimg.com/ext_tw_video_thumb/1049343459448897536/pu/img/WCq5WBIyev_w8wBv.jpg\", \"media_url_https\": \"https://pbs.twimg.com/ext_tw_video_thumb/1049343459448897536/pu/img/WCq5WBIyev_w8wBv.jpg\", \"url\": \"https://t.co/5FXP7Ki3Zw\", \"display_url\": \"pic.twitter.com/5FXP7Ki3Zw\", \"expanded_url\": \"https://twitter.com/FLOTUS/status/1049343687526928384/video/1\", \"type\": \"video\", \"sizes\": {\"thumb\": {\"w\": 150, \"h\": 150, \"resize\": \"crop\"}, \"medium\": {\"w\": 1200, \"h\": 675, \"resize\": \"fit\"}, \"small\": {\"w\": 680, \"h\": 383, \"resize\": \"fit\"}, \"large\": {\"w\": 1280, \"h\": 720, \"resize\": \"fit\"}}, \"source_status_id\": 1049343687526928384, \"source_status_id_str\": \"1049343687526928384\", \"source_user_id\": 818876014390603776, \"source_user_id_str\": \"818876014390603776\", \"video_info\": {\"aspect_ratio\": [16, 9], \"duration_millis\": 35093, \"variants\": [{\"bitrate\": 832000, \"content_type\": \"video/mp4\", \"url\": \"https://video.twimg.com/ext_tw_video/1049343459448897536/pu/vid/640x360/DU5KAms8XvuxtV-W.mp4?tag=5\"}, {\"bitrate\": 2176000, \"content_type\": \"video/mp4\", \"url\": \"https://video.twimg.com/ext_tw_video/1049343459448897536/pu/vid/1280x720/8QN4OEx6eLKZhphW.mp4?tag=5\"}, {\"content_type\": \"application/x-mpegURL\", \"url\": \"https://video.twimg.com/ext_tw_video/1049343459448897536/pu/pl/ygpi0_0viHU-qQys.m3u8?tag=5\"}, {\"bitrate\": 256000, \"content_type\": \"video/mp4\", \"url\": \"https://video.twimg.com/ext_tw_video/1049343459448897536/pu/vid/320x180/9j-FsurCIKGVMtew.mp4?tag=5\"}]}, \"additional_media_info\": {\"monetizable\": false, \"source_user\": {\"id\": 818876014390603776, \"id_str\": \"818876014390603776\", \"name\": \"Melania Trump\", \"screen_name\": \"FLOTUS\", \"location\": \"Washington, D.C.\", \"description\": \"This account is run by the Office of First Lady Melania Trump. Tweets may be archived. More at https://t.co/eVVzoBb3Zr\", \"url\": \"https://t.co/9zG6ZvKVLm\", \"entities\": {\"url\": {\"urls\": [{\"url\": \"https://t.co/9zG6ZvKVLm\", \"expanded_url\": \"http://www.BeBest.gov\", \"display_url\": \"BeBest.gov\", \"indices\": [0, 23]}]}, \"description\": {\"urls\": [{\"url\": \"https://t.co/eVVzoBb3Zr\", \"expanded_url\": \"http://wh.gov/privacy\", \"display_url\": \"wh.gov/privacy\", \"indices\": [95, 118]}]}}, \"protected\": false, \"followers_count\": 11004429, \"friends_count\": 6, \"listed_count\": 6721, \"created_at\": \"Tue Jan 10 17:43:50 +0000 2017\", \"favourites_count\": 0, \"utc_offset\": null, \"time_zone\": null, \"geo_enabled\": false, \"verified\": true, \"statuses_count\": 387, \"lang\": \"en\", \"contributors_enabled\": false, \"is_translator\": false, \"is_translation_enabled\": false, \"profile_background_color\": \"F5F8FA\", \"profile_background_image_url\": null, \"profile_background_image_url_https\": null, \"profile_background_tile\": false, \"profile_image_url\": \"http://pbs.twimg.com/profile_images/848946510918295557/RmsOl1zv_normal.jpg\", \"profile_image_url_https\": \"https://pbs.twimg.com/profile_images/848946510918295557/RmsOl1zv_normal.jpg\", \"profile_banner_url\": \"https://pbs.twimg.com/profile_banners/818876014390603776/1484852402\", \"profile_link_color\": \"1DA1F2\", \"profile_sidebar_border_color\": \"C0DEED\", \"profile_sidebar_fill_color\": \"DDEEF6\", \"profile_text_color\": \"333333\", \"profile_use_background_image\": true, \"has_extended_profile\": false, \"default_profile\": true, \"default_profile_image\": false, \"following\": false, \"follow_request_sent\": false, \"notifications\": false, \"translator_type\": \"none\"}}}]}, \"source\": \"<a href=\\\"http://twitter.com/download/iphone\\\" rel=\\\"nofollow\\\">Twitter for iPhone</a>\", \"in_reply_to_status_id\": null, \"in_reply_to_status_id_str\": null, \"in_reply_to_user_id\": null, \"in_reply_to_user_id_str\": null, \"in_reply_to_screen_name\": null, \"user\": {\"id\": 25073877, \"id_str\": \"25073877\", \"name\": \"Donald J. Trump\", \"screen_name\": \"realDonaldTrump\", \"location\": \"Washington, DC\", \"description\": \"45th President of the United States of America\\ud83c\\uddfa\\ud83c\\uddf8\", \"url\": \"https://t.co/OMxB0xp8tD\", \"entities\": {\"url\": {\"urls\": [{\"url\": \"https://t.co/OMxB0xp8tD\", \"expanded_url\": \"http://www.Instagram.com/realDonaldTrump\", \"display_url\": \"Instagram.com/realDonaldTrump\", \"indices\": [0, 23]}]}, \"description\": {\"urls\": []}}, \"protected\": false, \"followers_count\": 54983328, \"friends_count\": 47, \"listed_count\": 94390, \"created_at\": \"Wed Mar 18 13:46:38 +0000 2009\", \"favourites_count\": 25, \"utc_offset\": null, \"time_zone\": null, \"geo_enabled\": true, \"verified\": true, \"statuses_count\": 39211, \"lang\": \"en\", \"contributors_enabled\": false, \"is_translator\": false, \"is_translation_enabled\": true, \"profile_background_color\": \"6D5C18\", \"profile_background_image_url\": \"http://abs.twimg.com/images/themes/theme1/bg.png\", \"profile_background_image_url_https\": \"https://abs.twimg.com/images/themes/theme1/bg.png\", \"profile_background_tile\": true, \"profile_image_url\": \"http://pbs.twimg.com/profile_images/874276197357596672/kUuht00m_normal.jpg\", \"profile_image_url_https\": \"https://pbs.twimg.com/profile_images/874276197357596672/kUuht00m_normal.jpg\", \"profile_banner_url\": \"https://pbs.twimg.com/profile_banners/25073877/1539117550\", \"profile_link_color\": \"1B95E0\", \"profile_sidebar_border_color\": \"BDDCAD\", \"profile_sidebar_fill_color\": \"C5CEC0\", \"profile_text_color\": \"333333\", \"profile_use_background_image\": true, \"has_extended_profile\": false, \"default_profile\": false, \"default_profile_image\": false, \"following\": true, \"follow_request_sent\": false, \"notifications\": false, \"translator_type\": \"regular\"}, \"geo\": null, \"coordinates\": null, \"place\": null, \"contributors\": null, \"retweeted_status\": {\"created_at\": \"Mon Oct 08 17:00:05 +0000 2018\", \"id\": 1049343687526928384, \"id_str\": \"1049343687526928384\", \"text\": \"Thank you Kenya \\ud83c\\uddf0\\ud83c\\uddea \\ud83c\\uddfa\\ud83c\\uddf8 https://t.co/5FXP7Ki3Zw\", \"truncated\": false, \"entities\": {\"hashtags\": [], \"symbols\": [], \"user_mentions\": [], \"urls\": [], \"media\": [{\"id\": 1049343459448897536, \"id_str\": \"1049343459448897536\", \"indices\": [22, 45], \"media_url\": \"http://pbs.twimg.com/ext_tw_video_thumb/1049343459448897536/pu/img/WCq5WBIyev_w8wBv.jpg\", \"media_url_https\": \"https://pbs.twimg.com/ext_tw_video_thumb/1049343459448897536/pu/img/WCq5WBIyev_w8wBv.jpg\", \"url\": \"https://t.co/5FXP7Ki3Zw\", \"display_url\": \"pic.twitter.com/5FXP7Ki3Zw\", \"expanded_url\": \"https://twitter.com/FLOTUS/status/1049343687526928384/video/1\", \"type\": \"photo\", \"sizes\": {\"thumb\": {\"w\": 150, \"h\": 150, \"resize\": \"crop\"}, \"medium\": {\"w\": 1200, \"h\": 675, \"resize\": \"fit\"}, \"small\": {\"w\": 680, \"h\": 383, \"resize\": \"fit\"}, \"large\": {\"w\": 1280, \"h\": 720, \"resize\": \"fit\"}}}]}, \"extended_entities\": {\"media\": [{\"id\": 1049343459448897536, \"id_str\": \"1049343459448897536\", \"indices\": [22, 45], \"media_url\": \"http://pbs.twimg.com/ext_tw_video_thumb/1049343459448897536/pu/img/WCq5WBIyev_w8wBv.jpg\", \"media_url_https\": \"https://pbs.twimg.com/ext_tw_video_thumb/1049343459448897536/pu/img/WCq5WBIyev_w8wBv.jpg\", \"url\": \"https://t.co/5FXP7Ki3Zw\", \"display_url\": \"pic.twitter.com/5FXP7Ki3Zw\", \"expanded_url\": \"https://twitter.com/FLOTUS/status/1049343687526928384/video/1\", \"type\": \"video\", \"sizes\": {\"thumb\": {\"w\": 150, \"h\": 150, \"resize\": \"crop\"}, \"medium\": {\"w\": 1200, \"h\": 675, \"resize\": \"fit\"}, \"small\": {\"w\": 680, \"h\": 383, \"resize\": \"fit\"}, \"large\": {\"w\": 1280, \"h\": 720, \"resize\": \"fit\"}}, \"video_info\": {\"aspect_ratio\": [16, 9], \"duration_millis\": 35093, \"variants\": [{\"bitrate\": 832000, \"content_type\": \"video/mp4\", \"url\": \"https://video.twimg.com/ext_tw_video/1049343459448897536/pu/vid/640x360/DU5KAms8XvuxtV-W.mp4?tag=5\"}, {\"bitrate\": 2176000, \"content_type\": \"video/mp4\", \"url\": \"https://video.twimg.com/ext_tw_video/1049343459448897536/pu/vid/1280x720/8QN4OEx6eLKZhphW.mp4?tag=5\"}, {\"content_type\": \"application/x-mpegURL\", \"url\": \"https://video.twimg.com/ext_tw_video/1049343459448897536/pu/pl/ygpi0_0viHU-qQys.m3u8?tag=5\"}, {\"bitrate\": 256000, \"content_type\": \"video/mp4\", \"url\": \"https://video.twimg.com/ext_tw_video/1049343459448897536/pu/vid/320x180/9j-FsurCIKGVMtew.mp4?tag=5\"}]}, \"additional_media_info\": {\"monetizable\": false}}]}, \"source\": \"<a href=\\\"http://twitter.com/download/iphone\\\" rel=\\\"nofollow\\\">Twitter for iPhone</a>\", \"in_reply_to_status_id\": null, \"in_reply_to_status_id_str\": null, \"in_reply_to_user_id\": null, \"in_reply_to_user_id_str\": null, \"in_reply_to_screen_name\": null, \"user\": {\"id\": 818876014390603776, \"id_str\": \"818876014390603776\", \"name\": \"Melania Trump\", \"screen_name\": \"FLOTUS\", \"location\": \"Washington, D.C.\", \"description\": \"This account is run by the Office of First Lady Melania Trump. Tweets may be archived. More at https://t.co/eVVzoBb3Zr\", \"url\": \"https://t.co/9zG6ZvKVLm\", \"entities\": {\"url\": {\"urls\": [{\"url\": \"https://t.co/9zG6ZvKVLm\", \"expanded_url\": \"http://www.BeBest.gov\", \"display_url\": \"BeBest.gov\", \"indices\": [0, 23]}]}, \"description\": {\"urls\": [{\"url\": \"https://t.co/eVVzoBb3Zr\", \"expanded_url\": \"http://wh.gov/privacy\", \"display_url\": \"wh.gov/privacy\", \"indices\": [95, 118]}]}}, \"protected\": false, \"followers_count\": 11004429, \"friends_count\": 6, \"listed_count\": 6721, \"created_at\": \"Tue Jan 10 17:43:50 +0000 2017\", \"favourites_count\": 0, \"utc_offset\": null, \"time_zone\": null, \"geo_enabled\": false, \"verified\": true, \"statuses_count\": 387, \"lang\": \"en\", \"contributors_enabled\": false, \"is_translator\": false, \"is_translation_enabled\": false, \"profile_background_color\": \"F5F8FA\", \"profile_background_image_url\": null, \"profile_background_image_url_https\": null, \"profile_background_tile\": false, \"profile_image_url\": \"http://pbs.twimg.com/profile_images/848946510918295557/RmsOl1zv_normal.jpg\", \"profile_image_url_https\": \"https://pbs.twimg.com/profile_images/848946510918295557/RmsOl1zv_normal.jpg\", \"profile_banner_url\": \"https://pbs.twimg.com/profile_banners/818876014390603776/1484852402\", \"profile_link_color\": \"1DA1F2\", \"profile_sidebar_border_color\": \"C0DEED\", \"profile_sidebar_fill_color\": \"DDEEF6\", \"profile_text_color\": \"333333\", \"profile_use_background_image\": true, \"has_extended_profile\": false, \"default_profile\": true, \"default_profile_image\": false, \"following\": false, \"follow_request_sent\": false, \"notifications\": false, \"translator_type\": \"none\"}, \"geo\": null, \"coordinates\": null, \"place\": null, \"contributors\": null, \"is_quote_status\": false, \"retweet_count\": 12865, \"favorite_count\": 73004, \"favorited\": false, \"retweeted\": false, \"possibly_sensitive\": false, \"possibly_sensitive_appealable\": false, \"lang\": \"en\"}, \"is_quote_status\": false, \"retweet_count\": 12865, \"favorite_count\": 0, \"favorited\": false, \"retweeted\": false, \"possibly_sensitive\": false, \"possibly_sensitive_appealable\": false, \"lang\": \"en\"}\n",
            "{\"created_at\": \"Tue Oct 09 21:39:22 +0000 2018\", \"id\": 1049776359239643136, \"id_str\": \"1049776359239643136\", \"text\": \".@FLGovScott has been relentless in securing the funding to fix the algae problem from Lake Okeechobee - we will so\\u2026 https://t.co/6XMMjQ0V4v\", \"truncated\": true, \"entities\": {\"hashtags\": [], \"symbols\": [], \"user_mentions\": [{\"screen_name\": \"FLGovScott\", \"name\": \"Rick Scott\", \"id\": 131546062, \"id_str\": \"131546062\", \"indices\": [1, 12]}], \"urls\": [{\"url\": \"https://t.co/6XMMjQ0V4v\", \"expanded_url\": \"https://twitter.com/i/web/status/1049776359239643136\", \"display_url\": \"twitter.com/i/web/status/1\\u2026\", \"indices\": [117, 140]}]}, \"source\": \"<a href=\\\"http://twitter.com/download/iphone\\\" rel=\\\"nofollow\\\">Twitter for iPhone</a>\", \"in_reply_to_status_id\": null, \"in_reply_to_status_id_str\": null, \"in_reply_to_user_id\": null, \"in_reply_to_user_id_str\": null, \"in_reply_to_screen_name\": null, \"user\": {\"id\": 25073877, \"id_str\": \"25073877\", \"name\": \"Donald J. Trump\", \"screen_name\": \"realDonaldTrump\", \"location\": \"Washington, DC\", \"description\": \"45th President of the United States of America\\ud83c\\uddfa\\ud83c\\uddf8\", \"url\": \"https://t.co/OMxB0xp8tD\", \"entities\": {\"url\": {\"urls\": [{\"url\": \"https://t.co/OMxB0xp8tD\", \"expanded_url\": \"http://www.Instagram.com/realDonaldTrump\", \"display_url\": \"Instagram.com/realDonaldTrump\", \"indices\": [0, 23]}]}, \"description\": {\"urls\": []}}, \"protected\": false, \"followers_count\": 54983328, \"friends_count\": 47, \"listed_count\": 94390, \"created_at\": \"Wed Mar 18 13:46:38 +0000 2009\", \"favourites_count\": 25, \"utc_offset\": null, \"time_zone\": null, \"geo_enabled\": true, \"verified\": true, \"statuses_count\": 39211, \"lang\": \"en\", \"contributors_enabled\": false, \"is_translator\": false, \"is_translation_enabled\": true, \"profile_background_color\": \"6D5C18\", \"profile_background_image_url\": \"http://abs.twimg.com/images/themes/theme1/bg.png\", \"profile_background_image_url_https\": \"https://abs.twimg.com/images/themes/theme1/bg.png\", \"profile_background_tile\": true, \"profile_image_url\": \"http://pbs.twimg.com/profile_images/874276197357596672/kUuht00m_normal.jpg\", \"profile_image_url_https\": \"https://pbs.twimg.com/profile_images/874276197357596672/kUuht00m_normal.jpg\", \"profile_banner_url\": \"https://pbs.twimg.com/profile_banners/25073877/1539117550\", \"profile_link_color\": \"1B95E0\", \"profile_sidebar_border_color\": \"BDDCAD\", \"profile_sidebar_fill_color\": \"C5CEC0\", \"profile_text_color\": \"333333\", \"profile_use_background_image\": true, \"has_extended_profile\": false, \"default_profile\": false, \"default_profile_image\": false, \"following\": true, \"follow_request_sent\": false, \"notifications\": false, \"translator_type\": \"regular\"}, \"geo\": null, \"coordinates\": null, \"place\": null, \"contributors\": null, \"is_quote_status\": false, \"retweet_count\": 9528, \"favorite_count\": 34644, \"favorited\": false, \"retweeted\": false, \"lang\": \"en\"}\n"
          ],
          "name": "stdout"
        }
      ]
    },
    {
      "metadata": {
        "id": "wk3pIDLHxoXD",
        "colab_type": "code",
        "colab": {}
      },
      "cell_type": "code",
      "source": [
        "for tweet in tweepy.Cursor(api.user_timeline).items():\n",
        "    process_or_store(tweet._json)"
      ],
      "execution_count": 0,
      "outputs": []
    },
    {
      "metadata": {
        "id": "dNuAutUHxzn1",
        "colab_type": "code",
        "colab": {}
      },
      "cell_type": "code",
      "source": [
        "from tweepy import Stream\n",
        "from tweepy.streaming import StreamListener\n"
      ],
      "execution_count": 0,
      "outputs": []
    },
    {
      "metadata": {
        "id": "RSo2rxH75YSl",
        "colab_type": "code",
        "colab": {}
      },
      "cell_type": "code",
      "source": [
        " \n",
        "class MyListener(StreamListener):\n",
        "  \n",
        "    def __init__(self,num_limit=1000):\n",
        "      \n",
        "      super(MyListener, self).__init__()\n",
        "      self.num_limit=num_limit\n",
        "      self.count=0\n",
        " \n",
        "    def on_data(self, data):\n",
        "    \n",
        "        if self.count < self.num_limit:\n",
        "          \n",
        "          try:\n",
        "              self.count+=1\n",
        "              print(\"Number of tweets has been streamed: \", self.count)\n",
        "              with open('NYC.json', 'a') as f:\n",
        "                  f.write(data)\n",
        "                  return True\n",
        "          except BaseException as e:\n",
        "              print(\"Error on_data: %s\" % str(e))\n",
        "          return True\n",
        "        else:  # exceed the number limit\n",
        "          print(\"Number limit has been reached. STOP \")\n",
        "          return False\n",
        "       \n",
        " \n",
        "    def on_error(self, status):\n",
        "        print(status)\n",
        "        return True\n"
      ],
      "execution_count": 0,
      "outputs": []
    },
    {
      "metadata": {
        "id": "Gyuj5Gx_5dvD",
        "colab_type": "code",
        "colab": {}
      },
      "cell_type": "code",
      "source": [
        "twitter_stream=Stream(auth, MyListener(num_limit=10))\n"
      ],
      "execution_count": 0,
      "outputs": []
    },
    {
      "metadata": {
        "id": "je2zXcTaw2i-",
        "colab_type": "code",
        "colab": {
          "base_uri": "https://localhost:8080/",
          "height": 210
        },
        "outputId": "82bccb55-edc9-4f12-92dc-48d56cb046bc"
      },
      "cell_type": "code",
      "source": [
        "twitter_stream.filter(track=['#nyc'])"
      ],
      "execution_count": 123,
      "outputs": [
        {
          "output_type": "stream",
          "text": [
            "Number of tweets has been streamed:  1\n",
            "Number of tweets has been streamed:  2\n",
            "Number of tweets has been streamed:  3\n",
            "Number of tweets has been streamed:  4\n",
            "Number of tweets has been streamed:  5\n",
            "Number of tweets has been streamed:  6\n",
            "Number of tweets has been streamed:  7\n",
            "Number of tweets has been streamed:  8\n",
            "Number of tweets has been streamed:  9\n",
            "Number of tweets has been streamed:  10\n",
            "Number limit has been reached. STOP \n"
          ],
          "name": "stdout"
        }
      ]
    },
    {
      "metadata": {
        "id": "gGH6GT4WzgH-",
        "colab_type": "code",
        "colab": {
          "base_uri": "https://localhost:8080/",
          "height": 5925
        },
        "outputId": "4b6f4b05-c6e2-4d7f-fe41-422c5e7c2585"
      },
      "cell_type": "code",
      "source": [
        "with open('NYC.json', 'r') as f:\n",
        "    line = f.readline() # read only the first tweet/line\n",
        "    tweet = json.loads(line) # load it as Python dict\n",
        "    tweet_str = json.dumps(tweet, indent=4)\n",
        "    print(tweet_str) # pretty-print"
      ],
      "execution_count": 124,
      "outputs": [
        {
          "output_type": "stream",
          "text": [
            "{\n",
            "    \"created_at\": \"Wed Oct 10 02:17:14 +0000 2018\",\n",
            "    \"id\": 1049846285140774912,\n",
            "    \"id_str\": \"1049846285140774912\",\n",
            "    \"text\": \"RT @Marcela_luv: East Coast here I come ! Visiting the following cities                                Ft Lauderdale 10/11-10/16\\nMeadowland\\u2026\",\n",
            "    \"source\": \"<a href=\\\"http://twitter.com\\\" rel=\\\"nofollow\\\">Twitter Web Client</a>\",\n",
            "    \"truncated\": false,\n",
            "    \"in_reply_to_status_id\": null,\n",
            "    \"in_reply_to_status_id_str\": null,\n",
            "    \"in_reply_to_user_id\": null,\n",
            "    \"in_reply_to_user_id_str\": null,\n",
            "    \"in_reply_to_screen_name\": null,\n",
            "    \"user\": {\n",
            "        \"id\": 870337751056384000,\n",
            "        \"id_str\": \"870337751056384000\",\n",
            "        \"name\": \"Alexa \\ud83d\\ude0d\\ud83d\\udd25  SF October 9-12 \\ud83d\\ude0d\\ud83d\\udd25\",\n",
            "        \"screen_name\": \"lufrednowsiefil\",\n",
            "        \"location\": \"San Francisco, CA\",\n",
            "        \"url\": \"http://yourseduction.com/\",\n",
            "        \"description\": \"\\ud83d\\ude0d\\ud83d\\udd25 #SanDiego #SF #upscale #companion TER rating 9.17 | 5'9\\\" 132 lbs | Bookings \\ud83d\\udc8c: yourseduction@protonmail.ch \\ud83d\\ude0d\\ud83d\\udd25 619-760-2781 https://t.co/iaiVNTmIPU\",\n",
            "        \"translator_type\": \"none\",\n",
            "        \"protected\": false,\n",
            "        \"verified\": false,\n",
            "        \"followers_count\": 9436,\n",
            "        \"friends_count\": 1072,\n",
            "        \"listed_count\": 56,\n",
            "        \"favourites_count\": 14036,\n",
            "        \"statuses_count\": 2875,\n",
            "        \"created_at\": \"Thu Jun 01 17:54:24 +0000 2017\",\n",
            "        \"utc_offset\": null,\n",
            "        \"time_zone\": null,\n",
            "        \"geo_enabled\": false,\n",
            "        \"lang\": \"en\",\n",
            "        \"contributors_enabled\": false,\n",
            "        \"is_translator\": false,\n",
            "        \"profile_background_color\": \"000000\",\n",
            "        \"profile_background_image_url\": \"http://abs.twimg.com/images/themes/theme1/bg.png\",\n",
            "        \"profile_background_image_url_https\": \"https://abs.twimg.com/images/themes/theme1/bg.png\",\n",
            "        \"profile_background_tile\": false,\n",
            "        \"profile_link_color\": \"E81C4F\",\n",
            "        \"profile_sidebar_border_color\": \"000000\",\n",
            "        \"profile_sidebar_fill_color\": \"000000\",\n",
            "        \"profile_text_color\": \"000000\",\n",
            "        \"profile_use_background_image\": false,\n",
            "        \"profile_image_url\": \"http://pbs.twimg.com/profile_images/990060238203043840/OQa3oo0n_normal.jpg\",\n",
            "        \"profile_image_url_https\": \"https://pbs.twimg.com/profile_images/990060238203043840/OQa3oo0n_normal.jpg\",\n",
            "        \"profile_banner_url\": \"https://pbs.twimg.com/profile_banners/870337751056384000/1521673930\",\n",
            "        \"default_profile\": false,\n",
            "        \"default_profile_image\": false,\n",
            "        \"following\": null,\n",
            "        \"follow_request_sent\": null,\n",
            "        \"notifications\": null\n",
            "    },\n",
            "    \"geo\": null,\n",
            "    \"coordinates\": null,\n",
            "    \"place\": null,\n",
            "    \"contributors\": null,\n",
            "    \"retweeted_status\": {\n",
            "        \"created_at\": \"Wed Oct 10 00:04:10 +0000 2018\",\n",
            "        \"id\": 1049812799017238528,\n",
            "        \"id_str\": \"1049812799017238528\",\n",
            "        \"text\": \"East Coast here I come ! Visiting the following cities                                Ft Lauderdale 10/11-10/16\\nMea\\u2026 https://t.co/KZe5TfQlNi\",\n",
            "        \"display_text_range\": [\n",
            "            0,\n",
            "            140\n",
            "        ],\n",
            "        \"source\": \"<a href=\\\"http://twitter.com/download/iphone\\\" rel=\\\"nofollow\\\">Twitter for iPhone</a>\",\n",
            "        \"truncated\": true,\n",
            "        \"in_reply_to_status_id\": null,\n",
            "        \"in_reply_to_status_id_str\": null,\n",
            "        \"in_reply_to_user_id\": null,\n",
            "        \"in_reply_to_user_id_str\": null,\n",
            "        \"in_reply_to_screen_name\": null,\n",
            "        \"user\": {\n",
            "            \"id\": 869299717632540673,\n",
            "            \"id_str\": \"869299717632540673\",\n",
            "            \"name\": \"Marcela  Ft Lauderdale 10/11-10/17 NJ/NYC 10/17\",\n",
            "            \"screen_name\": \"Marcela_luv\",\n",
            "            \"location\": \"USA \",\n",
            "            \"url\": \"http://www.bustylatinala.com\",\n",
            "            \"description\": \"Exotic Latina Consultant for the Elite Gentleman #Goddess #FlymeToYou #LosAngeles #Worldwide #Latina #wishlist #spoilme http://a.co/iq74lFK P411-265150\",\n",
            "            \"translator_type\": \"none\",\n",
            "            \"protected\": false,\n",
            "            \"verified\": false,\n",
            "            \"followers_count\": 1813,\n",
            "            \"friends_count\": 690,\n",
            "            \"listed_count\": 12,\n",
            "            \"favourites_count\": 1723,\n",
            "            \"statuses_count\": 1517,\n",
            "            \"created_at\": \"Mon May 29 21:09:38 +0000 2017\",\n",
            "            \"utc_offset\": null,\n",
            "            \"time_zone\": null,\n",
            "            \"geo_enabled\": true,\n",
            "            \"lang\": \"en\",\n",
            "            \"contributors_enabled\": false,\n",
            "            \"is_translator\": false,\n",
            "            \"profile_background_color\": \"000000\",\n",
            "            \"profile_background_image_url\": \"http://abs.twimg.com/images/themes/theme1/bg.png\",\n",
            "            \"profile_background_image_url_https\": \"https://abs.twimg.com/images/themes/theme1/bg.png\",\n",
            "            \"profile_background_tile\": false,\n",
            "            \"profile_link_color\": \"981CEB\",\n",
            "            \"profile_sidebar_border_color\": \"000000\",\n",
            "            \"profile_sidebar_fill_color\": \"000000\",\n",
            "            \"profile_text_color\": \"000000\",\n",
            "            \"profile_use_background_image\": false,\n",
            "            \"profile_image_url\": \"http://pbs.twimg.com/profile_images/918598596706033664/WPl1PR9I_normal.jpg\",\n",
            "            \"profile_image_url_https\": \"https://pbs.twimg.com/profile_images/918598596706033664/WPl1PR9I_normal.jpg\",\n",
            "            \"profile_banner_url\": \"https://pbs.twimg.com/profile_banners/869299717632540673/1535084641\",\n",
            "            \"default_profile\": false,\n",
            "            \"default_profile_image\": false,\n",
            "            \"following\": null,\n",
            "            \"follow_request_sent\": null,\n",
            "            \"notifications\": null\n",
            "        },\n",
            "        \"geo\": null,\n",
            "        \"coordinates\": null,\n",
            "        \"place\": {\n",
            "            \"id\": \"3b77caf94bfc81fe\",\n",
            "            \"url\": \"https://api.twitter.com/1.1/geo/id/3b77caf94bfc81fe.json\",\n",
            "            \"place_type\": \"city\",\n",
            "            \"name\": \"Los Angeles\",\n",
            "            \"full_name\": \"Los Angeles, CA\",\n",
            "            \"country_code\": \"US\",\n",
            "            \"country\": \"United States\",\n",
            "            \"bounding_box\": {\n",
            "                \"type\": \"Polygon\",\n",
            "                \"coordinates\": [\n",
            "                    [\n",
            "                        [\n",
            "                            -118.668404,\n",
            "                            33.704538\n",
            "                        ],\n",
            "                        [\n",
            "                            -118.668404,\n",
            "                            34.337041\n",
            "                        ],\n",
            "                        [\n",
            "                            -118.155409,\n",
            "                            34.337041\n",
            "                        ],\n",
            "                        [\n",
            "                            -118.155409,\n",
            "                            33.704538\n",
            "                        ]\n",
            "                    ]\n",
            "                ]\n",
            "            },\n",
            "            \"attributes\": {}\n",
            "        },\n",
            "        \"contributors\": null,\n",
            "        \"is_quote_status\": false,\n",
            "        \"extended_tweet\": {\n",
            "            \"full_text\": \"East Coast here I come ! Visiting the following cities                                Ft Lauderdale 10/11-10/16\\nMeadowlands NJ 10/17-10/20\\nNyc Midtown 10/20-10-25\\nBooking https://t.co/mEfQ0UdHvJ e-mail Latinainla@safeoffice.com Ladies : Rt for Rt #Nyc #busty #Latina #Companion https://t.co/qIvsq5jQ8M\",\n",
            "            \"display_text_range\": [\n",
            "                0,\n",
            "                277\n",
            "            ],\n",
            "            \"entities\": {\n",
            "                \"hashtags\": [\n",
            "                    {\n",
            "                        \"text\": \"Nyc\",\n",
            "                        \"indices\": [\n",
            "                            247,\n",
            "                            251\n",
            "                        ]\n",
            "                    },\n",
            "                    {\n",
            "                        \"text\": \"busty\",\n",
            "                        \"indices\": [\n",
            "                            252,\n",
            "                            258\n",
            "                        ]\n",
            "                    },\n",
            "                    {\n",
            "                        \"text\": \"Latina\",\n",
            "                        \"indices\": [\n",
            "                            259,\n",
            "                            266\n",
            "                        ]\n",
            "                    },\n",
            "                    {\n",
            "                        \"text\": \"Companion\",\n",
            "                        \"indices\": [\n",
            "                            267,\n",
            "                            277\n",
            "                        ]\n",
            "                    }\n",
            "                ],\n",
            "                \"urls\": [\n",
            "                    {\n",
            "                        \"url\": \"https://t.co/mEfQ0UdHvJ\",\n",
            "                        \"expanded_url\": \"http://Bustylatinala.com\",\n",
            "                        \"display_url\": \"Bustylatinala.com\",\n",
            "                        \"indices\": [\n",
            "                            171,\n",
            "                            194\n",
            "                        ]\n",
            "                    }\n",
            "                ],\n",
            "                \"user_mentions\": [],\n",
            "                \"symbols\": [],\n",
            "                \"media\": [\n",
            "                    {\n",
            "                        \"id\": 1049812792675467264,\n",
            "                        \"id_str\": \"1049812792675467264\",\n",
            "                        \"indices\": [\n",
            "                            278,\n",
            "                            301\n",
            "                        ],\n",
            "                        \"media_url\": \"http://pbs.twimg.com/media/DpGvLDwVAAAb9Dc.jpg\",\n",
            "                        \"media_url_https\": \"https://pbs.twimg.com/media/DpGvLDwVAAAb9Dc.jpg\",\n",
            "                        \"url\": \"https://t.co/qIvsq5jQ8M\",\n",
            "                        \"display_url\": \"pic.twitter.com/qIvsq5jQ8M\",\n",
            "                        \"expanded_url\": \"https://twitter.com/Marcela_luv/status/1049812799017238528/photo/1\",\n",
            "                        \"type\": \"photo\",\n",
            "                        \"sizes\": {\n",
            "                            \"thumb\": {\n",
            "                                \"w\": 150,\n",
            "                                \"h\": 150,\n",
            "                                \"resize\": \"crop\"\n",
            "                            },\n",
            "                            \"small\": {\n",
            "                                \"w\": 451,\n",
            "                                \"h\": 680,\n",
            "                                \"resize\": \"fit\"\n",
            "                            },\n",
            "                            \"medium\": {\n",
            "                                \"w\": 796,\n",
            "                                \"h\": 1200,\n",
            "                                \"resize\": \"fit\"\n",
            "                            },\n",
            "                            \"large\": {\n",
            "                                \"w\": 1242,\n",
            "                                \"h\": 1872,\n",
            "                                \"resize\": \"fit\"\n",
            "                            }\n",
            "                        }\n",
            "                    }\n",
            "                ]\n",
            "            },\n",
            "            \"extended_entities\": {\n",
            "                \"media\": [\n",
            "                    {\n",
            "                        \"id\": 1049812792675467264,\n",
            "                        \"id_str\": \"1049812792675467264\",\n",
            "                        \"indices\": [\n",
            "                            278,\n",
            "                            301\n",
            "                        ],\n",
            "                        \"media_url\": \"http://pbs.twimg.com/media/DpGvLDwVAAAb9Dc.jpg\",\n",
            "                        \"media_url_https\": \"https://pbs.twimg.com/media/DpGvLDwVAAAb9Dc.jpg\",\n",
            "                        \"url\": \"https://t.co/qIvsq5jQ8M\",\n",
            "                        \"display_url\": \"pic.twitter.com/qIvsq5jQ8M\",\n",
            "                        \"expanded_url\": \"https://twitter.com/Marcela_luv/status/1049812799017238528/photo/1\",\n",
            "                        \"type\": \"photo\",\n",
            "                        \"sizes\": {\n",
            "                            \"thumb\": {\n",
            "                                \"w\": 150,\n",
            "                                \"h\": 150,\n",
            "                                \"resize\": \"crop\"\n",
            "                            },\n",
            "                            \"small\": {\n",
            "                                \"w\": 451,\n",
            "                                \"h\": 680,\n",
            "                                \"resize\": \"fit\"\n",
            "                            },\n",
            "                            \"medium\": {\n",
            "                                \"w\": 796,\n",
            "                                \"h\": 1200,\n",
            "                                \"resize\": \"fit\"\n",
            "                            },\n",
            "                            \"large\": {\n",
            "                                \"w\": 1242,\n",
            "                                \"h\": 1872,\n",
            "                                \"resize\": \"fit\"\n",
            "                            }\n",
            "                        }\n",
            "                    }\n",
            "                ]\n",
            "            }\n",
            "        },\n",
            "        \"quote_count\": 1,\n",
            "        \"reply_count\": 0,\n",
            "        \"retweet_count\": 2,\n",
            "        \"favorite_count\": 11,\n",
            "        \"entities\": {\n",
            "            \"hashtags\": [],\n",
            "            \"urls\": [\n",
            "                {\n",
            "                    \"url\": \"https://t.co/KZe5TfQlNi\",\n",
            "                    \"expanded_url\": \"https://twitter.com/i/web/status/1049812799017238528\",\n",
            "                    \"display_url\": \"twitter.com/i/web/status/1\\u2026\",\n",
            "                    \"indices\": [\n",
            "                        117,\n",
            "                        140\n",
            "                    ]\n",
            "                }\n",
            "            ],\n",
            "            \"user_mentions\": [],\n",
            "            \"symbols\": []\n",
            "        },\n",
            "        \"favorited\": false,\n",
            "        \"retweeted\": false,\n",
            "        \"possibly_sensitive\": false,\n",
            "        \"filter_level\": \"low\",\n",
            "        \"lang\": \"en\"\n",
            "    },\n",
            "    \"is_quote_status\": false,\n",
            "    \"quote_count\": 0,\n",
            "    \"reply_count\": 0,\n",
            "    \"retweet_count\": 0,\n",
            "    \"favorite_count\": 0,\n",
            "    \"entities\": {\n",
            "        \"hashtags\": [],\n",
            "        \"urls\": [],\n",
            "        \"user_mentions\": [\n",
            "            {\n",
            "                \"screen_name\": \"Marcela_luv\",\n",
            "                \"name\": \"Marcela  Ft Lauderdale 10/11-10/17 NJ/NYC 10/17\",\n",
            "                \"id\": 869299717632540673,\n",
            "                \"id_str\": \"869299717632540673\",\n",
            "                \"indices\": [\n",
            "                    3,\n",
            "                    15\n",
            "                ]\n",
            "            }\n",
            "        ],\n",
            "        \"symbols\": []\n",
            "    },\n",
            "    \"favorited\": false,\n",
            "    \"retweeted\": false,\n",
            "    \"filter_level\": \"low\",\n",
            "    \"lang\": \"en\",\n",
            "    \"timestamp_ms\": \"1539137834235\"\n",
            "}\n"
          ],
          "name": "stdout"
        }
      ]
    },
    {
      "metadata": {
        "id": "7vQhMIEc6Tns",
        "colab_type": "code",
        "colab": {
          "base_uri": "https://localhost:8080/",
          "height": 298
        },
        "outputId": "a147b0d7-4cce-4beb-9cd3-cdf337f23aab"
      },
      "cell_type": "code",
      "source": [
        "#download punkt\n",
        "import nltk\n",
        "nltk.download()"
      ],
      "execution_count": 52,
      "outputs": [
        {
          "output_type": "stream",
          "text": [
            "NLTK Downloader\n",
            "---------------------------------------------------------------------------\n",
            "    d) Download   l) List    u) Update   c) Config   h) Help   q) Quit\n",
            "---------------------------------------------------------------------------\n",
            "Downloader> d\n",
            "\n",
            "Download which package (l=list; x=cancel)?\n",
            "  Identifier> punkt\n",
            "    Downloading package punkt to /root/nltk_data...\n",
            "      Package punkt is already up-to-date!\n",
            "\n",
            "---------------------------------------------------------------------------\n",
            "    d) Download   l) List    u) Update   c) Config   h) Help   q) Quit\n",
            "---------------------------------------------------------------------------\n",
            "Downloader> q\n"
          ],
          "name": "stdout"
        },
        {
          "output_type": "execute_result",
          "data": {
            "text/plain": [
              "True"
            ]
          },
          "metadata": {
            "tags": []
          },
          "execution_count": 52
        }
      ]
    },
    {
      "metadata": {
        "id": "JGSECAn90lES",
        "colab_type": "code",
        "colab": {
          "base_uri": "https://localhost:8080/",
          "height": 34
        },
        "outputId": "036318a8-c530-4d48-8988-5364f696fcfc"
      },
      "cell_type": "code",
      "source": [
        "from nltk.tokenize import word_tokenize\n",
        " \n",
        "tweet = 'RT @LaylaHayek: You and I are always unfinished business #escort #NYC #flymetoyou https://t.co/vPA5bZx3Lg'\n",
        "print(word_tokenize(tweet))\n"
      ],
      "execution_count": 53,
      "outputs": [
        {
          "output_type": "stream",
          "text": [
            "['RT', '@', 'LaylaHayek', ':', 'You', 'and', 'I', 'are', 'always', 'unfinished', 'business', '#', 'escort', '#', 'NYC', '#', 'flymetoyou', 'https', ':', '//t.co/vPA5bZx3Lg']\n"
          ],
          "name": "stdout"
        }
      ]
    },
    {
      "metadata": {
        "id": "LdWSPEnx0pct",
        "colab_type": "code",
        "colab": {
          "base_uri": "https://localhost:8080/",
          "height": 34
        },
        "outputId": "c8b3d73c-322f-4608-de77-7562cda26181"
      },
      "cell_type": "code",
      "source": [
        "import re\n",
        " \n",
        "emoticons_str = r\"\"\"\n",
        "    (?:\n",
        "        [:=;] # Eyes\n",
        "        [oO\\-]? # Nose (optional)\n",
        "        [D\\)\\]\\(\\]/\\\\OpP] # Mouth\n",
        "    )\"\"\"\n",
        " \n",
        "regex_str = [\n",
        "    emoticons_str,\n",
        "    r'<[^>]+>', # HTML tags\n",
        "    r'(?:@[\\w_]+)', # @-mentions\n",
        "    r\"(?:\\#+[\\w_]+[\\w\\'_\\-]*[\\w_]+)\", # hash-tags\n",
        "    r'http[s]?://(?:[a-z]|[0-9]|[$-_@.&amp;+]|[!*\\(\\),]|(?:%[0-9a-f][0-9a-f]))+', # URLs\n",
        " \n",
        "    r'(?:(?:\\d+,?)+(?:\\.?\\d+)?)', # numbers\n",
        "    r\"(?:[a-z][a-z'\\-_]+[a-z])\", # words with - and '\n",
        "    r'(?:[\\w_]+)', # other words\n",
        "    r'(?:\\S)' # anything else\n",
        "]\n",
        "    \n",
        "tokens_re = re.compile(r'('+'|'.join(regex_str)+')', re.VERBOSE | re.IGNORECASE)\n",
        "emoticon_re = re.compile(r'^'+emoticons_str+'$', re.VERBOSE | re.IGNORECASE)\n",
        " \n",
        "def tokenize(s):\n",
        "    return tokens_re.findall(s)\n",
        " \n",
        "def preprocess(s, lowercase=False):\n",
        "    tokens = tokenize(s)\n",
        "    if lowercase:\n",
        "        tokens = [token if emoticon_re.search(token) else token.lower() for token in tokens]\n",
        "    return tokens\n",
        " \n",
        "tweet = 'RT @LaylaHayek: You and I are always unfinished business #escort #NYC #flymetoyou https://t.co/vPA5bZx3Lg'\n",
        "print(preprocess(tweet))\n"
      ],
      "execution_count": 125,
      "outputs": [
        {
          "output_type": "stream",
          "text": [
            "['RT', '@LaylaHayek', ':', 'You', 'and', 'I', 'are', 'always', 'unfinished', 'business', '#escort', '#NYC', '#flymetoyou', 'https://t.co/vPA5bZx3Lg']\n"
          ],
          "name": "stdout"
        }
      ]
    },
    {
      "metadata": {
        "id": "9AOXnbLbx_AR",
        "colab_type": "code",
        "colab": {
          "base_uri": "https://localhost:8080/",
          "height": 34
        },
        "outputId": "cf189506-8c0e-4e5e-b638-f3c47af41fdd"
      },
      "cell_type": "code",
      "source": [
        "import operator \n",
        "import json\n",
        "from collections import Counter\n",
        " \n",
        "fname = 'NYC.json'\n",
        "with open(fname, 'r') as f:\n",
        "    count_all = Counter()\n",
        "    for line in f:\n",
        "        tweet = json.loads(line)\n",
        "        # Create a list with all the terms\n",
        "        terms_all = [term for term in preprocess(tweet['text'])]\n",
        "        # Update the counter\n",
        "        count_all.update(terms_all)\n",
        "    # Print the first 5 most frequent words\n",
        "    print(count_all.most_common(5))"
      ],
      "execution_count": 126,
      "outputs": [
        {
          "output_type": "stream",
          "text": [
            "[('RT', 53), (':', 43), ('…', 32), ('!', 22), ('！', 22)]\n"
          ],
          "name": "stdout"
        }
      ]
    },
    {
      "metadata": {
        "id": "t4Iwsalt6_8z",
        "colab_type": "code",
        "colab": {
          "base_uri": "https://localhost:8080/",
          "height": 298
        },
        "outputId": "e2cb6385-00cd-4de9-d5b1-5570e2f4afaf"
      },
      "cell_type": "code",
      "source": [
        "#download stopwords\n",
        "nltk.download()"
      ],
      "execution_count": 56,
      "outputs": [
        {
          "output_type": "stream",
          "text": [
            "NLTK Downloader\n",
            "---------------------------------------------------------------------------\n",
            "    d) Download   l) List    u) Update   c) Config   h) Help   q) Quit\n",
            "---------------------------------------------------------------------------\n",
            "Downloader> d\n",
            "\n",
            "Download which package (l=list; x=cancel)?\n",
            "  Identifier> stopwords\n",
            "    Downloading package stopwords to /root/nltk_data...\n",
            "      Package stopwords is already up-to-date!\n",
            "\n",
            "---------------------------------------------------------------------------\n",
            "    d) Download   l) List    u) Update   c) Config   h) Help   q) Quit\n",
            "---------------------------------------------------------------------------\n",
            "Downloader> q\n"
          ],
          "name": "stdout"
        },
        {
          "output_type": "execute_result",
          "data": {
            "text/plain": [
              "True"
            ]
          },
          "metadata": {
            "tags": []
          },
          "execution_count": 56
        }
      ]
    },
    {
      "metadata": {
        "id": "Fvn0JKY91cUL",
        "colab_type": "code",
        "colab": {}
      },
      "cell_type": "code",
      "source": [
        "from nltk.corpus import stopwords\n",
        "import string\n",
        " \n",
        "punctuation = list(string.punctuation)\n",
        "stop = stopwords.words('english') + punctuation + ['rt', 'via']\n"
      ],
      "execution_count": 0,
      "outputs": []
    },
    {
      "metadata": {
        "id": "BKpsfwoM1eZ9",
        "colab_type": "code",
        "colab": {
          "base_uri": "https://localhost:8080/",
          "height": 34
        },
        "outputId": "c77c7154-3766-44a5-9cd6-568ca1e23e4c"
      },
      "cell_type": "code",
      "source": [
        "fname = 'NYC.json'\n",
        "with open(fname, 'r') as f:\n",
        "    count_all = Counter()\n",
        "    for line in f:\n",
        "        tweet = json.loads(line)\n",
        "        # Create a list with all the terms\n",
        "        terms_stop = [term for term in preprocess(tweet['text']) if term not in stop]\n",
        "        # Update the counter\n",
        "        count_all.update(terms_stop)\n",
        "    # Print the first 5 most frequent words\n",
        "    print(count_all.most_common(5))"
      ],
      "execution_count": 128,
      "outputs": [
        {
          "output_type": "stream",
          "text": [
            "[('RT', 53), ('…', 32), ('！', 22), ('10', 16), ('、', 11)]\n"
          ],
          "name": "stdout"
        }
      ]
    },
    {
      "metadata": {
        "id": "yhoYWg281nJI",
        "colab_type": "code",
        "colab": {
          "base_uri": "https://localhost:8080/",
          "height": 34
        },
        "outputId": "f27cf8e1-c96b-421a-c0fe-4a2367588046"
      },
      "cell_type": "code",
      "source": [
        "# Count terms only once, equivalent to Document Frequency\n",
        "terms_single = set(terms_all)\n",
        "# Count hashtags only\n",
        "terms_hash = [term for term in preprocess(tweet['text']) \n",
        "              if term.startswith('#')]\n",
        "# Count terms only (no hashtags, no mentions)\n",
        "terms_only = [term for term in preprocess(tweet['text']) \n",
        "              if term not in stop and\n",
        "              not term.startswith(('#', '@'))] \n",
        "              # mind the ((double brackets))\n",
        "              # startswith() takes a tuple (not a list) if \n",
        "              # we pass a list of inputs\n",
        "fname = 'NYC.json'\n",
        "with open(fname, 'r') as f:\n",
        "    count_all = Counter()\n",
        "    for line in f:\n",
        "        tweet = json.loads(line)\n",
        "        # Update the counter\n",
        "        count_all.update(terms_only)\n",
        "    # Print the first 5 most frequent words\n",
        "    print(count_all.most_common(5))"
      ],
      "execution_count": 129,
      "outputs": [
        {
          "output_type": "stream",
          "text": [
            "[('10', 108), ('RT', 54), ('LULU', 54), ('ID', 54), ('ACC', 54)]\n"
          ],
          "name": "stdout"
        }
      ]
    },
    {
      "metadata": {
        "id": "O5L1qbvc11iI",
        "colab_type": "code",
        "colab": {}
      },
      "cell_type": "code",
      "source": [
        "#look for cooccurance\n",
        "from collections import defaultdict\n",
        "# remember to include the other import from the previous post\n",
        " \n",
        "com = defaultdict(lambda : defaultdict(int))\n",
        " \n",
        "# f is the file pointer to the JSON data set\n",
        "with open('NYC.json', 'r') as f:\n",
        "  for line in f: \n",
        "    tweet = json.loads(line)\n",
        " \n",
        "    terms_only = [term for term in preprocess(tweet['text']) \n",
        "                  if term not in stop \n",
        "                  and not term.startswith(('#', '@'))]\n",
        "  # Build co-occurrence matrix\n",
        "  for i in range(len(terms_only)-1):            \n",
        "      for j in range(i+1, len(terms_only)):\n",
        "          w1, w2 = sorted([terms_only[i], terms_only[j]])                \n",
        "          if w1 != w2:\n",
        "              com[w1][w2] += 1"
      ],
      "execution_count": 0,
      "outputs": []
    },
    {
      "metadata": {
        "id": "R6VF6BLz2phm",
        "colab_type": "code",
        "colab": {
          "base_uri": "https://localhost:8080/",
          "height": 34
        },
        "outputId": "08548f79-a0fb-4f61-96f3-0272aacfd2e1"
      },
      "cell_type": "code",
      "source": [
        "com_max = []\n",
        "# For each term, look for the most common co-occurrent terms\n",
        "for t1 in com:\n",
        "    t1_max_terms = sorted(com[t1].items(), key=operator.itemgetter(1), reverse=True)[:5]\n",
        "    for t2, t2_count in t1_max_terms:\n",
        "        com_max.append(((t1, t2), t2_count))\n",
        "# Get the most frequent co-occurrences\n",
        "terms_max = sorted(com_max, key=operator.itemgetter(1), reverse=True)\n",
        "print(terms_max[:5])"
      ],
      "execution_count": 131,
      "outputs": [
        {
          "output_type": "stream",
          "text": [
            "[(('10', 'RT'), 2), (('10', 'LULU'), 2), (('10', 'ID'), 2), (('10', 'ACC'), 2), (('10', '2'), 2)]\n"
          ],
          "name": "stdout"
        }
      ]
    },
    {
      "metadata": {
        "id": "4fgXqcUs2_va",
        "colab_type": "code",
        "colab": {
          "base_uri": "https://localhost:8080/",
          "height": 72
        },
        "outputId": "0e7616cf-b280-4dd2-a13b-28ed26cfeeaf"
      },
      "cell_type": "code",
      "source": [
        "#search for specific coocurance\n",
        "import sys\n",
        "search_word = \"Coast\" \n",
        "count_search = Counter()\n",
        "with open('NYC.json', 'r') as f:\n",
        "  for line in f:\n",
        "    tweet = json.loads(line)\n",
        "    terms_only = [term for term in preprocess(tweet['text']) \n",
        "                  if term not in stop \n",
        "                  and not term.startswith(('@','#'))]\n",
        "    \n",
        "    if search_word in terms_only:\n",
        "        count_search.update(terms_only)\n",
        "print(\"Co-occurrence for %s:\" %search_word)\n",
        "print(count_search.most_common(20))"
      ],
      "execution_count": 137,
      "outputs": [
        {
          "output_type": "stream",
          "text": [
            "Co-occurrence for Coast:\n",
            "[('10', 2), ('RT', 1), ('East', 1), ('Coast', 1), ('I', 1), ('come', 1), ('Visiting', 1), ('following', 1), ('cities', 1), ('Ft', 1), ('Lauderdale', 1), ('11', 1), ('16', 1), ('Meadowland', 1), ('…', 1)]\n"
          ],
          "name": "stdout"
        }
      ]
    },
    {
      "metadata": {
        "id": "sC4yBWEC4WMd",
        "colab_type": "code",
        "colab": {}
      },
      "cell_type": "code",
      "source": [
        "# n_docs is the total n. of tweets\n",
        "n_docs=10\n",
        "p_t = {}\n",
        "p_t_com = defaultdict(lambda : defaultdict(int))\n",
        " \n",
        "for term, n in count_all.items():\n",
        "    p_t[term] = n / n_docs\n",
        "    for t2 in com[term]:\n",
        "        p_t_com[term][t2] = com[term][t2] / n_docs"
      ],
      "execution_count": 0,
      "outputs": []
    },
    {
      "metadata": {
        "id": "qpko7DxKAV2L",
        "colab_type": "code",
        "colab": {}
      },
      "cell_type": "code",
      "source": [
        "positive_vocab = [\n",
        "    'good', 'nice', 'great', 'awesome', 'outstanding',\n",
        "    'fantastic', 'terrific', ':)', ':-)', 'like', 'love',\n",
        "    # shall we also include game-specific terms?\n",
        "    # 'triumph', 'triumphal', 'triumphant', 'victory', etc.\n",
        "]\n",
        "negative_vocab = [\n",
        "    'bad', 'terrible', 'crap', 'useless', 'hate', ':(', ':-(',\n",
        "    # 'defeat', etc.\n",
        "]"
      ],
      "execution_count": 0,
      "outputs": []
    },
    {
      "metadata": {
        "id": "Ebr38wb-AaqN",
        "colab_type": "code",
        "colab": {}
      },
      "cell_type": "code",
      "source": [
        "import math\n",
        "pmi = defaultdict(lambda : defaultdict(int))\n",
        "for t1 in p_t:\n",
        "    for t2 in com[t1]:\n",
        "        denom = p_t[t1] * p_t[t2]\n",
        "        pmi[t1][t2] = math.log2(p_t_com[t1][t2] / denom)\n",
        " \n",
        "semantic_orientation = {}\n",
        "for term, n in p_t.items():\n",
        "    positive_assoc = sum(pmi[term][tx] for tx in positive_vocab)\n",
        "    negative_assoc = sum(pmi[term][tx] for tx in negative_vocab)\n",
        "    semantic_orientation[term] = positive_assoc - negative_assoc\n"
      ],
      "execution_count": 0,
      "outputs": []
    },
    {
      "metadata": {
        "id": "2VUrGFo8Ak8j",
        "colab_type": "code",
        "colab": {
          "base_uri": "https://localhost:8080/",
          "height": 90
        },
        "outputId": "1d95df3a-0919-4d90-ab75-f9af67a0534c"
      },
      "cell_type": "code",
      "source": [
        "semantic_sorted = sorted(semantic_orientation.items(), \n",
        "                         key=operator.itemgetter(1), \n",
        "                         reverse=True)\n",
        "top_pos = semantic_sorted[:10]\n",
        "top_neg = semantic_sorted[-10:]\n",
        " \n",
        "print(top_pos)\n",
        "print(top_neg)\n",
        "#need to change example word into words matter\n",
        "print(\"example word: %f\" % semantic_orientation['#example word'])\n"
      ],
      "execution_count": 146,
      "outputs": [
        {
          "output_type": "stream",
          "text": [
            "[('RT', 0), ('LULU', 0), ('ID', 0), ('ACC', 0), ('2', 0), ('KILL', 0), ('10', 0), ('https://t.co/H3IunofTQu', 0), ('5', 0), ('Y', 0)]\n",
            "[('amp', 0), (';P', 0), ('LAYFUL', 0), ('W', 0), ('FAM', 0), ('KIDS', 0), ('LOVES', 0), ('CAT', 0), ('SL', 0), ('…', 0)]\n",
            "Counter({'10': 108, 'RT': 54, 'LULU': 54, 'ID': 54, 'ACC': 54, '2': 54, 'KILL': 54, 'https://t.co/H3IunofTQu': 54, '5': 54, 'Y': 54, 'OLD': 54, 'FRIENDLY': 54, 'AFFECTIONATE': 54, 'amp': 54, ';P': 54, 'LAYFUL': 54, 'W': 54, 'FAM': 54, 'KIDS': 54, 'LOVES': 54, 'CAT': 54, 'SL': 54, '…': 54})\n"
          ],
          "name": "stdout"
        }
      ]
    },
    {
      "metadata": {
        "id": "80TSvmS2A3yU",
        "colab_type": "code",
        "colab": {}
      },
      "cell_type": "code",
      "source": [
        ""
      ],
      "execution_count": 0,
      "outputs": []
    }
  ]
}