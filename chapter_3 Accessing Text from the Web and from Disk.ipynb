{
  "nbformat": 4,
  "nbformat_minor": 0,
  "metadata": {
    "colab": {
      "name": "chapter 3.ipynb",
      "version": "0.3.2",
      "provenance": [],
      "collapsed_sections": []
    },
    "kernelspec": {
      "display_name": "Python 2",
      "language": "python",
      "name": "python2"
    }
  },
  "cells": [
    {
      "metadata": {
        "id": "bNu914ScRrFu",
        "colab_type": "code",
        "colab": {}
      },
      "cell_type": "code",
      "source": [
        "#in this chapter, I am going to learn how to process raw text\n",
        "from __future__ import division\n",
        "import re,pprint"
      ],
      "execution_count": 0,
      "outputs": []
    },
    {
      "metadata": {
        "id": "8XqxzphRRrFy",
        "colab_type": "code",
        "colab": {}
      },
      "cell_type": "code",
      "source": [
        "#this is to get ebook Walden\n",
        "from urllib import urlopen\n",
        "url=\"http://www.gutenberg.org/files/205/205-0.txt\"\n",
        "raw=urlopen(url).read()"
      ],
      "execution_count": 0,
      "outputs": []
    },
    {
      "metadata": {
        "id": "X2U04ck0RrF1",
        "colab_type": "code",
        "colab": {
          "base_uri": "https://localhost:8080/",
          "height": 34
        },
        "outputId": "aaddc2e4-adcd-40c8-8369-233bd4a398ad"
      },
      "cell_type": "code",
      "source": [
        "type(raw)"
      ],
      "execution_count": 3,
      "outputs": [
        {
          "output_type": "execute_result",
          "data": {
            "text/plain": [
              "str"
            ]
          },
          "metadata": {
            "tags": []
          },
          "execution_count": 3
        }
      ]
    },
    {
      "metadata": {
        "id": "JdKljL5qRrF7",
        "colab_type": "code",
        "colab": {
          "base_uri": "https://localhost:8080/",
          "height": 34
        },
        "outputId": "d9d513e1-3a9c-41c0-b871-b6ce1bb25764"
      },
      "cell_type": "code",
      "source": [
        "len(raw)"
      ],
      "execution_count": 4,
      "outputs": [
        {
          "output_type": "execute_result",
          "data": {
            "text/plain": [
              "666758"
            ]
          },
          "metadata": {
            "tags": []
          },
          "execution_count": 4
        }
      ]
    },
    {
      "metadata": {
        "id": "cD6WPWokRrF-",
        "colab_type": "code",
        "colab": {
          "base_uri": "https://localhost:8080/",
          "height": 2625
        },
        "outputId": "e8441e9f-1e37-441f-ceab-356ad051d457"
      },
      "cell_type": "code",
      "source": [
        "#for NLP i want to break the raw text into words and punctuation\n",
        "import nltk\n",
        "nltk.download()"
      ],
      "execution_count": 5,
      "outputs": [
        {
          "output_type": "stream",
          "text": [
            "NLTK Downloader\n",
            "---------------------------------------------------------------------------\n",
            "    d) Download   l) List    u) Update   c) Config   h) Help   q) Quit\n",
            "---------------------------------------------------------------------------\n",
            "Downloader> l\n",
            "\n",
            "Packages:\n",
            "  [ ] abc................. Australian Broadcasting Commission 2006\n",
            "  [ ] alpino.............. Alpino Dutch Treebank\n",
            "  [ ] averaged_perceptron_tagger Averaged Perceptron Tagger\n",
            "  [ ] averaged_perceptron_tagger_ru Averaged Perceptron Tagger (Russian)\n",
            "  [ ] basque_grammars..... Grammars for Basque\n",
            "  [ ] biocreative_ppi..... BioCreAtIvE (Critical Assessment of Information\n",
            "                           Extraction Systems in Biology)\n",
            "  [ ] bllip_wsj_no_aux.... BLLIP Parser: WSJ Model\n",
            "  [ ] book_grammars....... Grammars from NLTK Book\n",
            "  [ ] brown............... Brown Corpus\n",
            "  [ ] brown_tei........... Brown Corpus (TEI XML Version)\n",
            "  [ ] cess_cat............ CESS-CAT Treebank\n",
            "  [ ] cess_esp............ CESS-ESP Treebank\n",
            "  [ ] chat80.............. Chat-80 Data Files\n",
            "  [ ] city_database....... City Database\n",
            "  [ ] cmudict............. The Carnegie Mellon Pronouncing Dictionary (0.6)\n",
            "  [ ] comparative_sentences Comparative Sentence Dataset\n",
            "  [ ] comtrans............ ComTrans Corpus Sample\n",
            "  [ ] conll2000........... CONLL 2000 Chunking Corpus\n",
            "  [ ] conll2002........... CONLL 2002 Named Entity Recognition Corpus\n",
            "Hit Enter to continue: \n",
            "  [ ] conll2007........... Dependency Treebanks from CoNLL 2007 (Catalan\n",
            "                           and Basque Subset)\n",
            "  [ ] crubadan............ Crubadan Corpus\n",
            "  [ ] dependency_treebank. Dependency Parsed Treebank\n",
            "  [ ] dolch............... Dolch Word List\n",
            "  [ ] europarl_raw........ Sample European Parliament Proceedings Parallel\n",
            "                           Corpus\n",
            "  [ ] floresta............ Portuguese Treebank\n",
            "  [ ] framenet_v15........ FrameNet 1.5\n",
            "  [ ] framenet_v17........ FrameNet 1.7\n",
            "  [ ] gazetteers.......... Gazeteer Lists\n",
            "  [ ] genesis............. Genesis Corpus\n",
            "  [ ] gutenberg........... Project Gutenberg Selections\n",
            "  [ ] ieer................ NIST IE-ER DATA SAMPLE\n",
            "  [ ] inaugural........... C-Span Inaugural Address Corpus\n",
            "  [ ] indian.............. Indian Language POS-Tagged Corpus\n",
            "  [ ] jeita............... JEITA Public Morphologically Tagged Corpus (in\n",
            "                           ChaSen format)\n",
            "  [ ] kimmo............... PC-KIMMO Data Files\n",
            "  [ ] knbc................ KNB Corpus (Annotated blog corpus)\n",
            "  [ ] large_grammars...... Large context-free and feature-based grammars\n",
            "                           for parser comparison\n",
            "Hit Enter to continue: \n",
            "  [ ] lin_thesaurus....... Lin's Dependency Thesaurus\n",
            "  [ ] mac_morpho.......... MAC-MORPHO: Brazilian Portuguese news text with\n",
            "                           part-of-speech tags\n",
            "  [ ] machado............. Machado de Assis -- Obra Completa\n",
            "  [ ] masc_tagged......... MASC Tagged Corpus\n",
            "  [ ] maxent_ne_chunker... ACE Named Entity Chunker (Maximum entropy)\n",
            "  [ ] maxent_treebank_pos_tagger Treebank Part of Speech Tagger (Maximum entropy)\n",
            "  [ ] moses_sample........ Moses Sample Models\n",
            "  [ ] movie_reviews....... Sentiment Polarity Dataset Version 2.0\n",
            "  [ ] mte_teip5........... MULTEXT-East 1984 annotated corpus 4.0\n",
            "  [ ] mwa_ppdb............ The monolingual word aligner (Sultan et al.\n",
            "                           2015) subset of the Paraphrase Database.\n",
            "  [ ] names............... Names Corpus, Version 1.3 (1994-03-29)\n",
            "  [ ] nombank.1.0......... NomBank Corpus 1.0\n",
            "  [ ] nonbreaking_prefixes Non-Breaking Prefixes (Moses Decoder)\n",
            "  [ ] nps_chat............ NPS Chat\n",
            "  [ ] omw................. Open Multilingual Wordnet\n",
            "  [ ] opinion_lexicon..... Opinion Lexicon\n",
            "  [ ] panlex_swadesh...... PanLex Swadesh Corpora\n",
            "  [ ] paradigms........... Paradigm Corpus\n",
            "  [ ] pe08................ Cross-Framework and Cross-Domain Parser\n",
            "                           Evaluation Shared Task\n",
            "Hit Enter to continue: \n",
            "  [ ] perluniprops........ perluniprops: Index of Unicode Version 7.0.0\n",
            "                           character properties in Perl\n",
            "  [ ] pil................. The Patient Information Leaflet (PIL) Corpus\n",
            "  [ ] pl196x.............. Polish language of the XX century sixties\n",
            "  [ ] porter_test......... Porter Stemmer Test Files\n",
            "  [ ] ppattach............ Prepositional Phrase Attachment Corpus\n",
            "  [ ] problem_reports..... Problem Report Corpus\n",
            "  [ ] product_reviews_1... Product Reviews (5 Products)\n",
            "  [ ] product_reviews_2... Product Reviews (9 Products)\n",
            "  [ ] propbank............ Proposition Bank Corpus 1.0\n",
            "  [ ] pros_cons........... Pros and Cons\n",
            "  [ ] ptb................. Penn Treebank\n",
            "  [ ] punkt............... Punkt Tokenizer Models\n",
            "  [ ] qc.................. Experimental Data for Question Classification\n",
            "  [ ] reuters............. The Reuters-21578 benchmark corpus, ApteMod\n",
            "                           version\n",
            "  [ ] rslp................ RSLP Stemmer (Removedor de Sufixos da Lingua\n",
            "                           Portuguesa)\n",
            "  [ ] rte................. PASCAL RTE Challenges 1, 2, and 3\n",
            "  [ ] sample_grammars..... Sample Grammars\n",
            "  [ ] semcor.............. SemCor 3.0\n",
            "Hit Enter to continue: \n",
            "  [ ] senseval............ SENSEVAL 2 Corpus: Sense Tagged Text\n",
            "  [ ] sentence_polarity... Sentence Polarity Dataset v1.0\n",
            "  [ ] sentiwordnet........ SentiWordNet\n",
            "  [ ] shakespeare......... Shakespeare XML Corpus Sample\n",
            "  [ ] sinica_treebank..... Sinica Treebank Corpus Sample\n",
            "  [ ] smultron............ SMULTRON Corpus Sample\n",
            "  [ ] snowball_data....... Snowball Data\n",
            "  [ ] spanish_grammars.... Grammars for Spanish\n",
            "  [ ] state_union......... C-Span State of the Union Address Corpus\n",
            "  [ ] stopwords........... Stopwords Corpus\n",
            "  [ ] subjectivity........ Subjectivity Dataset v1.0\n",
            "  [ ] swadesh............. Swadesh Wordlists\n",
            "  [ ] switchboard......... Switchboard Corpus Sample\n",
            "  [ ] tagsets............. Help on Tagsets\n",
            "  [ ] timit............... TIMIT Corpus Sample\n",
            "  [ ] toolbox............. Toolbox Sample Files\n",
            "  [ ] treebank............ Penn Treebank Sample\n",
            "  [ ] twitter_samples..... Twitter Samples\n",
            "  [ ] udhr2............... Universal Declaration of Human Rights Corpus\n",
            "                           (Unicode Version)\n",
            "  [ ] udhr................ Universal Declaration of Human Rights Corpus\n",
            "Hit Enter to continue: \n",
            "  [ ] unicode_samples..... Unicode Samples\n",
            "  [ ] universal_tagset.... Mappings to the Universal Part-of-Speech Tagset\n",
            "  [ ] universal_treebanks_v20 Universal Treebanks Version 2.0\n",
            "  [ ] vader_lexicon....... VADER Sentiment Lexicon\n",
            "  [ ] verbnet............. VerbNet Lexicon, Version 2.1\n",
            "  [ ] webtext............. Web Text Corpus\n",
            "  [ ] wmt15_eval.......... Evaluation data from WMT15\n",
            "  [ ] word2vec_sample..... Word2Vec Sample\n",
            "  [ ] wordnet............. WordNet\n",
            "  [ ] wordnet_ic.......... WordNet-InfoContent\n",
            "  [ ] words............... Word Lists\n",
            "  [ ] ycoe................ York-Toronto-Helsinki Parsed Corpus of Old\n",
            "                           English Prose\n",
            "\n",
            "Collections:\n",
            "  [ ] all-corpora......... All the corpora\n",
            "  [ ] all-nltk............ All packages available on nltk_data gh-pages\n",
            "                           branch\n",
            "  [ ] all................. All packages\n",
            "  [ ] book................ Everything used in the NLTK Book\n",
            "  [ ] popular............. Popular packages\n",
            "  [ ] tests............... Packages for running tests\n",
            "Hit Enter to continue: \n",
            "  [ ] third-party......... Third-party data packages\n",
            "\n",
            "([*] marks installed packages)\n",
            "\n",
            "---------------------------------------------------------------------------\n",
            "    d) Download   l) List    u) Update   c) Config   h) Help   q) Quit\n",
            "---------------------------------------------------------------------------\n",
            "Downloader> q\n"
          ],
          "name": "stdout"
        },
        {
          "output_type": "execute_result",
          "data": {
            "text/plain": [
              "True"
            ]
          },
          "metadata": {
            "tags": []
          },
          "execution_count": 5
        }
      ]
    },
    {
      "metadata": {
        "id": "-5u3rBIaRrGB",
        "colab_type": "code",
        "colab": {}
      },
      "cell_type": "code",
      "source": [
        "#i have encountered some problems. the original text has encode other than ascii, which is the only encoding accepted by py2. here I am decoding the raw text\n",
        "raw=raw.decode(errors='replace')"
      ],
      "execution_count": 0,
      "outputs": []
    },
    {
      "metadata": {
        "id": "-8IB4950SG79",
        "colab_type": "code",
        "colab": {
          "base_uri": "https://localhost:8080/",
          "height": 69
        },
        "outputId": "b6bddded-7379-40c7-d2a1-fdb16cb3a4a7"
      },
      "cell_type": "code",
      "source": [
        "nltk.download('punkt')"
      ],
      "execution_count": 9,
      "outputs": [
        {
          "output_type": "stream",
          "text": [
            "[nltk_data] Downloading package punkt to /root/nltk_data...\n",
            "[nltk_data]   Unzipping tokenizers/punkt.zip.\n"
          ],
          "name": "stdout"
        },
        {
          "output_type": "execute_result",
          "data": {
            "text/plain": [
              "True"
            ]
          },
          "metadata": {
            "tags": []
          },
          "execution_count": 9
        }
      ]
    },
    {
      "metadata": {
        "id": "E3waW_MARrGD",
        "colab_type": "code",
        "colab": {}
      },
      "cell_type": "code",
      "source": [
        "from nltk import word_tokenize\n",
        "tokens=nltk.word_tokenize(raw)"
      ],
      "execution_count": 0,
      "outputs": []
    },
    {
      "metadata": {
        "id": "xnDfsYe7RrGG",
        "colab_type": "code",
        "colab": {
          "base_uri": "https://localhost:8080/",
          "height": 34
        },
        "outputId": "a6ab77f3-38d2-457f-c45d-5c0250684168"
      },
      "cell_type": "code",
      "source": [
        "type(tokens)"
      ],
      "execution_count": 11,
      "outputs": [
        {
          "output_type": "execute_result",
          "data": {
            "text/plain": [
              "list"
            ]
          },
          "metadata": {
            "tags": []
          },
          "execution_count": 11
        }
      ]
    },
    {
      "metadata": {
        "id": "FuAYm_T7RrGJ",
        "colab_type": "code",
        "colab": {
          "base_uri": "https://localhost:8080/",
          "height": 34
        },
        "outputId": "189dd31d-54e9-419a-e772-18ee1a3d868a"
      },
      "cell_type": "code",
      "source": [
        "len(tokens)"
      ],
      "execution_count": 12,
      "outputs": [
        {
          "output_type": "execute_result",
          "data": {
            "text/plain": [
              "136135"
            ]
          },
          "metadata": {
            "tags": []
          },
          "execution_count": 12
        }
      ]
    },
    {
      "metadata": {
        "id": "xGyEH1paRrGN",
        "colab_type": "code",
        "colab": {
          "base_uri": "https://localhost:8080/",
          "height": 191
        },
        "outputId": "8e7b5431-8b0f-4d32-8afa-c4f83ae67ae7"
      },
      "cell_type": "code",
      "source": [
        "tokens[:10]"
      ],
      "execution_count": 13,
      "outputs": [
        {
          "output_type": "execute_result",
          "data": {
            "text/plain": [
              "[u'\\ufffd\\ufffd\\ufffdThe',\n",
              " u'Project',\n",
              " u'Gutenberg',\n",
              " u'EBook',\n",
              " u'of',\n",
              " u'Walden',\n",
              " u',',\n",
              " u'and',\n",
              " u'On',\n",
              " u'The']"
            ]
          },
          "metadata": {
            "tags": []
          },
          "execution_count": 13
        }
      ]
    },
    {
      "metadata": {
        "id": "3xwKJ-u0RrGQ",
        "colab_type": "code",
        "colab": {}
      },
      "cell_type": "code",
      "source": [
        "text=nltk.Text(tokens)"
      ],
      "execution_count": 0,
      "outputs": []
    },
    {
      "metadata": {
        "id": "8Y6gt0I7RrGU",
        "colab_type": "code",
        "colab": {
          "base_uri": "https://localhost:8080/",
          "height": 34
        },
        "outputId": "9e246920-ca10-4d54-8456-d2e3730ba2fe"
      },
      "cell_type": "code",
      "source": [
        "type(text)"
      ],
      "execution_count": 15,
      "outputs": [
        {
          "output_type": "execute_result",
          "data": {
            "text/plain": [
              "nltk.text.Text"
            ]
          },
          "metadata": {
            "tags": []
          },
          "execution_count": 15
        }
      ]
    },
    {
      "metadata": {
        "id": "l3_UHxgFRrGZ",
        "colab_type": "code",
        "colab": {
          "base_uri": "https://localhost:8080/",
          "height": 6747
        },
        "outputId": "f8a36145-a32a-4949-addf-e5b313543f38"
      },
      "cell_type": "code",
      "source": [
        "text[1236:1623]"
      ],
      "execution_count": 22,
      "outputs": [
        {
          "output_type": "execute_result",
          "data": {
            "text/plain": [
              "[u'and',\n",
              " u'thieves',\n",
              " u'break',\n",
              " u'through',\n",
              " u'and',\n",
              " u'steal',\n",
              " u'.',\n",
              " u'It',\n",
              " u'is',\n",
              " u'a',\n",
              " u'fool',\n",
              " u\"'s\",\n",
              " u'life',\n",
              " u',',\n",
              " u'as',\n",
              " u'they',\n",
              " u'will',\n",
              " u'find',\n",
              " u'when',\n",
              " u'they',\n",
              " u'get',\n",
              " u'to',\n",
              " u'the',\n",
              " u'end',\n",
              " u'of',\n",
              " u'it',\n",
              " u',',\n",
              " u'if',\n",
              " u'not',\n",
              " u'before',\n",
              " u'.',\n",
              " u'It',\n",
              " u'is',\n",
              " u'said',\n",
              " u'that',\n",
              " u'Deucalion',\n",
              " u'and',\n",
              " u'Pyrrha',\n",
              " u'created',\n",
              " u'men',\n",
              " u'by',\n",
              " u'throwing',\n",
              " u'stones',\n",
              " u'over',\n",
              " u'their',\n",
              " u'heads',\n",
              " u'behind',\n",
              " u'them',\n",
              " u':',\n",
              " u'--',\n",
              " u'Inde',\n",
              " u'genus',\n",
              " u'durum',\n",
              " u'sumus',\n",
              " u',',\n",
              " u'experiensque',\n",
              " u'laborum',\n",
              " u',',\n",
              " u'Et',\n",
              " u'documenta',\n",
              " u'damus',\n",
              " u'qua',\n",
              " u'simus',\n",
              " u'origine',\n",
              " u'nati',\n",
              " u'.',\n",
              " u'Or',\n",
              " u',',\n",
              " u'as',\n",
              " u'Raleigh',\n",
              " u'rhymes',\n",
              " u'it',\n",
              " u'in',\n",
              " u'his',\n",
              " u'sonorous',\n",
              " u'way',\n",
              " u',',\n",
              " u'--',\n",
              " u'``',\n",
              " u'From',\n",
              " u'thence',\n",
              " u'our',\n",
              " u'kind',\n",
              " u'hard-hearted',\n",
              " u'is',\n",
              " u',',\n",
              " u'enduring',\n",
              " u'pain',\n",
              " u'and',\n",
              " u'care',\n",
              " u',',\n",
              " u'Approving',\n",
              " u'that',\n",
              " u'our',\n",
              " u'bodies',\n",
              " u'of',\n",
              " u'a',\n",
              " u'stony',\n",
              " u'nature',\n",
              " u'are',\n",
              " u'.',\n",
              " u\"''\",\n",
              " u'So',\n",
              " u'much',\n",
              " u'for',\n",
              " u'a',\n",
              " u'blind',\n",
              " u'obedience',\n",
              " u'to',\n",
              " u'a',\n",
              " u'blundering',\n",
              " u'oracle',\n",
              " u',',\n",
              " u'throwing',\n",
              " u'the',\n",
              " u'stones',\n",
              " u'over',\n",
              " u'their',\n",
              " u'heads',\n",
              " u'behind',\n",
              " u'them',\n",
              " u',',\n",
              " u'and',\n",
              " u'not',\n",
              " u'seeing',\n",
              " u'where',\n",
              " u'they',\n",
              " u'fell',\n",
              " u'.',\n",
              " u'Most',\n",
              " u'men',\n",
              " u',',\n",
              " u'even',\n",
              " u'in',\n",
              " u'this',\n",
              " u'comparatively',\n",
              " u'free',\n",
              " u'country',\n",
              " u',',\n",
              " u'through',\n",
              " u'mere',\n",
              " u'ignorance',\n",
              " u'and',\n",
              " u'mistake',\n",
              " u',',\n",
              " u'are',\n",
              " u'so',\n",
              " u'occupied',\n",
              " u'with',\n",
              " u'the',\n",
              " u'factitious',\n",
              " u'cares',\n",
              " u'and',\n",
              " u'superfluously',\n",
              " u'coarse',\n",
              " u'labors',\n",
              " u'of',\n",
              " u'life',\n",
              " u'that',\n",
              " u'its',\n",
              " u'finer',\n",
              " u'fruits',\n",
              " u'can',\n",
              " u'not',\n",
              " u'be',\n",
              " u'plucked',\n",
              " u'by',\n",
              " u'them',\n",
              " u'.',\n",
              " u'Their',\n",
              " u'fingers',\n",
              " u',',\n",
              " u'from',\n",
              " u'excessive',\n",
              " u'toil',\n",
              " u',',\n",
              " u'are',\n",
              " u'too',\n",
              " u'clumsy',\n",
              " u'and',\n",
              " u'tremble',\n",
              " u'too',\n",
              " u'much',\n",
              " u'for',\n",
              " u'that',\n",
              " u'.',\n",
              " u'Actually',\n",
              " u',',\n",
              " u'the',\n",
              " u'laboring',\n",
              " u'man',\n",
              " u'has',\n",
              " u'not',\n",
              " u'leisure',\n",
              " u'for',\n",
              " u'a',\n",
              " u'true',\n",
              " u'integrity',\n",
              " u'day',\n",
              " u'by',\n",
              " u'day',\n",
              " u';',\n",
              " u'he',\n",
              " u'can',\n",
              " u'not',\n",
              " u'afford',\n",
              " u'to',\n",
              " u'sustain',\n",
              " u'the',\n",
              " u'manliest',\n",
              " u'relations',\n",
              " u'to',\n",
              " u'men',\n",
              " u';',\n",
              " u'his',\n",
              " u'labor',\n",
              " u'would',\n",
              " u'be',\n",
              " u'depreciated',\n",
              " u'in',\n",
              " u'the',\n",
              " u'market',\n",
              " u'.',\n",
              " u'He',\n",
              " u'has',\n",
              " u'no',\n",
              " u'time',\n",
              " u'to',\n",
              " u'be',\n",
              " u'anything',\n",
              " u'but',\n",
              " u'a',\n",
              " u'machine',\n",
              " u'.',\n",
              " u'How',\n",
              " u'can',\n",
              " u'he',\n",
              " u'remember',\n",
              " u'well',\n",
              " u'his',\n",
              " u'ignorance',\n",
              " u'--',\n",
              " u'which',\n",
              " u'his',\n",
              " u'growth',\n",
              " u'requires',\n",
              " u'--',\n",
              " u'who',\n",
              " u'has',\n",
              " u'so',\n",
              " u'often',\n",
              " u'to',\n",
              " u'use',\n",
              " u'his',\n",
              " u'knowledge',\n",
              " u'?',\n",
              " u'We',\n",
              " u'should',\n",
              " u'feed',\n",
              " u'and',\n",
              " u'clothe',\n",
              " u'him',\n",
              " u'gratuitously',\n",
              " u'sometimes',\n",
              " u',',\n",
              " u'and',\n",
              " u'recruit',\n",
              " u'him',\n",
              " u'with',\n",
              " u'our',\n",
              " u'cordials',\n",
              " u',',\n",
              " u'before',\n",
              " u'we',\n",
              " u'judge',\n",
              " u'of',\n",
              " u'him',\n",
              " u'.',\n",
              " u'The',\n",
              " u'finest',\n",
              " u'qualities',\n",
              " u'of',\n",
              " u'our',\n",
              " u'nature',\n",
              " u',',\n",
              " u'like',\n",
              " u'the',\n",
              " u'bloom',\n",
              " u'on',\n",
              " u'fruits',\n",
              " u',',\n",
              " u'can',\n",
              " u'be',\n",
              " u'preserved',\n",
              " u'only',\n",
              " u'by',\n",
              " u'the',\n",
              " u'most',\n",
              " u'delicate',\n",
              " u'handling',\n",
              " u'.',\n",
              " u'Yet',\n",
              " u'we',\n",
              " u'do',\n",
              " u'not',\n",
              " u'treat',\n",
              " u'ourselves',\n",
              " u'nor',\n",
              " u'one',\n",
              " u'another',\n",
              " u'thus',\n",
              " u'tenderly',\n",
              " u'.',\n",
              " u'Some',\n",
              " u'of',\n",
              " u'you',\n",
              " u',',\n",
              " u'we',\n",
              " u'all',\n",
              " u'know',\n",
              " u',',\n",
              " u'are',\n",
              " u'poor',\n",
              " u',',\n",
              " u'find',\n",
              " u'it',\n",
              " u'hard',\n",
              " u'to',\n",
              " u'live',\n",
              " u',',\n",
              " u'are',\n",
              " u'sometimes',\n",
              " u',',\n",
              " u'as',\n",
              " u'it',\n",
              " u'were',\n",
              " u',',\n",
              " u'gasping',\n",
              " u'for',\n",
              " u'breath',\n",
              " u'.',\n",
              " u'I',\n",
              " u'have',\n",
              " u'no',\n",
              " u'doubt',\n",
              " u'that',\n",
              " u'some',\n",
              " u'of',\n",
              " u'you',\n",
              " u'who',\n",
              " u'read',\n",
              " u'this',\n",
              " u'book',\n",
              " u'are',\n",
              " u'unable',\n",
              " u'to',\n",
              " u'pay',\n",
              " u'for',\n",
              " u'all',\n",
              " u'the',\n",
              " u'dinners',\n",
              " u'which',\n",
              " u'you',\n",
              " u'have',\n",
              " u'actually',\n",
              " u'eaten',\n",
              " u',',\n",
              " u'or',\n",
              " u'for',\n",
              " u'the',\n",
              " u'coats',\n",
              " u'and',\n",
              " u'shoes',\n",
              " u'which',\n",
              " u'are',\n",
              " u'fast',\n",
              " u'wearing',\n",
              " u'or',\n",
              " u'are',\n",
              " u'already',\n",
              " u'worn',\n",
              " u'out',\n",
              " u',',\n",
              " u'and',\n",
              " u'have',\n",
              " u'come',\n",
              " u'to']"
            ]
          },
          "metadata": {
            "tags": []
          },
          "execution_count": 22
        }
      ]
    },
    {
      "metadata": {
        "id": "9Fw44PjLRrGc",
        "colab_type": "code",
        "colab": {
          "base_uri": "https://localhost:8080/",
          "height": 138
        },
        "outputId": "e01f575b-ce45-4bc4-f531-5c9ba24325e2"
      },
      "cell_type": "code",
      "source": [
        "import nltk\n",
        "nltk.download('stopwords')\n",
        "text.collocations()"
      ],
      "execution_count": 25,
      "outputs": [
        {
          "output_type": "stream",
          "text": [
            "[nltk_data] Downloading package stopwords to /root/nltk_data...\n",
            "[nltk_data]   Package stopwords is already up-to-date!\n",
            "... ...; Project Gutenberg-tm; Project Gutenberg; New England;\n",
            "Literary Archive; Gutenberg-tm electronic; Archive Foundation; United\n",
            "States; Gutenberg Literary; electronic works; years ago; Walden Pond;\n",
            "public domain; pitch pine; electronic work; Gutenberg-tm License; John\n",
            "Field; pitch pines; would fain; one another\n"
          ],
          "name": "stdout"
        }
      ]
    },
    {
      "metadata": {
        "id": "_Cv9Psv8RrGe",
        "colab_type": "code",
        "colab": {
          "base_uri": "https://localhost:8080/",
          "height": 34
        },
        "outputId": "0590c7d8-0bc5-4136-b196-ff979e4c6133"
      },
      "cell_type": "code",
      "source": [
        "#here i am going to save only the content of the original novel\n",
        "raw.find(\"Economy\")"
      ],
      "execution_count": 26,
      "outputs": [
        {
          "output_type": "execute_result",
          "data": {
            "text/plain": [
              "844"
            ]
          },
          "metadata": {
            "tags": []
          },
          "execution_count": 26
        }
      ]
    },
    {
      "metadata": {
        "id": "1j0q1HR_RrGg",
        "colab_type": "code",
        "colab": {
          "base_uri": "https://localhost:8080/",
          "height": 34
        },
        "outputId": "ed589c09-7a63-41dd-92df-266d5688cbe6"
      },
      "cell_type": "code",
      "source": [
        "raw.find(\"End of the Project Gutenberg EBook of Walden\")"
      ],
      "execution_count": 27,
      "outputs": [
        {
          "output_type": "execute_result",
          "data": {
            "text/plain": [
              "647594"
            ]
          },
          "metadata": {
            "tags": []
          },
          "execution_count": 27
        }
      ]
    },
    {
      "metadata": {
        "id": "O7W81e2pRrGi",
        "colab_type": "code",
        "colab": {}
      },
      "cell_type": "code",
      "source": [
        "raw=raw[844:647594]"
      ],
      "execution_count": 0,
      "outputs": []
    },
    {
      "metadata": {
        "id": "R9E91QnuRrGm",
        "colab_type": "code",
        "colab": {}
      },
      "cell_type": "code",
      "source": [
        "#for now, I will leave Walden and explore other sources of text, like, Max's github\n",
        "url=\"https://github.com/tianliu\"\n",
        "raw=urlopen(url).read()"
      ],
      "execution_count": 0,
      "outputs": []
    },
    {
      "metadata": {
        "id": "zqDzWyTtRrGp",
        "colab_type": "code",
        "colab": {
          "base_uri": "https://localhost:8080/",
          "height": 54
        },
        "outputId": "48899ee0-60d1-480d-9b49-07bd09a086ba"
      },
      "cell_type": "code",
      "source": [
        "raw=raw[:1200]\n",
        "raw"
      ],
      "execution_count": 34,
      "outputs": [
        {
          "output_type": "execute_result",
          "data": {
            "text/plain": [
              "'\\n\\n\\n\\n<!DOCTYPE html>\\n<html lang=\"en\">\\n  <head>\\n    <meta charset=\"utf-8\">\\n  <link rel=\"dns-prefetch\" href=\"https://assets-cdn.github.com\">\\n  <link rel=\"dns-prefetch\" href=\"https://avatars0.githubusercontent.com\">\\n  <link rel=\"dns-prefetch\" href=\"https://avatars1.githubusercontent.com\">\\n  <link rel=\"dns-prefetch\" href=\"https://avatars2.githubusercontent.com\">\\n  <link rel=\"dns-prefetch\" href=\"https://avatars3.githubusercontent.com\">\\n  <link rel=\"dns-prefetch\" href=\"https://github-cloud.s3.amazonaws.com\">\\n  <link rel=\"dns-prefetch\" href=\"https://user-images.githubusercontent.com/\">\\n\\n\\n\\n  <link crossorigin=\"anonymous\" media=\"all\" integrity=\"sha512-mjQPRAh2Y9A0sPdZzipNfPO7PT4g06mk0uZs15DbL/vsNCRGx1uRzWVzls9MJCoy2yRNjaMmEVFKJDpCui00mA==\" rel=\"stylesheet\" href=\"https://assets-cdn.github.com/assets/frameworks-df973073d880f28fbbae0263fb1ef62b.css\" />\\n  <link crossorigin=\"anonymous\" media=\"all\" integrity=\"sha512-rjeOE/xCtXpC8TfozvSrAGuSUp04kr5KoJzQ1zNDuewiszwBvMP0UC9LoGtqjbggdbgxm/XI8w59AEJ7NkoaBw==\" rel=\"stylesheet\" href=\"https://assets-cdn.github.com/assets/github-d1ffae1e90c2e3f75ff70906eebe25d4.css\" />\\n  \\n  \\n  <link crossorigin=\"anonymous\" media=\"all\" integrity=\"sha512-oq9Re9Urx17JAhj6uI9t'"
            ]
          },
          "metadata": {
            "tags": []
          },
          "execution_count": 34
        }
      ]
    },
    {
      "metadata": {
        "id": "0SQCxf40RrGs",
        "colab_type": "code",
        "colab": {
          "base_uri": "https://localhost:8080/",
          "height": 3112
        },
        "outputId": "95e18e05-ae2e-465b-c8d2-bb42572383fa"
      },
      "cell_type": "code",
      "source": [
        "#i originally tried to use nltk.clean_html(html) as instructed, however it seems nowadays people use beautifulsoap's get_text function more. need to find a solution later of how to install bs3\n",
        "raw=raw.decode(errors='replace')\n",
        "tokens=nltk.word_tokenize(raw)\n",
        "tokens"
      ],
      "execution_count": 31,
      "outputs": [
        {
          "output_type": "execute_result",
          "data": {
            "text/plain": [
              "[u'<',\n",
              " u'!',\n",
              " u'DOCTYPE',\n",
              " u'html',\n",
              " u'>',\n",
              " u'<',\n",
              " u'html',\n",
              " u'lang=',\n",
              " u\"''\",\n",
              " u'en',\n",
              " u\"''\",\n",
              " u'>',\n",
              " u'<',\n",
              " u'head',\n",
              " u'>',\n",
              " u'<',\n",
              " u'meta',\n",
              " u'charset=',\n",
              " u\"''\",\n",
              " u'utf-8',\n",
              " u\"''\",\n",
              " u'>',\n",
              " u'<',\n",
              " u'link',\n",
              " u'rel=',\n",
              " u\"''\",\n",
              " u'dns-prefetch',\n",
              " u\"''\",\n",
              " u'href=',\n",
              " u\"''\",\n",
              " u'https',\n",
              " u':',\n",
              " u'//assets-cdn.github.com',\n",
              " u\"''\",\n",
              " u'>',\n",
              " u'<',\n",
              " u'link',\n",
              " u'rel=',\n",
              " u\"''\",\n",
              " u'dns-prefetch',\n",
              " u\"''\",\n",
              " u'href=',\n",
              " u\"''\",\n",
              " u'https',\n",
              " u':',\n",
              " u'//avatars0.githubusercontent.com',\n",
              " u\"''\",\n",
              " u'>',\n",
              " u'<',\n",
              " u'link',\n",
              " u'rel=',\n",
              " u\"''\",\n",
              " u'dns-prefetch',\n",
              " u\"''\",\n",
              " u'href=',\n",
              " u\"''\",\n",
              " u'https',\n",
              " u':',\n",
              " u'//avatars1.githubusercontent.com',\n",
              " u\"''\",\n",
              " u'>',\n",
              " u'<',\n",
              " u'link',\n",
              " u'rel=',\n",
              " u\"''\",\n",
              " u'dns-prefetch',\n",
              " u\"''\",\n",
              " u'href=',\n",
              " u\"''\",\n",
              " u'https',\n",
              " u':',\n",
              " u'//avatars2.githubusercontent.com',\n",
              " u\"''\",\n",
              " u'>',\n",
              " u'<',\n",
              " u'link',\n",
              " u'rel=',\n",
              " u\"''\",\n",
              " u'dns-prefetch',\n",
              " u\"''\",\n",
              " u'href=',\n",
              " u\"''\",\n",
              " u'https',\n",
              " u':',\n",
              " u'//avatars3.githubusercontent.com',\n",
              " u\"''\",\n",
              " u'>',\n",
              " u'<',\n",
              " u'link',\n",
              " u'rel=',\n",
              " u\"''\",\n",
              " u'dns-prefetch',\n",
              " u\"''\",\n",
              " u'href=',\n",
              " u\"''\",\n",
              " u'https',\n",
              " u':',\n",
              " u'//github-cloud.s3.amazonaws.com',\n",
              " u\"''\",\n",
              " u'>',\n",
              " u'<',\n",
              " u'link',\n",
              " u'rel=',\n",
              " u\"''\",\n",
              " u'dns-prefetch',\n",
              " u\"''\",\n",
              " u'href=',\n",
              " u\"''\",\n",
              " u'https',\n",
              " u':',\n",
              " u'//user-images.githubusercontent.com/',\n",
              " u\"''\",\n",
              " u'>',\n",
              " u'<',\n",
              " u'link',\n",
              " u'crossorigin=',\n",
              " u\"''\",\n",
              " u'anonymous',\n",
              " u\"''\",\n",
              " u'media=',\n",
              " u\"''\",\n",
              " u'all',\n",
              " u\"''\",\n",
              " u'integrity=',\n",
              " u\"''\",\n",
              " u'sha512-mjQPRAh2Y9A0sPdZzipNfPO7PT4g06mk0uZs15DbL/vsNCRGx1uRzWVzls9MJCoy2yRNjaMmEVFKJDpCui00mA==',\n",
              " u\"''\",\n",
              " u'rel=',\n",
              " u\"''\",\n",
              " u'stylesheet',\n",
              " u\"''\",\n",
              " u'href=',\n",
              " u\"''\",\n",
              " u'https',\n",
              " u':',\n",
              " u'//assets-cdn.github.com/assets/frameworks-df973073d880f28fbbae0263fb1ef62b.css',\n",
              " u\"''\",\n",
              " u'/',\n",
              " u'>',\n",
              " u'<',\n",
              " u'link',\n",
              " u'crossorigin=',\n",
              " u\"''\",\n",
              " u'anonymous',\n",
              " u\"''\",\n",
              " u'media=',\n",
              " u\"''\",\n",
              " u'all',\n",
              " u\"''\",\n",
              " u'integrity=',\n",
              " u\"''\",\n",
              " u'sha512-rjeOE/xCtXpC8TfozvSrAGuSUp04kr5KoJzQ1zNDuewiszwBvMP0UC9LoGtqjbggdbgxm/XI8w59AEJ7NkoaBw==',\n",
              " u\"''\",\n",
              " u'rel=',\n",
              " u\"''\",\n",
              " u'stylesheet',\n",
              " u\"''\",\n",
              " u'href=',\n",
              " u\"''\",\n",
              " u'https',\n",
              " u':',\n",
              " u'//assets-cdn.github.com/assets/github-d1ffae1e90c2e3f75ff70906eebe25d4.css',\n",
              " u\"''\",\n",
              " u'/',\n",
              " u'>',\n",
              " u'<',\n",
              " u'link',\n",
              " u'crossorigin=',\n",
              " u\"''\",\n",
              " u'anonymous',\n",
              " u\"''\",\n",
              " u'media=',\n",
              " u\"''\",\n",
              " u'all',\n",
              " u\"''\",\n",
              " u'integrity=',\n",
              " u\"''\",\n",
              " u'sha512-oq9Re9Urx17JAhj6uI9t']"
            ]
          },
          "metadata": {
            "tags": []
          },
          "execution_count": 31
        }
      ]
    },
    {
      "metadata": {
        "id": "ZrScuCs0RrGw",
        "colab_type": "code",
        "colab": {
          "base_uri": "https://localhost:8080/",
          "height": 208
        },
        "outputId": "87140c7e-1ed5-4f4c-ea9c-76a79226e888"
      },
      "cell_type": "code",
      "source": [
        "text=nltk.Text(tokens)\n",
        "text.concordance('link')"
      ],
      "execution_count": 32,
      "outputs": [
        {
          "output_type": "stream",
          "text": [
            "Displaying 10 of 10 matches:\n",
            "ad > < meta charset= '' utf-8 '' > < link rel= '' dns-prefetch '' href= '' htt\n",
            "tps : //assets-cdn.github.com '' > < link rel= '' dns-prefetch '' href= '' htt\n",
            "vatars0.githubusercontent.com '' > < link rel= '' dns-prefetch '' href= '' htt\n",
            "vatars1.githubusercontent.com '' > < link rel= '' dns-prefetch '' href= '' htt\n",
            "vatars2.githubusercontent.com '' > < link rel= '' dns-prefetch '' href= '' htt\n",
            "vatars3.githubusercontent.com '' > < link rel= '' dns-prefetch '' href= '' htt\n",
            "github-cloud.s3.amazonaws.com '' > < link rel= '' dns-prefetch '' href= '' htt\n",
            "images.githubusercontent.com/ '' > < link crossorigin= '' anonymous '' media= \n",
            "880f28fbbae0263fb1ef62b.css '' / > < link crossorigin= '' anonymous '' media= \n",
            "0c2e3f75ff70906eebe25d4.css '' / > < link crossorigin= '' anonymous '' media= \n"
          ],
          "name": "stdout"
        }
      ]
    },
    {
      "metadata": {
        "id": "KDtDD7pxRrGy",
        "colab_type": "code",
        "colab": {}
      },
      "cell_type": "code",
      "source": [
        "#I have found a way to import bs4. here I am going to clean the html text and play with Max's github page again\n",
        "url=\"https://github.com/tianliu\"\n",
        "raw=urlopen(url).read()\n",
        "raw=raw[:1200]\n",
        "raw=raw.decode(errors='replace')"
      ],
      "execution_count": 0,
      "outputs": []
    },
    {
      "metadata": {
        "id": "xjTxr2D1TM4y",
        "colab_type": "code",
        "colab": {
          "base_uri": "https://localhost:8080/",
          "height": 54
        },
        "outputId": "aa6ac9e5-7019-4c82-c3fd-b161c1ebef86"
      },
      "cell_type": "code",
      "source": [
        "from bs4 import BeautifulSoup\n",
        "soup = BeautifulSoup(raw)\n",
        "soup.get_text(raw)"
      ],
      "execution_count": 51,
      "outputs": [
        {
          "output_type": "execute_result",
          "data": {
            "text/plain": [
              "u'\\n\\n\\n\\n\\n<!DOCTYPE html>\\n<html lang=\"en\">\\n  <head>\\n    <meta charset=\"utf-8\">\\n  <link rel=\"dns-prefetch\" href=\"https://assets-cdn.github.com\">\\n  <link rel=\"dns-prefetch\" href=\"https://avatars0.githubusercontent.com\">\\n  <link rel=\"dns-prefetch\" href=\"https://avatars1.githubusercontent.com\">\\n  <link rel=\"dns-prefetch\" href=\"https://avatars2.githubusercontent.com\">\\n  <link rel=\"dns-prefetch\" href=\"https://avatars3.githubusercontent.com\">\\n  <link rel=\"dns-prefetch\" href=\"https://github-cloud.s3.amazonaws.com\">\\n  <link rel=\"dns-prefetch\" href=\"https://user-images.githubusercontent.com/\">\\n\\n\\n\\n  <link crossorigin=\"anonymous\" media=\"all\" integrity=\"sha512-mjQPRAh2Y9A0sPdZzipNfPO7PT4g06mk0uZs15DbL/vsNCRGx1uRzWVzls9MJCoy2yRNjaMmEVFKJDpCui00mA==\" rel=\"stylesheet\" href=\"https://assets-cdn.github.com/assets/frameworks-df973073d880f28fbbae0263fb1ef62b.css\" />\\n  <link crossorigin=\"anonymous\" media=\"all\" integrity=\"sha512-rjeOE/xCtXpC8TfozvSrAGuSUp04kr5KoJzQ1zNDuewiszwBvMP0UC9LoGtqjbggdbgxm/XI8w59AEJ7NkoaBw==\" rel=\"stylesheet\" href=\"https://assets-cdn.github.com/assets/github-d1ffae1e90c2e3f75ff70906eebe25d4.css\" />\\n  \\n  \\n  <link crossorigin=\"anonymous\" media=\"all\" integrity=\"sha512-oq9Re9Urx17JAhj6uI9t\\n\\n\\n\\n\\n<!DOCTYPE html>\\n<html lang=\"en\">\\n  <head>\\n    <meta charset=\"utf-8\">\\n  <link rel=\"dns-prefetch\" href=\"https://assets-cdn.github.com\">\\n  <link rel=\"dns-prefetch\" href=\"https://avatars0.githubusercontent.com\">\\n  <link rel=\"dns-prefetch\" href=\"https://avatars1.githubusercontent.com\">\\n  <link rel=\"dns-prefetch\" href=\"https://avatars2.githubusercontent.com\">\\n  <link rel=\"dns-prefetch\" href=\"https://avatars3.githubusercontent.com\">\\n  <link rel=\"dns-prefetch\" href=\"https://github-cloud.s3.amazonaws.com\">\\n  <link rel=\"dns-prefetch\" href=\"https://user-images.githubusercontent.com/\">\\n\\n\\n\\n  <link crossorigin=\"anonymous\" media=\"all\" integrity=\"sha512-mjQPRAh2Y9A0sPdZzipNfPO7PT4g06mk0uZs15DbL/vsNCRGx1uRzWVzls9MJCoy2yRNjaMmEVFKJDpCui00mA==\" rel=\"stylesheet\" href=\"https://assets-cdn.github.com/assets/frameworks-df973073d880f28fbbae0263fb1ef62b.css\" />\\n  <link crossorigin=\"anonymous\" media=\"all\" integrity=\"sha512-rjeOE/xCtXpC8TfozvSrAGuSUp04kr5KoJzQ1zNDuewiszwBvMP0UC9LoGtqjbggdbgxm/XI8w59AEJ7NkoaBw==\" rel=\"stylesheet\" href=\"https://assets-cdn.github.com/assets/github-d1ffae1e90c2e3f75ff70906eebe25d4.css\" />\\n  \\n  \\n  <link crossorigin=\"anonymous\" media=\"all\" integrity=\"sha512-oq9Re9Urx17JAhj6uI9t\\n\\n\\n\\n\\n<!DOCTYPE html>\\n<html lang=\"en\">\\n  <head>\\n    <meta charset=\"utf-8\">\\n  <link rel=\"dns-prefetch\" href=\"https://assets-cdn.github.com\">\\n  <link rel=\"dns-prefetch\" href=\"https://avatars0.githubusercontent.com\">\\n  <link rel=\"dns-prefetch\" href=\"https://avatars1.githubusercontent.com\">\\n  <link rel=\"dns-prefetch\" href=\"https://avatars2.githubusercontent.com\">\\n  <link rel=\"dns-prefetch\" href=\"https://avatars3.githubusercontent.com\">\\n  <link rel=\"dns-prefetch\" href=\"https://github-cloud.s3.amazonaws.com\">\\n  <link rel=\"dns-prefetch\" href=\"https://user-images.githubusercontent.com/\">\\n\\n\\n\\n  <link crossorigin=\"anonymous\" media=\"all\" integrity=\"sha512-mjQPRAh2Y9A0sPdZzipNfPO7PT4g06mk0uZs15DbL/vsNCRGx1uRzWVzls9MJCoy2yRNjaMmEVFKJDpCui00mA==\" rel=\"stylesheet\" href=\"https://assets-cdn.github.com/assets/frameworks-df973073d880f28fbbae0263fb1ef62b.css\" />\\n  <link crossorigin=\"anonymous\" media=\"all\" integrity=\"sha512-rjeOE/xCtXpC8TfozvSrAGuSUp04kr5KoJzQ1zNDuewiszwBvMP0UC9LoGtqjbggdbgxm/XI8w59AEJ7NkoaBw==\" rel=\"stylesheet\" href=\"https://assets-cdn.github.com/assets/github-d1ffae1e90c2e3f75ff70906eebe25d4.css\" />\\n  \\n  \\n  <link crossorigin=\"anonymous\" media=\"all\" integrity=\"sha512-oq9Re9Urx17JAhj6uI9t\\n\\n\\n\\n\\n<!DOCTYPE html>\\n<html lang=\"en\">\\n  <head>\\n    <meta charset=\"utf-8\">\\n  <link rel=\"dns-prefetch\" href=\"https://assets-cdn.github.com\">\\n  <link rel=\"dns-prefetch\" href=\"https://avatars0.githubusercontent.com\">\\n  <link rel=\"dns-prefetch\" href=\"https://avatars1.githubusercontent.com\">\\n  <link rel=\"dns-prefetch\" href=\"https://avatars2.githubusercontent.com\">\\n  <link rel=\"dns-prefetch\" href=\"https://avatars3.githubusercontent.com\">\\n  <link rel=\"dns-prefetch\" href=\"https://github-cloud.s3.amazonaws.com\">\\n  <link rel=\"dns-prefetch\" href=\"https://user-images.githubusercontent.com/\">\\n\\n\\n\\n  <link crossorigin=\"anonymous\" media=\"all\" integrity=\"sha512-mjQPRAh2Y9A0sPdZzipNfPO7PT4g06mk0uZs15DbL/vsNCRGx1uRzWVzls9MJCoy2yRNjaMmEVFKJDpCui00mA==\" rel=\"stylesheet\" href=\"https://assets-cdn.github.com/assets/frameworks-df973073d880f28fbbae0263fb1ef62b.css\" />\\n  <link crossorigin=\"anonymous\" media=\"all\" integrity=\"sha512-rjeOE/xCtXpC8TfozvSrAGuSUp04kr5KoJzQ1zNDuewiszwBvMP0UC9LoGtqjbggdbgxm/XI8w59AEJ7NkoaBw==\" rel=\"stylesheet\" href=\"https://assets-cdn.github.com/assets/github-d1ffae1e90c2e3f75ff70906eebe25d4.css\" />\\n  \\n  \\n  <link crossorigin=\"anonymous\" media=\"all\" integrity=\"sha512-oq9Re9Urx17JAhj6uI9t\\n\\n\\n\\n\\n<!DOCTYPE html>\\n<html lang=\"en\">\\n  <head>\\n    <meta charset=\"utf-8\">\\n  <link rel=\"dns-prefetch\" href=\"https://assets-cdn.github.com\">\\n  <link rel=\"dns-prefetch\" href=\"https://avatars0.githubusercontent.com\">\\n  <link rel=\"dns-prefetch\" href=\"https://avatars1.githubusercontent.com\">\\n  <link rel=\"dns-prefetch\" href=\"https://avatars2.githubusercontent.com\">\\n  <link rel=\"dns-prefetch\" href=\"https://avatars3.githubusercontent.com\">\\n  <link rel=\"dns-prefetch\" href=\"https://github-cloud.s3.amazonaws.com\">\\n  <link rel=\"dns-prefetch\" href=\"https://user-images.githubusercontent.com/\">\\n\\n\\n\\n  <link crossorigin=\"anonymous\" media=\"all\" integrity=\"sha512-mjQPRAh2Y9A0sPdZzipNfPO7PT4g06mk0uZs15DbL/vsNCRGx1uRzWVzls9MJCoy2yRNjaMmEVFKJDpCui00mA==\" rel=\"stylesheet\" href=\"https://assets-cdn.github.com/assets/frameworks-df973073d880f28fbbae0263fb1ef62b.css\" />\\n  <link crossorigin=\"anonymous\" media=\"all\" integrity=\"sha512-rjeOE/xCtXpC8TfozvSrAGuSUp04kr5KoJzQ1zNDuewiszwBvMP0UC9LoGtqjbggdbgxm/XI8w59AEJ7NkoaBw==\" rel=\"stylesheet\" href=\"https://assets-cdn.github.com/assets/github-d1ffae1e90c2e3f75ff70906eebe25d4.css\" />\\n  \\n  \\n  <link crossorigin=\"anonymous\" media=\"all\" integrity=\"sha512-oq9Re9Urx17JAhj6uI9t\\n\\n\\n\\n\\n<!DOCTYPE html>\\n<html lang=\"en\">\\n  <head>\\n    <meta charset=\"utf-8\">\\n  <link rel=\"dns-prefetch\" href=\"https://assets-cdn.github.com\">\\n  <link rel=\"dns-prefetch\" href=\"https://avatars0.githubusercontent.com\">\\n  <link rel=\"dns-prefetch\" href=\"https://avatars1.githubusercontent.com\">\\n  <link rel=\"dns-prefetch\" href=\"https://avatars2.githubusercontent.com\">\\n  <link rel=\"dns-prefetch\" href=\"https://avatars3.githubusercontent.com\">\\n  <link rel=\"dns-prefetch\" href=\"https://github-cloud.s3.amazonaws.com\">\\n  <link rel=\"dns-prefetch\" href=\"https://user-images.githubusercontent.com/\">\\n\\n\\n\\n  <link crossorigin=\"anonymous\" media=\"all\" integrity=\"sha512-mjQPRAh2Y9A0sPdZzipNfPO7PT4g06mk0uZs15DbL/vsNCRGx1uRzWVzls9MJCoy2yRNjaMmEVFKJDpCui00mA==\" rel=\"stylesheet\" href=\"https://assets-cdn.github.com/assets/frameworks-df973073d880f28fbbae0263fb1ef62b.css\" />\\n  <link crossorigin=\"anonymous\" media=\"all\" integrity=\"sha512-rjeOE/xCtXpC8TfozvSrAGuSUp04kr5KoJzQ1zNDuewiszwBvMP0UC9LoGtqjbggdbgxm/XI8w59AEJ7NkoaBw==\" rel=\"stylesheet\" href=\"https://assets-cdn.github.com/assets/github-d1ffae1e90c2e3f75ff70906eebe25d4.css\" />\\n  \\n  \\n  <link crossorigin=\"anonymous\" media=\"all\" integrity=\"sha512-oq9Re9Urx17JAhj6uI9t\\n\\n\\n\\n\\n<!DOCTYPE html>\\n<html lang=\"en\">\\n  <head>\\n    <meta charset=\"utf-8\">\\n  <link rel=\"dns-prefetch\" href=\"https://assets-cdn.github.com\">\\n  <link rel=\"dns-prefetch\" href=\"https://avatars0.githubusercontent.com\">\\n  <link rel=\"dns-prefetch\" href=\"https://avatars1.githubusercontent.com\">\\n  <link rel=\"dns-prefetch\" href=\"https://avatars2.githubusercontent.com\">\\n  <link rel=\"dns-prefetch\" href=\"https://avatars3.githubusercontent.com\">\\n  <link rel=\"dns-prefetch\" href=\"https://github-cloud.s3.amazonaws.com\">\\n  <link rel=\"dns-prefetch\" href=\"https://user-images.githubusercontent.com/\">\\n\\n\\n\\n  <link crossorigin=\"anonymous\" media=\"all\" integrity=\"sha512-mjQPRAh2Y9A0sPdZzipNfPO7PT4g06mk0uZs15DbL/vsNCRGx1uRzWVzls9MJCoy2yRNjaMmEVFKJDpCui00mA==\" rel=\"stylesheet\" href=\"https://assets-cdn.github.com/assets/frameworks-df973073d880f28fbbae0263fb1ef62b.css\" />\\n  <link crossorigin=\"anonymous\" media=\"all\" integrity=\"sha512-rjeOE/xCtXpC8TfozvSrAGuSUp04kr5KoJzQ1zNDuewiszwBvMP0UC9LoGtqjbggdbgxm/XI8w59AEJ7NkoaBw==\" rel=\"stylesheet\" href=\"https://assets-cdn.github.com/assets/github-d1ffae1e90c2e3f75ff70906eebe25d4.css\" />\\n  \\n  \\n  <link crossorigin=\"anonymous\" media=\"all\" integrity=\"sha512-oq9Re9Urx17JAhj6uI9t\\n\\n\\n\\n\\n<!DOCTYPE html>\\n<html lang=\"en\">\\n  <head>\\n    <meta charset=\"utf-8\">\\n  <link rel=\"dns-prefetch\" href=\"https://assets-cdn.github.com\">\\n  <link rel=\"dns-prefetch\" href=\"https://avatars0.githubusercontent.com\">\\n  <link rel=\"dns-prefetch\" href=\"https://avatars1.githubusercontent.com\">\\n  <link rel=\"dns-prefetch\" href=\"https://avatars2.githubusercontent.com\">\\n  <link rel=\"dns-prefetch\" href=\"https://avatars3.githubusercontent.com\">\\n  <link rel=\"dns-prefetch\" href=\"https://github-cloud.s3.amazonaws.com\">\\n  <link rel=\"dns-prefetch\" href=\"https://user-images.githubusercontent.com/\">\\n\\n\\n\\n  <link crossorigin=\"anonymous\" media=\"all\" integrity=\"sha512-mjQPRAh2Y9A0sPdZzipNfPO7PT4g06mk0uZs15DbL/vsNCRGx1uRzWVzls9MJCoy2yRNjaMmEVFKJDpCui00mA==\" rel=\"stylesheet\" href=\"https://assets-cdn.github.com/assets/frameworks-df973073d880f28fbbae0263fb1ef62b.css\" />\\n  <link crossorigin=\"anonymous\" media=\"all\" integrity=\"sha512-rjeOE/xCtXpC8TfozvSrAGuSUp04kr5KoJzQ1zNDuewiszwBvMP0UC9LoGtqjbggdbgxm/XI8w59AEJ7NkoaBw==\" rel=\"stylesheet\" href=\"https://assets-cdn.github.com/assets/github-d1ffae1e90c2e3f75ff70906eebe25d4.css\" />\\n  \\n  \\n  <link crossorigin=\"anonymous\" media=\"all\" integrity=\"sha512-oq9Re9Urx17JAhj6uI9t\\n\\n\\n\\n\\n<!DOCTYPE html>\\n<html lang=\"en\">\\n  <head>\\n    <meta charset=\"utf-8\">\\n  <link rel=\"dns-prefetch\" href=\"https://assets-cdn.github.com\">\\n  <link rel=\"dns-prefetch\" href=\"https://avatars0.githubusercontent.com\">\\n  <link rel=\"dns-prefetch\" href=\"https://avatars1.githubusercontent.com\">\\n  <link rel=\"dns-prefetch\" href=\"https://avatars2.githubusercontent.com\">\\n  <link rel=\"dns-prefetch\" href=\"https://avatars3.githubusercontent.com\">\\n  <link rel=\"dns-prefetch\" href=\"https://github-cloud.s3.amazonaws.com\">\\n  <link rel=\"dns-prefetch\" href=\"https://user-images.githubusercontent.com/\">\\n\\n\\n\\n  <link crossorigin=\"anonymous\" media=\"all\" integrity=\"sha512-mjQPRAh2Y9A0sPdZzipNfPO7PT4g06mk0uZs15DbL/vsNCRGx1uRzWVzls9MJCoy2yRNjaMmEVFKJDpCui00mA==\" rel=\"stylesheet\" href=\"https://assets-cdn.github.com/assets/frameworks-df973073d880f28fbbae0263fb1ef62b.css\" />\\n  <link crossorigin=\"anonymous\" media=\"all\" integrity=\"sha512-rjeOE/xCtXpC8TfozvSrAGuSUp04kr5KoJzQ1zNDuewiszwBvMP0UC9LoGtqjbggdbgxm/XI8w59AEJ7NkoaBw==\" rel=\"stylesheet\" href=\"https://assets-cdn.github.com/assets/github-d1ffae1e90c2e3f75ff70906eebe25d4.css\" />\\n  \\n  \\n  <link crossorigin=\"anonymous\" media=\"all\" integrity=\"sha512-oq9Re9Urx17JAhj6uI9t\\n\\n\\n\\n\\n<!DOCTYPE html>\\n<html lang=\"en\">\\n  <head>\\n    <meta charset=\"utf-8\">\\n  <link rel=\"dns-prefetch\" href=\"https://assets-cdn.github.com\">\\n  <link rel=\"dns-prefetch\" href=\"https://avatars0.githubusercontent.com\">\\n  <link rel=\"dns-prefetch\" href=\"https://avatars1.githubusercontent.com\">\\n  <link rel=\"dns-prefetch\" href=\"https://avatars2.githubusercontent.com\">\\n  <link rel=\"dns-prefetch\" href=\"https://avatars3.githubusercontent.com\">\\n  <link rel=\"dns-prefetch\" href=\"https://github-cloud.s3.amazonaws.com\">\\n  <link rel=\"dns-prefetch\" href=\"https://user-images.githubusercontent.com/\">\\n\\n\\n\\n  <link crossorigin=\"anonymous\" media=\"all\" integrity=\"sha512-mjQPRAh2Y9A0sPdZzipNfPO7PT4g06mk0uZs15DbL/vsNCRGx1uRzWVzls9MJCoy2yRNjaMmEVFKJDpCui00mA==\" rel=\"stylesheet\" href=\"https://assets-cdn.github.com/assets/frameworks-df973073d880f28fbbae0263fb1ef62b.css\" />\\n  <link crossorigin=\"anonymous\" media=\"all\" integrity=\"sha512-rjeOE/xCtXpC8TfozvSrAGuSUp04kr5KoJzQ1zNDuewiszwBvMP0UC9LoGtqjbggdbgxm/XI8w59AEJ7NkoaBw==\" rel=\"stylesheet\" href=\"https://assets-cdn.github.com/assets/github-d1ffae1e90c2e3f75ff70906eebe25d4.css\" />\\n  \\n  \\n  <link crossorigin=\"anonymous\" media=\"all\" integrity=\"sha512-oq9Re9Urx17JAhj6uI9t\\n\\n\\n\\n\\n<!DOCTYPE html>\\n<html lang=\"en\">\\n  <head>\\n    <meta charset=\"utf-8\">\\n  <link rel=\"dns-prefetch\" href=\"https://assets-cdn.github.com\">\\n  <link rel=\"dns-prefetch\" href=\"https://avatars0.githubusercontent.com\">\\n  <link rel=\"dns-prefetch\" href=\"https://avatars1.githubusercontent.com\">\\n  <link rel=\"dns-prefetch\" href=\"https://avatars2.githubusercontent.com\">\\n  <link rel=\"dns-prefetch\" href=\"https://avatars3.githubusercontent.com\">\\n  <link rel=\"dns-prefetch\" href=\"https://github-cloud.s3.amazonaws.com\">\\n  <link rel=\"dns-prefetch\" href=\"https://user-images.githubusercontent.com/\">\\n\\n\\n\\n  <link crossorigin=\"anonymous\" media=\"all\" integrity=\"sha512-mjQPRAh2Y9A0sPdZzipNfPO7PT4g06mk0uZs15DbL/vsNCRGx1uRzWVzls9MJCoy2yRNjaMmEVFKJDpCui00mA==\" rel=\"stylesheet\" href=\"https://assets-cdn.github.com/assets/frameworks-df973073d880f28fbbae0263fb1ef62b.css\" />\\n  <link crossorigin=\"anonymous\" media=\"all\" integrity=\"sha512-rjeOE/xCtXpC8TfozvSrAGuSUp04kr5KoJzQ1zNDuewiszwBvMP0UC9LoGtqjbggdbgxm/XI8w59AEJ7NkoaBw==\" rel=\"stylesheet\" href=\"https://assets-cdn.github.com/assets/github-d1ffae1e90c2e3f75ff70906eebe25d4.css\" />\\n  \\n  \\n  <link crossorigin=\"anonymous\" media=\"all\" integrity=\"sha512-oq9Re9Urx17JAhj6uI9t\\n\\n\\n\\n\\n<!DOCTYPE html>\\n<html lang=\"en\">\\n  <head>\\n    <meta charset=\"utf-8\">\\n  <link rel=\"dns-prefetch\" href=\"https://assets-cdn.github.com\">\\n  <link rel=\"dns-prefetch\" href=\"https://avatars0.githubusercontent.com\">\\n  <link rel=\"dns-prefetch\" href=\"https://avatars1.githubusercontent.com\">\\n  <link rel=\"dns-prefetch\" href=\"https://avatars2.githubusercontent.com\">\\n  <link rel=\"dns-prefetch\" href=\"https://avatars3.githubusercontent.com\">\\n  <link rel=\"dns-prefetch\" href=\"https://github-cloud.s3.amazonaws.com\">\\n  <link rel=\"dns-prefetch\" href=\"https://user-images.githubusercontent.com/\">\\n\\n\\n\\n  <link crossorigin=\"anonymous\" media=\"all\" integrity=\"sha512-mjQPRAh2Y9A0sPdZzipNfPO7PT4g06mk0uZs15DbL/vsNCRGx1uRzWVzls9MJCoy2yRNjaMmEVFKJDpCui00mA==\" rel=\"stylesheet\" href=\"https://assets-cdn.github.com/assets/frameworks-df973073d880f28fbbae0263fb1ef62b.css\" />\\n  <link crossorigin=\"anonymous\" media=\"all\" integrity=\"sha512-rjeOE/xCtXpC8TfozvSrAGuSUp04kr5KoJzQ1zNDuewiszwBvMP0UC9LoGtqjbggdbgxm/XI8w59AEJ7NkoaBw==\" rel=\"stylesheet\" href=\"https://assets-cdn.github.com/assets/github-d1ffae1e90c2e3f75ff70906eebe25d4.css\" />\\n  \\n  \\n  <link crossorigin=\"anonymous\" media=\"all\" integrity=\"sha512-oq9Re9Urx17JAhj6uI9t\\n\\n\\n\\n\\n<!DOCTYPE html>\\n<html lang=\"en\">\\n  <head>\\n    <meta charset=\"utf-8\">\\n  <link rel=\"dns-prefetch\" href=\"https://assets-cdn.github.com\">\\n  <link rel=\"dns-prefetch\" href=\"https://avatars0.githubusercontent.com\">\\n  <link rel=\"dns-prefetch\" href=\"https://avatars1.githubusercontent.com\">\\n  <link rel=\"dns-prefetch\" href=\"https://avatars2.githubusercontent.com\">\\n  <link rel=\"dns-prefetch\" href=\"https://avatars3.githubusercontent.com\">\\n  <link rel=\"dns-prefetch\" href=\"https://github-cloud.s3.amazonaws.com\">\\n  <link rel=\"dns-prefetch\" href=\"https://user-images.githubusercontent.com/\">\\n\\n\\n\\n  <link crossorigin=\"anonymous\" media=\"all\" integrity=\"sha512-mjQPRAh2Y9A0sPdZzipNfPO7PT4g06mk0uZs15DbL/vsNCRGx1uRzWVzls9MJCoy2yRNjaMmEVFKJDpCui00mA==\" rel=\"stylesheet\" href=\"https://assets-cdn.github.com/assets/frameworks-df973073d880f28fbbae0263fb1ef62b.css\" />\\n  <link crossorigin=\"anonymous\" media=\"all\" integrity=\"sha512-rjeOE/xCtXpC8TfozvSrAGuSUp04kr5KoJzQ1zNDuewiszwBvMP0UC9LoGtqjbggdbgxm/XI8w59AEJ7NkoaBw==\" rel=\"stylesheet\" href=\"https://assets-cdn.github.com/assets/github-d1ffae1e90c2e3f75ff70906eebe25d4.css\" />\\n  \\n  \\n  <link crossorigin=\"anonymous\" media=\"all\" integrity=\"sha512-oq9Re9Urx17JAhj6uI9t\\n  \\n  \\n  <link crossorigin=\"anonymous\" media=\"all\" integrity=\"sha512-oq9Re9Urx17JAhj6uI9t'"
            ]
          },
          "metadata": {
            "tags": []
          },
          "execution_count": 51
        }
      ]
    },
    {
      "metadata": {
        "id": "SpLMpnmATQpy",
        "colab_type": "code",
        "colab": {}
      },
      "cell_type": "code",
      "source": [
        "tokens=nltk.word_tokenize(raw)"
      ],
      "execution_count": 0,
      "outputs": []
    },
    {
      "metadata": {
        "id": "4W-DhjoYUY7h",
        "colab_type": "code",
        "colab": {
          "base_uri": "https://localhost:8080/",
          "height": 3112
        },
        "outputId": "7d2654cd-f188-46b6-c3cc-d8ec0f48bca2"
      },
      "cell_type": "code",
      "source": [
        "tokens"
      ],
      "execution_count": 53,
      "outputs": [
        {
          "output_type": "execute_result",
          "data": {
            "text/plain": [
              "[u'<',\n",
              " u'!',\n",
              " u'DOCTYPE',\n",
              " u'html',\n",
              " u'>',\n",
              " u'<',\n",
              " u'html',\n",
              " u'lang=',\n",
              " u\"''\",\n",
              " u'en',\n",
              " u\"''\",\n",
              " u'>',\n",
              " u'<',\n",
              " u'head',\n",
              " u'>',\n",
              " u'<',\n",
              " u'meta',\n",
              " u'charset=',\n",
              " u\"''\",\n",
              " u'utf-8',\n",
              " u\"''\",\n",
              " u'>',\n",
              " u'<',\n",
              " u'link',\n",
              " u'rel=',\n",
              " u\"''\",\n",
              " u'dns-prefetch',\n",
              " u\"''\",\n",
              " u'href=',\n",
              " u\"''\",\n",
              " u'https',\n",
              " u':',\n",
              " u'//assets-cdn.github.com',\n",
              " u\"''\",\n",
              " u'>',\n",
              " u'<',\n",
              " u'link',\n",
              " u'rel=',\n",
              " u\"''\",\n",
              " u'dns-prefetch',\n",
              " u\"''\",\n",
              " u'href=',\n",
              " u\"''\",\n",
              " u'https',\n",
              " u':',\n",
              " u'//avatars0.githubusercontent.com',\n",
              " u\"''\",\n",
              " u'>',\n",
              " u'<',\n",
              " u'link',\n",
              " u'rel=',\n",
              " u\"''\",\n",
              " u'dns-prefetch',\n",
              " u\"''\",\n",
              " u'href=',\n",
              " u\"''\",\n",
              " u'https',\n",
              " u':',\n",
              " u'//avatars1.githubusercontent.com',\n",
              " u\"''\",\n",
              " u'>',\n",
              " u'<',\n",
              " u'link',\n",
              " u'rel=',\n",
              " u\"''\",\n",
              " u'dns-prefetch',\n",
              " u\"''\",\n",
              " u'href=',\n",
              " u\"''\",\n",
              " u'https',\n",
              " u':',\n",
              " u'//avatars2.githubusercontent.com',\n",
              " u\"''\",\n",
              " u'>',\n",
              " u'<',\n",
              " u'link',\n",
              " u'rel=',\n",
              " u\"''\",\n",
              " u'dns-prefetch',\n",
              " u\"''\",\n",
              " u'href=',\n",
              " u\"''\",\n",
              " u'https',\n",
              " u':',\n",
              " u'//avatars3.githubusercontent.com',\n",
              " u\"''\",\n",
              " u'>',\n",
              " u'<',\n",
              " u'link',\n",
              " u'rel=',\n",
              " u\"''\",\n",
              " u'dns-prefetch',\n",
              " u\"''\",\n",
              " u'href=',\n",
              " u\"''\",\n",
              " u'https',\n",
              " u':',\n",
              " u'//github-cloud.s3.amazonaws.com',\n",
              " u\"''\",\n",
              " u'>',\n",
              " u'<',\n",
              " u'link',\n",
              " u'rel=',\n",
              " u\"''\",\n",
              " u'dns-prefetch',\n",
              " u\"''\",\n",
              " u'href=',\n",
              " u\"''\",\n",
              " u'https',\n",
              " u':',\n",
              " u'//user-images.githubusercontent.com/',\n",
              " u\"''\",\n",
              " u'>',\n",
              " u'<',\n",
              " u'link',\n",
              " u'crossorigin=',\n",
              " u\"''\",\n",
              " u'anonymous',\n",
              " u\"''\",\n",
              " u'media=',\n",
              " u\"''\",\n",
              " u'all',\n",
              " u\"''\",\n",
              " u'integrity=',\n",
              " u\"''\",\n",
              " u'sha512-mjQPRAh2Y9A0sPdZzipNfPO7PT4g06mk0uZs15DbL/vsNCRGx1uRzWVzls9MJCoy2yRNjaMmEVFKJDpCui00mA==',\n",
              " u\"''\",\n",
              " u'rel=',\n",
              " u\"''\",\n",
              " u'stylesheet',\n",
              " u\"''\",\n",
              " u'href=',\n",
              " u\"''\",\n",
              " u'https',\n",
              " u':',\n",
              " u'//assets-cdn.github.com/assets/frameworks-df973073d880f28fbbae0263fb1ef62b.css',\n",
              " u\"''\",\n",
              " u'/',\n",
              " u'>',\n",
              " u'<',\n",
              " u'link',\n",
              " u'crossorigin=',\n",
              " u\"''\",\n",
              " u'anonymous',\n",
              " u\"''\",\n",
              " u'media=',\n",
              " u\"''\",\n",
              " u'all',\n",
              " u\"''\",\n",
              " u'integrity=',\n",
              " u\"''\",\n",
              " u'sha512-rjeOE/xCtXpC8TfozvSrAGuSUp04kr5KoJzQ1zNDuewiszwBvMP0UC9LoGtqjbggdbgxm/XI8w59AEJ7NkoaBw==',\n",
              " u\"''\",\n",
              " u'rel=',\n",
              " u\"''\",\n",
              " u'stylesheet',\n",
              " u\"''\",\n",
              " u'href=',\n",
              " u\"''\",\n",
              " u'https',\n",
              " u':',\n",
              " u'//assets-cdn.github.com/assets/github-d1ffae1e90c2e3f75ff70906eebe25d4.css',\n",
              " u\"''\",\n",
              " u'/',\n",
              " u'>',\n",
              " u'<',\n",
              " u'link',\n",
              " u'crossorigin=',\n",
              " u\"''\",\n",
              " u'anonymous',\n",
              " u\"''\",\n",
              " u'media=',\n",
              " u\"''\",\n",
              " u'all',\n",
              " u\"''\",\n",
              " u'integrity=',\n",
              " u\"''\",\n",
              " u'sha512-oq9Re9Urx17JAhj6uI9t']"
            ]
          },
          "metadata": {
            "tags": []
          },
          "execution_count": 53
        }
      ]
    },
    {
      "metadata": {
        "id": "HSLvdGNRVyJ2",
        "colab_type": "text"
      },
      "cell_type": "markdown",
      "source": [
        "well I can see some differences. next time maybe I should choose a more suitablt website instead of a github homepage for text processing."
      ]
    }
  ]
}